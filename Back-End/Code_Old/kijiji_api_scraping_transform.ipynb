{
 "cells": [
  {
   "cell_type": "code",
   "execution_count": 2,
   "metadata": {},
   "outputs": [],
   "source": [
    "#Dependencies\n",
    "import timeit\n",
    "from tqdm import tqdm\n",
    "import pickle\n",
    "import requests\n",
    "from bs4 import BeautifulSoup as bs\n",
    "from selenium import webdriver\n",
    "import time\n",
    "import pandas as pd\n",
    "import missingno\n",
    "import re\n",
    "from config import * \n",
    "#from harvesine_distance import harvesine_distance\n",
    "from datetime import datetime"
   ]
  },
  {
   "cell_type": "markdown",
   "metadata": {},
   "source": [
    "# Extract"
   ]
  },
  {
   "cell_type": "markdown",
   "metadata": {},
   "source": [
    "## Get urls of the listing for the 3 rental categories"
   ]
  },
  {
   "cell_type": "code",
   "execution_count": 673,
   "metadata": {},
   "outputs": [],
   "source": [
    "url_longTerm_rental=\"https://www.kijiji.ca/b-apartments-condos/city-of-toronto\"\n",
    "url_longTerm_base=\"/c37l1700273\"\n",
    "pageNos = '/page-'\n",
    "url_shortTerm_rental=\"https://www.kijiji.ca/b-short-term-rental/city-of-toronto\"\n",
    "url_shortTerm_base=\"/c42l1700273\"\n",
    "url_roomRoomates_rental=\"https://www.kijiji.ca/b-room-rental-roommate/city-of-toronto\"\n",
    "url_roomRoomates_base=\"/c36l1700273\"\n",
    "error_list=[]"
   ]
  },
  {
   "cell_type": "code",
   "execution_count": 674,
   "metadata": {},
   "outputs": [],
   "source": [
    "def kijiji_getUrls(url, base):\n",
    "    url_list=[]\n",
    "    for i in tqdm(range(10)):\n",
    "        url_final = url+pageNos+str(i)+base\n",
    "        response = requests.get(url_final)\n",
    "        soup = bs(response.text, \"html.parser\")\n",
    "        results= soup.find_all(\"div\", class_=\"search-item\")\n",
    "        for r in results:\n",
    "            url_list.append(\"https://www.kijiji.ca\"+r.a[\"href\"])\n",
    "    return(url_list)"
   ]
  },
  {
   "cell_type": "code",
   "execution_count": 223,
   "metadata": {},
   "outputs": [],
   "source": [
    "url_list_longterm=kijiji_getUrls(url_longTerm_rental, url_longTerm_base)\n"
   ]
  },
  {
   "cell_type": "code",
   "execution_count": 224,
   "metadata": {},
   "outputs": [],
   "source": [
    "with open('kijiji_longtermRental.pkl', 'wb') as f:\n",
    "    pickle.dump(url_list_longterm, f)\n",
    "\n",
    "#with open('kijiji_longtermRental.pkl', 'rb') as f:\n",
    "    #kijiji_list_longterm = pickle.load(f)"
   ]
  },
  {
   "cell_type": "code",
   "execution_count": 225,
   "metadata": {},
   "outputs": [],
   "source": [
    "url_list_shortterm=kijiji_getUrls(url_shortTerm_rental, url_shortTerm_base)\n",
    "with open('kijiji_shorttermRental.pkl', 'wb') as f:\n",
    "    pickle.dump(url_list_shortterm, f)\n",
    "\n",
    "#with open('kijiji_shorttermRental.pkl', 'rb') as f:\n",
    "    #kijiji_list_shorttermRental = pickle.load(f)\n",
    "\n",
    "url_list_roomRoomates=kijiji_getUrls(url_roomRoomates_rental, url_roomRoomates_base)\n",
    "with open('kijiji_roomRoomatesRental.pkl', 'wb') as f:\n",
    "    pickle.dump(url_list_roomRoomates, f)\n",
    "\n",
    "#with open('kijiji_roomRoomatesRental.pkl', 'rb') as f:\n",
    "    #kijiji_list_roomRoomatesRental = pickle.load(f)"
   ]
  },
  {
   "cell_type": "code",
   "execution_count": 226,
   "metadata": {},
   "outputs": [],
   "source": [
    "url=\"https://www.kijiji.ca/v-apartments-condos/city-of-toronto/renovated-bachelor-for-rent-forest-hill/1508850924\"\n",
    "url2=\"https://www.kijiji.ca/v-apartments-condos/city-of-toronto/luxury-condo-2-bdrm-2-baths-yonge-st-clair/1516651347\"\n",
    "url3=\"https://www.kijiji.ca/v-room-rental-roommate/city-of-toronto/600-incredible-discount-200-less-per-month-from-august-15/1517738651\"\n",
    "url4= \"https://www.kijiji.ca/v-short-term-rental/city-of-toronto/downtown-fully-furnished-yonge-front/1517081941\""
   ]
  },
  {
   "cell_type": "markdown",
   "metadata": {},
   "source": [
    "## Scrape each listing in each url"
   ]
  },
  {
   "cell_type": "code",
   "execution_count": 227,
   "metadata": {},
   "outputs": [
    {
     "ename": "IndentationError",
     "evalue": "unexpected indent (<ipython-input-227-0cbcde97fae7>, line 11)",
     "output_type": "error",
     "traceback": [
      "\u001b[0;36m  File \u001b[0;32m\"<ipython-input-227-0cbcde97fae7>\"\u001b[0;36m, line \u001b[0;32m11\u001b[0m\n\u001b[0;31m    ad_id= soup.find(\"a\", class_=\"adId-4111206830\").text.strip()\u001b[0m\n\u001b[0m    ^\u001b[0m\n\u001b[0;31mIndentationError\u001b[0m\u001b[0;31m:\u001b[0m unexpected indent\n"
     ]
    }
   ],
   "source": [
    "def kijiji_url_scrape_LongTerm(kijiji_url):\n",
    "    \n",
    "    #driver = webdriver.Chrome()\n",
    "    #driver.get(kijiji_url)\n",
    "    response = requests.get(kijiji_url)\n",
    "    soup = bs(response.text, \"html.parser\")\n",
    "    time.sleep(1)\n",
    "    #page_source = driver.page_source\n",
    "    #soup=bs(page_source, \"html.parser\")\n",
    "    \n",
    "        ad_id= soup.find(\"a\", class_=\"adId-4111206830\").text.strip()\n",
    "    \n",
    "        images=[]\n",
    "        img_result=soup.find_all(\"img\", class_=\"heroImageForPrint-1152389693\")\n",
    "        for img in img_result:\n",
    "            images.append(img[\"src\"])\n",
    "        title= soup.find(\"h1\", class_=\"title-2323565163\").text.strip()\n",
    "        address= soup.find(\"span\", class_=\"address-3617944557\").text.strip()\n",
    "        price= soup.find(\"div\", class_=\"priceWrapper-1165431705\").span.text.strip()\n",
    "        post_published_date= soup.find(\"div\", class_=\"datePosted-383942873\").time[\"datetime\"]\n",
    "        rental_type= soup.find_all(\"span\", class_=\"noLabelValue-3861810455\")[0].text.strip()\n",
    "        bedroom_no= soup.find_all(\"span\", class_=\"noLabelValue-3861810455\")[1].text.strip()\n",
    "        bathroom_no= soup.find_all(\"span\", class_=\"noLabelValue-3861810455\")[2].text.strip()\n",
    "        list_results= soup.find_all(\"ul\", class_=\"list-1757374920\")[1]\n",
    "\n",
    "        utilities_list=[]\n",
    "        utilities= list_results.find_all(\"svg\")\n",
    "        for util in utilities:\n",
    "            utilities_list.append(util[\"aria-label\"])\n",
    "        if(len(utilities_list)==0):\n",
    "            utilities_list.append(\"Not Included\")\n",
    "        wifi_and_more=soup.find_all(\"ul\", class_=\"list-1757374920\")[2].text.strip()\n",
    "\n",
    "\n",
    "        appliances=[]\n",
    "        results= soup.find_all(\"ul\", class_=\"list-1757374920\")[4]\n",
    "        for r in results:\n",
    "            if(r.text):\n",
    "                appliances.append(r.text.strip())\n",
    "\n",
    "        personal_outdoor_space= soup.find_all(\"ul\", class_=\"list-1757374920\")[5].text.strip()\n",
    "\n",
    "        amenities= []\n",
    "        results= soup.find_all(\"ul\", class_=\"list-1757374920\")[7]\n",
    "        for r in results:\n",
    "            if(r.text):\n",
    "                amenities.append(r.text.strip())\n",
    "        description= soup.find(\"div\", class_=\"descriptionContainer-3544745383\").p.text.strip()\n",
    "\n",
    "        dict_attributes={\n",
    "            'ad_id': ad_id,\n",
    "            'images': images,\n",
    "            'title': title,\n",
    "            'address':address,\n",
    "            'price': price,\n",
    "            'post_published_date': post_published_date,\n",
    "            'rental_type': rental_type,\n",
    "            'bedroom_no': bedroom_no,\n",
    "            'bathroom_no': bathroom_no,\n",
    "            'utilities_list': utilities_list,\n",
    "            'wifi_and_more': wifi_and_more,\n",
    "            'appliances':appliances,\n",
    "            'personal_outdoor_space': personal_outdoor_space,\n",
    "            'amenities': amenities,\n",
    "            'description': description,\n",
    "            'url': kijiji_url\n",
    "        }\n",
    "\n",
    "        dt_list=soup.find_all(\"dt\")\n",
    "        for i in range(0,len(dt_list)):\n",
    "            dict_attributes[soup.find_all(\"dt\")[i].text]=soup.find_all(\"dd\")[i].text\n",
    "    except:\n",
    "        #error_list.append(kijiji_url)\n",
    "        return(kijiji_url)\n",
    "    return(dict_attributes)\n"
   ]
  },
  {
   "cell_type": "code",
   "execution_count": 228,
   "metadata": {},
   "outputs": [],
   "source": [
    "#kijiji_list_scrape_LongTerm(url2)"
   ]
  },
  {
   "cell_type": "code",
   "execution_count": 229,
   "metadata": {},
   "outputs": [],
   "source": [
    "def kijiji_url_scrape_other(kijiji_url):\n",
    "    try:\n",
    "        #driver = webdriver.Chrome()\n",
    "        #driver.get(kijiji_url)\n",
    "        response = requests.get(kijiji_url)\n",
    "        soup = bs(response.text, \"html.parser\")\n",
    "        time.sleep(1)\n",
    "        #page_source = driver.page_source\n",
    "        #soup=bs(page_source, \"html.parser\")\n",
    "\n",
    "        ad_id= soup.find(\"a\", class_=\"adId-4111206830\").text.strip()\n",
    "        \n",
    "        images=[]\n",
    "        img_result=soup.find_all(\"img\", class_=\"heroImageForPrint-1152389693\")\n",
    "        for img in img_result:\n",
    "            images.append(img[\"src\"])\n",
    "            \n",
    "        title= soup.find(\"h1\", class_=\"title-2323565163\").text.strip()\n",
    "        address= soup.find(\"span\", class_=\"address-3617944557\").text.strip()\n",
    "        price= soup.find(\"span\", class_=\"currentPrice-2842943473\").span.text.strip()\n",
    "        post_published_date= soup.find(\"div\", class_=\"datePosted-383942873\").time[\"datetime\"]\n",
    "        rental_type= soup.find(\"h1\", class_=\"crumbH1-3559413592\").span.text.strip()\n",
    "        description= soup.find(\"div\", class_=\"descriptionContainer-3544745383\").p.text.strip()\n",
    "        dict_attributes={\n",
    "            'ad_id': ad_id,\n",
    "            'images': images,\n",
    "            'title': title,\n",
    "            'address':address,\n",
    "            'price': price,\n",
    "            'post_published_date': post_published_date,\n",
    "            'rental_type': rental_type,\n",
    "            'description': description,\n",
    "            'url': kijiji_url\n",
    "        }\n",
    "\n",
    "        dt_list=soup.find_all(\"dt\")\n",
    "        for i in range(0,len(dt_list)):\n",
    "            dict_attributes[soup.find_all(\"dt\")[i].text]=soup.find_all(\"dd\")[i].text\n",
    "    except:\n",
    "        #error_list.append(kijiji_url)\n",
    "        return(kijiji_url)\n",
    "    return(dict_attributes)\n"
   ]
  },
  {
   "cell_type": "code",
   "execution_count": 230,
   "metadata": {},
   "outputs": [],
   "source": [
    "def kijiji_scrape():\n",
    "    records=[]\n",
    "    for url in tqdm(kijiji_list_longterm):\n",
    "        records.append(kijiji_url_scrape_LongTerm(url))\n",
    "        \n",
    "    for url in tqdm(kijiji_list_shorttermRental):\n",
    "        records.append(kijiji_url_scrape_other(url))\n",
    "        \n",
    "    for url in tqdm(kijiji_list_roomRoomatesRental):\n",
    "        records.append(kijiji_url_scrape_other(url))\n",
    "    return(records)"
   ]
  },
  {
   "cell_type": "code",
   "execution_count": 231,
   "metadata": {},
   "outputs": [],
   "source": [
    "#records= kijiji_scrape()"
   ]
  },
  {
   "cell_type": "markdown",
   "metadata": {},
   "source": [
    "# Transform"
   ]
  },
  {
   "cell_type": "code",
   "execution_count": 3,
   "metadata": {},
   "outputs": [],
   "source": [
    "#with open('kijiji_housing_enriched.pkl', 'wb') as f:\n",
    "#    pickle.dump(records, f)\n",
    "\n",
    "with open('kijiji_housing_enriched.pkl', 'rb') as f:\n",
    "    kijiji_renting_data = pickle.load(f)"
   ]
  },
  {
   "cell_type": "code",
   "execution_count": 4,
   "metadata": {},
   "outputs": [],
   "source": [
    "kijiji_clean_data=[]\n",
    "for listing in kijiji_renting_data:\n",
    "    if str(type(listing))!=\"<class 'str'>\":\n",
    "        kijiji_clean_data.append(listing)"
   ]
  },
  {
   "cell_type": "code",
   "execution_count": 5,
   "metadata": {},
   "outputs": [
    {
     "data": {
      "text/html": [
       "<div>\n",
       "<style scoped>\n",
       "    .dataframe tbody tr th:only-of-type {\n",
       "        vertical-align: middle;\n",
       "    }\n",
       "\n",
       "    .dataframe tbody tr th {\n",
       "        vertical-align: top;\n",
       "    }\n",
       "\n",
       "    .dataframe thead th {\n",
       "        text-align: right;\n",
       "    }\n",
       "</style>\n",
       "<table border=\"1\" class=\"dataframe\">\n",
       "  <thead>\n",
       "    <tr style=\"text-align: right;\">\n",
       "      <th></th>\n",
       "      <th>ad_id</th>\n",
       "      <th>images</th>\n",
       "      <th>title</th>\n",
       "      <th>address</th>\n",
       "      <th>price</th>\n",
       "      <th>post_published_date</th>\n",
       "      <th>rental_type</th>\n",
       "      <th>bedroom_no</th>\n",
       "      <th>bathroom_no</th>\n",
       "      <th>utilities_list</th>\n",
       "      <th>...</th>\n",
       "      <th>Agreement Type</th>\n",
       "      <th>Move-In Date</th>\n",
       "      <th>Pet Friendly</th>\n",
       "      <th>Size (sqft)</th>\n",
       "      <th>Furnished</th>\n",
       "      <th>Air Conditioning</th>\n",
       "      <th>Smoking Permitted</th>\n",
       "      <th>Barrier-free Entrances and Ramps</th>\n",
       "      <th>Visual Aids</th>\n",
       "      <th>Accessible Washrooms in Suite</th>\n",
       "    </tr>\n",
       "  </thead>\n",
       "  <tbody>\n",
       "    <tr>\n",
       "      <th>0</th>\n",
       "      <td>1515948914</td>\n",
       "      <td>[https://i.ebayimg.com/00/s/NzY4WDEzNjU=/z/K40...</td>\n",
       "      <td>Parkway Forest Towers - 2 Bedroom, 1 Bathroom ...</td>\n",
       "      <td>100 Parkway Forest Drive, Toronto, ON, M2J 1L6</td>\n",
       "      <td>$2,209.00</td>\n",
       "      <td>2020-08-13T22:34:37.000Z</td>\n",
       "      <td>Apartment</td>\n",
       "      <td>Bedrooms: 2</td>\n",
       "      <td>Bathrooms: 1</td>\n",
       "      <td>[No: Hydro, Yes: Heat, Yes: Water]</td>\n",
       "      <td>...</td>\n",
       "      <td>1 Year</td>\n",
       "      <td>August 13, 2020</td>\n",
       "      <td>Yes</td>\n",
       "      <td>940</td>\n",
       "      <td>No</td>\n",
       "      <td>No</td>\n",
       "      <td>Yes</td>\n",
       "      <td>NaN</td>\n",
       "      <td>NaN</td>\n",
       "      <td>NaN</td>\n",
       "    </tr>\n",
       "    <tr>\n",
       "      <th>1</th>\n",
       "      <td>1505801433</td>\n",
       "      <td>[https://i.ebayimg.com/00/s/NzY4WDExNTI=/z/jms...</td>\n",
       "      <td>Open House August 12th from 7:00pm to 9:00pm w...</td>\n",
       "      <td>70 Spadina  Road, Toronto, ON, M5R 2T6</td>\n",
       "      <td>$1,587.00</td>\n",
       "      <td>2020-08-13T14:02:28.000Z</td>\n",
       "      <td>Apartment</td>\n",
       "      <td>Bedrooms: Bachelor/Studio</td>\n",
       "      <td>Bathrooms: 1</td>\n",
       "      <td>[No: Hydro, Yes: Heat, Yes: Water]</td>\n",
       "      <td>...</td>\n",
       "      <td>1 Year</td>\n",
       "      <td>September 1, 2020</td>\n",
       "      <td>Yes</td>\n",
       "      <td>Not Available</td>\n",
       "      <td>No</td>\n",
       "      <td>No</td>\n",
       "      <td>Outdoors only</td>\n",
       "      <td>NaN</td>\n",
       "      <td>NaN</td>\n",
       "      <td>NaN</td>\n",
       "    </tr>\n",
       "    <tr>\n",
       "      <th>2</th>\n",
       "      <td>1502301137</td>\n",
       "      <td>[https://i.ebayimg.com/00/s/NjAwWDgwMA==/z/cIk...</td>\n",
       "      <td>One, two bedroom large unit from $1650 , Hydro...</td>\n",
       "      <td>40 Tuxedo Ct, Scarborough, ON M1G 3S7, Canada</td>\n",
       "      <td>$1,650.00</td>\n",
       "      <td>2020-07-17T14:08:19.000Z</td>\n",
       "      <td>Apartment</td>\n",
       "      <td>Bedrooms: 1</td>\n",
       "      <td>Bathrooms: 1</td>\n",
       "      <td>[No: Hydro, Yes: Heat, Yes: Water]</td>\n",
       "      <td>...</td>\n",
       "      <td>1 Year</td>\n",
       "      <td>July 24, 2020</td>\n",
       "      <td>Limited</td>\n",
       "      <td>750</td>\n",
       "      <td>No</td>\n",
       "      <td>No</td>\n",
       "      <td>Outdoors only</td>\n",
       "      <td>NaN</td>\n",
       "      <td>NaN</td>\n",
       "      <td>NaN</td>\n",
       "    </tr>\n",
       "    <tr>\n",
       "      <th>3</th>\n",
       "      <td>1505788420</td>\n",
       "      <td>[https://i.ebayimg.com/00/s/NzY4WDExNTI=/z/NmU...</td>\n",
       "      <td>1 Bedroom Renovated Apartment for Rent - 135 T...</td>\n",
       "      <td>135 Tyndall Avenue, Toronto, ON, M6K 2G4</td>\n",
       "      <td>$1,949.00</td>\n",
       "      <td>2020-08-13T19:06:36.000Z</td>\n",
       "      <td>Apartment</td>\n",
       "      <td>Bedrooms: 1</td>\n",
       "      <td>Bathrooms: 1</td>\n",
       "      <td>[No: Hydro, Yes: Heat, Yes: Water]</td>\n",
       "      <td>...</td>\n",
       "      <td>1 Year</td>\n",
       "      <td>August 13, 2020</td>\n",
       "      <td>Yes</td>\n",
       "      <td>626</td>\n",
       "      <td>No</td>\n",
       "      <td>No</td>\n",
       "      <td>No</td>\n",
       "      <td>NaN</td>\n",
       "      <td>NaN</td>\n",
       "      <td>NaN</td>\n",
       "    </tr>\n",
       "    <tr>\n",
       "      <th>4</th>\n",
       "      <td>1516085720</td>\n",
       "      <td>[https://i.ebayimg.com/00/s/MTIwMFgxNjAw/z/fcY...</td>\n",
       "      <td>Yonge and Finch, 1+1 unit , spacious and brigh...</td>\n",
       "      <td>M2N 5R6, Canada</td>\n",
       "      <td>$2,100.00</td>\n",
       "      <td>2020-08-06T02:49:14.000Z</td>\n",
       "      <td>Condo</td>\n",
       "      <td>Bedrooms: 1 + Den</td>\n",
       "      <td>Bathrooms: 1</td>\n",
       "      <td>[No: Hydro, Yes: Heat, Yes: Water]</td>\n",
       "      <td>...</td>\n",
       "      <td>1 Year</td>\n",
       "      <td>August 4, 2020</td>\n",
       "      <td>No</td>\n",
       "      <td>675</td>\n",
       "      <td>No</td>\n",
       "      <td>Yes</td>\n",
       "      <td>No</td>\n",
       "      <td>Yes</td>\n",
       "      <td>No</td>\n",
       "      <td>Yes</td>\n",
       "    </tr>\n",
       "  </tbody>\n",
       "</table>\n",
       "<p>5 rows × 27 columns</p>\n",
       "</div>"
      ],
      "text/plain": [
       "        ad_id                                             images  \\\n",
       "0  1515948914  [https://i.ebayimg.com/00/s/NzY4WDEzNjU=/z/K40...   \n",
       "1  1505801433  [https://i.ebayimg.com/00/s/NzY4WDExNTI=/z/jms...   \n",
       "2  1502301137  [https://i.ebayimg.com/00/s/NjAwWDgwMA==/z/cIk...   \n",
       "3  1505788420  [https://i.ebayimg.com/00/s/NzY4WDExNTI=/z/NmU...   \n",
       "4  1516085720  [https://i.ebayimg.com/00/s/MTIwMFgxNjAw/z/fcY...   \n",
       "\n",
       "                                               title  \\\n",
       "0  Parkway Forest Towers - 2 Bedroom, 1 Bathroom ...   \n",
       "1  Open House August 12th from 7:00pm to 9:00pm w...   \n",
       "2  One, two bedroom large unit from $1650 , Hydro...   \n",
       "3  1 Bedroom Renovated Apartment for Rent - 135 T...   \n",
       "4  Yonge and Finch, 1+1 unit , spacious and brigh...   \n",
       "\n",
       "                                          address      price  \\\n",
       "0  100 Parkway Forest Drive, Toronto, ON, M2J 1L6  $2,209.00   \n",
       "1          70 Spadina  Road, Toronto, ON, M5R 2T6  $1,587.00   \n",
       "2   40 Tuxedo Ct, Scarborough, ON M1G 3S7, Canada  $1,650.00   \n",
       "3        135 Tyndall Avenue, Toronto, ON, M6K 2G4  $1,949.00   \n",
       "4                                 M2N 5R6, Canada  $2,100.00   \n",
       "\n",
       "        post_published_date rental_type                 bedroom_no  \\\n",
       "0  2020-08-13T22:34:37.000Z   Apartment                Bedrooms: 2   \n",
       "1  2020-08-13T14:02:28.000Z   Apartment  Bedrooms: Bachelor/Studio   \n",
       "2  2020-07-17T14:08:19.000Z   Apartment                Bedrooms: 1   \n",
       "3  2020-08-13T19:06:36.000Z   Apartment                Bedrooms: 1   \n",
       "4  2020-08-06T02:49:14.000Z       Condo          Bedrooms: 1 + Den   \n",
       "\n",
       "    bathroom_no                      utilities_list  ... Agreement Type  \\\n",
       "0  Bathrooms: 1  [No: Hydro, Yes: Heat, Yes: Water]  ...         1 Year   \n",
       "1  Bathrooms: 1  [No: Hydro, Yes: Heat, Yes: Water]  ...         1 Year   \n",
       "2  Bathrooms: 1  [No: Hydro, Yes: Heat, Yes: Water]  ...         1 Year   \n",
       "3  Bathrooms: 1  [No: Hydro, Yes: Heat, Yes: Water]  ...         1 Year   \n",
       "4  Bathrooms: 1  [No: Hydro, Yes: Heat, Yes: Water]  ...         1 Year   \n",
       "\n",
       "        Move-In Date Pet Friendly    Size (sqft) Furnished Air Conditioning  \\\n",
       "0    August 13, 2020          Yes            940        No               No   \n",
       "1  September 1, 2020          Yes  Not Available        No               No   \n",
       "2      July 24, 2020      Limited            750        No               No   \n",
       "3    August 13, 2020          Yes            626        No               No   \n",
       "4     August 4, 2020           No            675        No              Yes   \n",
       "\n",
       "  Smoking Permitted Barrier-free Entrances and Ramps Visual Aids  \\\n",
       "0               Yes                              NaN         NaN   \n",
       "1     Outdoors only                              NaN         NaN   \n",
       "2     Outdoors only                              NaN         NaN   \n",
       "3                No                              NaN         NaN   \n",
       "4                No                              Yes          No   \n",
       "\n",
       "  Accessible Washrooms in Suite  \n",
       "0                           NaN  \n",
       "1                           NaN  \n",
       "2                           NaN  \n",
       "3                           NaN  \n",
       "4                           Yes  \n",
       "\n",
       "[5 rows x 27 columns]"
      ]
     },
     "execution_count": 5,
     "metadata": {},
     "output_type": "execute_result"
    }
   ],
   "source": [
    "DF = pd.DataFrame(kijiji_clean_data)\n",
    "DF.head()"
   ]
  },
  {
   "cell_type": "markdown",
   "metadata": {},
   "source": [
    "### Remove Duplicates"
   ]
  },
  {
   "cell_type": "code",
   "execution_count": 6,
   "metadata": {},
   "outputs": [
    {
     "data": {
      "text/plain": [
       "(737, 27)"
      ]
     },
     "execution_count": 6,
     "metadata": {},
     "output_type": "execute_result"
    }
   ],
   "source": [
    "DF.shape"
   ]
  },
  {
   "cell_type": "code",
   "execution_count": 7,
   "metadata": {},
   "outputs": [],
   "source": [
    "DF.drop_duplicates(subset=\"ad_id\", keep=\"first\", inplace=True)"
   ]
  },
  {
   "cell_type": "code",
   "execution_count": 8,
   "metadata": {},
   "outputs": [
    {
     "data": {
      "image/png": "[encoded data removed]",
      "text/plain": [
       "<Figure size 1800x720 with 2 Axes>"
      ]
     },
     "metadata": {
      "needs_background": "light"
     },
     "output_type": "display_data"
    }
   ],
   "source": [
    "#Check for nan\n",
    "missingdata_cols = DF.columns[DF.isnull().any()].to_list()\n",
    "#visualize nan\n",
    "_=missingno.matrix(DF[missingdata_cols], color=(0.65,0.84,0.84))"
   ]
  },
  {
   "cell_type": "code",
   "execution_count": 9,
   "metadata": {},
   "outputs": [],
   "source": [
    "DF['geotag']=None"
   ]
  },
  {
   "cell_type": "code",
   "execution_count": 10,
   "metadata": {},
   "outputs": [],
   "source": [
    "def geocode(addresses):\n",
    "    #Input: a dictionary with key as index and value as address\n",
    "    #Output: a dictionary with key as index and value as (lat, long) tuple\n",
    "    lat_long = {}\n",
    "    for index in addresses:\n",
    "        try:\n",
    "            url = geocode_api+f'?address={addresses[index]}'+f'&key={google_api}'\n",
    "            url = re.sub(' +', '%20', url)\n",
    "            response = requests.get(url)\n",
    "            if response.ok:\n",
    "                content = response.json()\n",
    "                lat_long[index]=tuple(content['results'][0]['geometry']['location'].values())\n",
    "            else:\n",
    "                lat_long[index]=None\n",
    "        except Exception as e:\n",
    "            print(e)\n",
    "            lat_long[index]=None\n",
    "    return lat_long"
   ]
  },
  {
   "cell_type": "markdown",
   "metadata": {},
   "source": [
    "### Geolocation based on address"
   ]
  },
  {
   "cell_type": "code",
   "execution_count": 11,
   "metadata": {},
   "outputs": [
    {
     "name": "stdout",
     "output_type": "stream",
     "text": [
      "list index out of range\n"
     ]
    }
   ],
   "source": [
    "addresses = DF[DF['geotag'].isnull()]['address'].to_dict()\n",
    "lat_long = geocode(addresses)\n",
    "DF['geotag'] = lat_long.values()\n",
    "#DF.loc[lat_long.keys(), 'geotag'] = DF.loc[lat_long.keys()].index.map(lat_long)"
   ]
  },
  {
   "cell_type": "code",
   "execution_count": 12,
   "metadata": {},
   "outputs": [
    {
     "data": {
      "text/html": [
       "<div>\n",
       "<style scoped>\n",
       "    .dataframe tbody tr th:only-of-type {\n",
       "        vertical-align: middle;\n",
       "    }\n",
       "\n",
       "    .dataframe tbody tr th {\n",
       "        vertical-align: top;\n",
       "    }\n",
       "\n",
       "    .dataframe thead th {\n",
       "        text-align: right;\n",
       "    }\n",
       "</style>\n",
       "<table border=\"1\" class=\"dataframe\">\n",
       "  <thead>\n",
       "    <tr style=\"text-align: right;\">\n",
       "      <th></th>\n",
       "      <th>ad_id</th>\n",
       "      <th>images</th>\n",
       "      <th>title</th>\n",
       "      <th>address</th>\n",
       "      <th>price</th>\n",
       "      <th>post_published_date</th>\n",
       "      <th>rental_type</th>\n",
       "      <th>bedroom_no</th>\n",
       "      <th>bathroom_no</th>\n",
       "      <th>utilities_list</th>\n",
       "      <th>...</th>\n",
       "      <th>Move-In Date</th>\n",
       "      <th>Pet Friendly</th>\n",
       "      <th>Size (sqft)</th>\n",
       "      <th>Furnished</th>\n",
       "      <th>Air Conditioning</th>\n",
       "      <th>Smoking Permitted</th>\n",
       "      <th>Barrier-free Entrances and Ramps</th>\n",
       "      <th>Visual Aids</th>\n",
       "      <th>Accessible Washrooms in Suite</th>\n",
       "      <th>geotag</th>\n",
       "    </tr>\n",
       "  </thead>\n",
       "  <tbody>\n",
       "    <tr>\n",
       "      <th>0</th>\n",
       "      <td>1515948914</td>\n",
       "      <td>[https://i.ebayimg.com/00/s/NzY4WDEzNjU=/z/K40...</td>\n",
       "      <td>Parkway Forest Towers - 2 Bedroom, 1 Bathroom ...</td>\n",
       "      <td>100 Parkway Forest Drive, Toronto, ON, M2J 1L6</td>\n",
       "      <td>$2,209.00</td>\n",
       "      <td>2020-08-13T22:34:37.000Z</td>\n",
       "      <td>Apartment</td>\n",
       "      <td>Bedrooms: 2</td>\n",
       "      <td>Bathrooms: 1</td>\n",
       "      <td>[No: Hydro, Yes: Heat, Yes: Water]</td>\n",
       "      <td>...</td>\n",
       "      <td>August 13, 2020</td>\n",
       "      <td>Yes</td>\n",
       "      <td>940</td>\n",
       "      <td>No</td>\n",
       "      <td>No</td>\n",
       "      <td>Yes</td>\n",
       "      <td>NaN</td>\n",
       "      <td>NaN</td>\n",
       "      <td>NaN</td>\n",
       "      <td>(43.7733049, -79.3418471)</td>\n",
       "    </tr>\n",
       "    <tr>\n",
       "      <th>1</th>\n",
       "      <td>1505801433</td>\n",
       "      <td>[https://i.ebayimg.com/00/s/NzY4WDExNTI=/z/jms...</td>\n",
       "      <td>Open House August 12th from 7:00pm to 9:00pm w...</td>\n",
       "      <td>70 Spadina  Road, Toronto, ON, M5R 2T6</td>\n",
       "      <td>$1,587.00</td>\n",
       "      <td>2020-08-13T14:02:28.000Z</td>\n",
       "      <td>Apartment</td>\n",
       "      <td>Bedrooms: Bachelor/Studio</td>\n",
       "      <td>Bathrooms: 1</td>\n",
       "      <td>[No: Hydro, Yes: Heat, Yes: Water]</td>\n",
       "      <td>...</td>\n",
       "      <td>September 1, 2020</td>\n",
       "      <td>Yes</td>\n",
       "      <td>Not Available</td>\n",
       "      <td>No</td>\n",
       "      <td>No</td>\n",
       "      <td>Outdoors only</td>\n",
       "      <td>NaN</td>\n",
       "      <td>NaN</td>\n",
       "      <td>NaN</td>\n",
       "      <td>(43.6704926, -79.4056939)</td>\n",
       "    </tr>\n",
       "    <tr>\n",
       "      <th>2</th>\n",
       "      <td>1502301137</td>\n",
       "      <td>[https://i.ebayimg.com/00/s/NjAwWDgwMA==/z/cIk...</td>\n",
       "      <td>One, two bedroom large unit from $1650 , Hydro...</td>\n",
       "      <td>40 Tuxedo Ct, Scarborough, ON M1G 3S7, Canada</td>\n",
       "      <td>$1,650.00</td>\n",
       "      <td>2020-07-17T14:08:19.000Z</td>\n",
       "      <td>Apartment</td>\n",
       "      <td>Bedrooms: 1</td>\n",
       "      <td>Bathrooms: 1</td>\n",
       "      <td>[No: Hydro, Yes: Heat, Yes: Water]</td>\n",
       "      <td>...</td>\n",
       "      <td>July 24, 2020</td>\n",
       "      <td>Limited</td>\n",
       "      <td>750</td>\n",
       "      <td>No</td>\n",
       "      <td>No</td>\n",
       "      <td>Outdoors only</td>\n",
       "      <td>NaN</td>\n",
       "      <td>NaN</td>\n",
       "      <td>NaN</td>\n",
       "      <td>(43.78136869999999, -79.230797)</td>\n",
       "    </tr>\n",
       "    <tr>\n",
       "      <th>3</th>\n",
       "      <td>1505788420</td>\n",
       "      <td>[https://i.ebayimg.com/00/s/NzY4WDExNTI=/z/NmU...</td>\n",
       "      <td>1 Bedroom Renovated Apartment for Rent - 135 T...</td>\n",
       "      <td>135 Tyndall Avenue, Toronto, ON, M6K 2G4</td>\n",
       "      <td>$1,949.00</td>\n",
       "      <td>2020-08-13T19:06:36.000Z</td>\n",
       "      <td>Apartment</td>\n",
       "      <td>Bedrooms: 1</td>\n",
       "      <td>Bathrooms: 1</td>\n",
       "      <td>[No: Hydro, Yes: Heat, Yes: Water]</td>\n",
       "      <td>...</td>\n",
       "      <td>August 13, 2020</td>\n",
       "      <td>Yes</td>\n",
       "      <td>626</td>\n",
       "      <td>No</td>\n",
       "      <td>No</td>\n",
       "      <td>No</td>\n",
       "      <td>NaN</td>\n",
       "      <td>NaN</td>\n",
       "      <td>NaN</td>\n",
       "      <td>(43.6377125, -79.4283233)</td>\n",
       "    </tr>\n",
       "    <tr>\n",
       "      <th>4</th>\n",
       "      <td>1516085720</td>\n",
       "      <td>[https://i.ebayimg.com/00/s/MTIwMFgxNjAw/z/fcY...</td>\n",
       "      <td>Yonge and Finch, 1+1 unit , spacious and brigh...</td>\n",
       "      <td>M2N 5R6, Canada</td>\n",
       "      <td>$2,100.00</td>\n",
       "      <td>2020-08-06T02:49:14.000Z</td>\n",
       "      <td>Condo</td>\n",
       "      <td>Bedrooms: 1 + Den</td>\n",
       "      <td>Bathrooms: 1</td>\n",
       "      <td>[No: Hydro, Yes: Heat, Yes: Water]</td>\n",
       "      <td>...</td>\n",
       "      <td>August 4, 2020</td>\n",
       "      <td>No</td>\n",
       "      <td>675</td>\n",
       "      <td>No</td>\n",
       "      <td>Yes</td>\n",
       "      <td>No</td>\n",
       "      <td>Yes</td>\n",
       "      <td>No</td>\n",
       "      <td>Yes</td>\n",
       "      <td>(43.7758397, -79.4142973)</td>\n",
       "    </tr>\n",
       "  </tbody>\n",
       "</table>\n",
       "<p>5 rows × 28 columns</p>\n",
       "</div>"
      ],
      "text/plain": [
       "        ad_id                                             images  \\\n",
       "0  1515948914  [https://i.ebayimg.com/00/s/NzY4WDEzNjU=/z/K40...   \n",
       "1  1505801433  [https://i.ebayimg.com/00/s/NzY4WDExNTI=/z/jms...   \n",
       "2  1502301137  [https://i.ebayimg.com/00/s/NjAwWDgwMA==/z/cIk...   \n",
       "3  1505788420  [https://i.ebayimg.com/00/s/NzY4WDExNTI=/z/NmU...   \n",
       "4  1516085720  [https://i.ebayimg.com/00/s/MTIwMFgxNjAw/z/fcY...   \n",
       "\n",
       "                                               title  \\\n",
       "0  Parkway Forest Towers - 2 Bedroom, 1 Bathroom ...   \n",
       "1  Open House August 12th from 7:00pm to 9:00pm w...   \n",
       "2  One, two bedroom large unit from $1650 , Hydro...   \n",
       "3  1 Bedroom Renovated Apartment for Rent - 135 T...   \n",
       "4  Yonge and Finch, 1+1 unit , spacious and brigh...   \n",
       "\n",
       "                                          address      price  \\\n",
       "0  100 Parkway Forest Drive, Toronto, ON, M2J 1L6  $2,209.00   \n",
       "1          70 Spadina  Road, Toronto, ON, M5R 2T6  $1,587.00   \n",
       "2   40 Tuxedo Ct, Scarborough, ON M1G 3S7, Canada  $1,650.00   \n",
       "3        135 Tyndall Avenue, Toronto, ON, M6K 2G4  $1,949.00   \n",
       "4                                 M2N 5R6, Canada  $2,100.00   \n",
       "\n",
       "        post_published_date rental_type                 bedroom_no  \\\n",
       "0  2020-08-13T22:34:37.000Z   Apartment                Bedrooms: 2   \n",
       "1  2020-08-13T14:02:28.000Z   Apartment  Bedrooms: Bachelor/Studio   \n",
       "2  2020-07-17T14:08:19.000Z   Apartment                Bedrooms: 1   \n",
       "3  2020-08-13T19:06:36.000Z   Apartment                Bedrooms: 1   \n",
       "4  2020-08-06T02:49:14.000Z       Condo          Bedrooms: 1 + Den   \n",
       "\n",
       "    bathroom_no                      utilities_list  ...       Move-In Date  \\\n",
       "0  Bathrooms: 1  [No: Hydro, Yes: Heat, Yes: Water]  ...    August 13, 2020   \n",
       "1  Bathrooms: 1  [No: Hydro, Yes: Heat, Yes: Water]  ...  September 1, 2020   \n",
       "2  Bathrooms: 1  [No: Hydro, Yes: Heat, Yes: Water]  ...      July 24, 2020   \n",
       "3  Bathrooms: 1  [No: Hydro, Yes: Heat, Yes: Water]  ...    August 13, 2020   \n",
       "4  Bathrooms: 1  [No: Hydro, Yes: Heat, Yes: Water]  ...     August 4, 2020   \n",
       "\n",
       "  Pet Friendly    Size (sqft) Furnished Air Conditioning Smoking Permitted  \\\n",
       "0          Yes            940        No               No               Yes   \n",
       "1          Yes  Not Available        No               No     Outdoors only   \n",
       "2      Limited            750        No               No     Outdoors only   \n",
       "3          Yes            626        No               No                No   \n",
       "4           No            675        No              Yes                No   \n",
       "\n",
       "  Barrier-free Entrances and Ramps Visual Aids Accessible Washrooms in Suite  \\\n",
       "0                              NaN         NaN                           NaN   \n",
       "1                              NaN         NaN                           NaN   \n",
       "2                              NaN         NaN                           NaN   \n",
       "3                              NaN         NaN                           NaN   \n",
       "4                              Yes          No                           Yes   \n",
       "\n",
       "                            geotag  \n",
       "0        (43.7733049, -79.3418471)  \n",
       "1        (43.6704926, -79.4056939)  \n",
       "2  (43.78136869999999, -79.230797)  \n",
       "3        (43.6377125, -79.4283233)  \n",
       "4        (43.7758397, -79.4142973)  \n",
       "\n",
       "[5 rows x 28 columns]"
      ]
     },
     "execution_count": 12,
     "metadata": {},
     "output_type": "execute_result"
    }
   ],
   "source": [
    "DF.head()"
   ]
  },
  {
   "cell_type": "markdown",
   "metadata": {},
   "source": [
    "### Adding Postal codes"
   ]
  },
  {
   "cell_type": "code",
   "execution_count": 13,
   "metadata": {},
   "outputs": [],
   "source": [
    "postal_regex = re.compile(r'[M]\\d[A-Z] *\\d[A-Z]\\d')\n",
    "DF[\"postal_code\"]= DF[\"address\"].map(lambda x : postal_regex.search(x).group() if str(type(postal_regex.search(x)))!=\"<class 'NoneType'>\" else None)"
   ]
  },
  {
   "cell_type": "code",
   "execution_count": 14,
   "metadata": {},
   "outputs": [
    {
     "name": "stdout",
     "output_type": "stream",
     "text": [
      "Isabella St, Toronto, ON, Canada\n",
      "'NoneType' object has no attribute 'group'\n",
      "<class 'NoneType'>\n",
      "---------------------------------\n",
      "Lakeshore Blvd West/ Kipling Ave, Canada\n",
      "'NoneType' object has no attribute 'group'\n",
      "<class 'NoneType'>\n",
      "---------------------------------\n",
      "Lakeshore Blvd West/ Kipling Ave, Canada\n",
      "'NoneType' object has no attribute 'group'\n",
      "<class 'NoneType'>\n",
      "---------------------------------\n",
      "25 Baseball Pl, Toronto, ON M4M, Canada\n",
      "'NoneType' object has no attribute 'group'\n",
      "<class 'NoneType'>\n",
      "---------------------------------\n",
      "77 Shuter St, Toronto, ON M5B, Canada\n",
      "'NoneType' object has no attribute 'group'\n",
      "<class 'NoneType'>\n",
      "---------------------------------\n",
      "st paschal crt, m2m4a5, Toronto, ON\n",
      "'NoneType' object has no attribute 'group'\n",
      "<class 'NoneType'>\n",
      "---------------------------------\n",
      "Warren Rd, Toronto, ON M4V, Canada\n",
      "'NoneType' object has no attribute 'group'\n",
      "<class 'NoneType'>\n",
      "---------------------------------\n",
      "Dundas St E, Ontario, Canada\n",
      "'NoneType' object has no attribute 'group'\n",
      "<class 'NoneType'>\n",
      "---------------------------------\n",
      "Kipling & Finch, Canada\n",
      "'NoneType' object has no attribute 'group'\n",
      "<class 'NoneType'>\n",
      "---------------------------------\n",
      "140 Park Ave E, Chatham, ON N7M 3V6, Canada\n",
      "'NoneType' object has no attribute 'group'\n",
      "<class 'NoneType'>\n",
      "---------------------------------\n",
      "M8V, Canada\n",
      "'NoneType' object has no attribute 'group'\n",
      "<class 'NoneType'>\n",
      "---------------------------------\n",
      "8854 Yonge St, Richmond Hill, ON L4C 0T4, Canada\n",
      "'NoneType' object has no attribute 'group'\n",
      "<class 'NoneType'>\n",
      "---------------------------------\n",
      "1077 Rue Saint Mathieu, Montréal, QC H3H 2S8, Canada\n",
      "'NoneType' object has no attribute 'group'\n",
      "<class 'NoneType'>\n",
      "---------------------------------\n",
      "60 S Town Centre Blvd, Markham, ON L6G 0C5, Canada\n",
      "'NoneType' object has no attribute 'group'\n",
      "<class 'NoneType'>\n",
      "---------------------------------\n",
      ", etobicoke m9c 0b1 ON, Canada\n",
      "'NoneType' object has no attribute 'group'\n",
      "<class 'NoneType'>\n",
      "---------------------------------\n",
      "77 Shuter St, Toronto, ON M5B, Canada\n",
      "'NoneType' object has no attribute 'group'\n",
      "<class 'NoneType'>\n",
      "---------------------------------\n",
      ", Toronto  M5v1n4 ON, Canada\n",
      "'NoneType' object has no attribute 'group'\n",
      "<class 'NoneType'>\n",
      "---------------------------------\n",
      "Bremner Blvd, Toronto, ON, Canada\n",
      "'NoneType' object has no attribute 'group'\n",
      "<class 'NoneType'>\n",
      "---------------------------------\n",
      "2350 Bridletowne Circle, m1w3e6, Toronto, ON\n",
      "'NoneType' object has no attribute 'group'\n",
      "<class 'NoneType'>\n",
      "---------------------------------\n",
      "17a Barberry Pl, North York, ON M2K, Canada\n",
      "'NoneType' object has no attribute 'group'\n",
      "<class 'NoneType'>\n",
      "---------------------------------\n",
      "m5v3r8, Canada\n",
      "'NoneType' object has no attribute 'group'\n",
      "<class 'NoneType'>\n",
      "---------------------------------\n",
      "898 Portage Pkwy, Concord, ON L4K 2M7, Canada\n",
      "'NoneType' object has no attribute 'group'\n",
      "<class 'NoneType'>\n",
      "---------------------------------\n",
      "1204 Shillington Ave, Ottawa, ON K1Z 7Z4, Canada\n",
      "'NoneType' object has no attribute 'group'\n",
      "<class 'NoneType'>\n",
      "---------------------------------\n",
      "Stewart St, Toronto, ON M5V, Canada\n",
      "'NoneType' object has no attribute 'group'\n",
      "<class 'NoneType'>\n",
      "---------------------------------\n",
      "87 Peter St., Toronto, ON, L4K 5J1\n",
      "'NoneType' object has no attribute 'group'\n",
      "<class 'NoneType'>\n",
      "---------------------------------\n",
      "Bremner Blvd, Toronto, ON, Canada\n",
      "'NoneType' object has no attribute 'group'\n",
      "<class 'NoneType'>\n",
      "---------------------------------\n"
     ]
    }
   ],
   "source": [
    "postal_code_list=[]\n",
    "postal_regex = re.compile(r'[M]\\d[A-Z] *\\d[A-Z]\\d')\n",
    "\n",
    "for address in DF[\"address\"]:\n",
    "    try:\n",
    "        postal_code_list.append(postal_regex.search(address).group())\n",
    "    except AttributeError as e:\n",
    "        print(address)\n",
    "        print(e)\n",
    "        print(type(postal_regex.search(address)))\n",
    "        print(\"---------------------------------\")"
   ]
  },
  {
   "cell_type": "code",
   "execution_count": 15,
   "metadata": {},
   "outputs": [
    {
     "data": {
      "text/plain": [
       "(682, 29)"
      ]
     },
     "execution_count": 15,
     "metadata": {},
     "output_type": "execute_result"
    }
   ],
   "source": [
    "DF.shape"
   ]
  },
  {
   "cell_type": "markdown",
   "metadata": {},
   "source": [
    "### Save standalone Kijiji dataset"
   ]
  },
  {
   "cell_type": "code",
   "execution_count": null,
   "metadata": {},
   "outputs": [],
   "source": [
    "with open('kijijilist_standalone.pkl', 'wb') as f:\n",
    "    pickle.dump(DF, f)\n",
    "#with open('kijijilist_standalone.pkl', 'rb') as f:\n",
    "    #DF = pickle.load(f)"
   ]
  },
  {
   "cell_type": "markdown",
   "metadata": {},
   "source": [
    "### Get MCI Data"
   ]
  },
  {
   "cell_type": "code",
   "execution_count": 788,
   "metadata": {},
   "outputs": [],
   "source": [
    "with open('crime_data.pkl', 'rb') as f:\n",
    "    crime_data = pickle.load(f)"
   ]
  },
  {
   "cell_type": "code",
   "execution_count": 789,
   "metadata": {},
   "outputs": [
    {
     "data": {
      "text/html": [
       "<div>\n",
       "<style scoped>\n",
       "    .dataframe tbody tr th:only-of-type {\n",
       "        vertical-align: middle;\n",
       "    }\n",
       "\n",
       "    .dataframe tbody tr th {\n",
       "        vertical-align: top;\n",
       "    }\n",
       "\n",
       "    .dataframe thead th {\n",
       "        text-align: right;\n",
       "    }\n",
       "</style>\n",
       "<table border=\"1\" class=\"dataframe\">\n",
       "  <thead>\n",
       "    <tr style=\"text-align: right;\">\n",
       "      <th></th>\n",
       "      <th>ID</th>\n",
       "      <th>occurrencedate</th>\n",
       "      <th>reporteddate</th>\n",
       "      <th>premisetype</th>\n",
       "      <th>offence</th>\n",
       "      <th>MCI</th>\n",
       "      <th>Division</th>\n",
       "      <th>Neighbourhood</th>\n",
       "      <th>Long</th>\n",
       "      <th>Lat</th>\n",
       "    </tr>\n",
       "  </thead>\n",
       "  <tbody>\n",
       "    <tr>\n",
       "      <th>0</th>\n",
       "      <td>0</td>\n",
       "      <td>2019-01-01</td>\n",
       "      <td>2019-01-01</td>\n",
       "      <td>Commercial</td>\n",
       "      <td>Assault With Weapon</td>\n",
       "      <td>Assault</td>\n",
       "      <td>D55</td>\n",
       "      <td>Greenwood-Coxwell (65)</td>\n",
       "      <td>-79.320106</td>\n",
       "      <td>43.665787</td>\n",
       "    </tr>\n",
       "    <tr>\n",
       "      <th>1</th>\n",
       "      <td>1</td>\n",
       "      <td>2019-01-01</td>\n",
       "      <td>2019-05-06</td>\n",
       "      <td>Apartment</td>\n",
       "      <td>Assault</td>\n",
       "      <td>Assault</td>\n",
       "      <td>D43</td>\n",
       "      <td>Woburn (137)</td>\n",
       "      <td>-79.204781</td>\n",
       "      <td>43.763969</td>\n",
       "    </tr>\n",
       "    <tr>\n",
       "      <th>2</th>\n",
       "      <td>2</td>\n",
       "      <td>2019-01-01</td>\n",
       "      <td>2019-02-01</td>\n",
       "      <td>Commercial</td>\n",
       "      <td>Assault</td>\n",
       "      <td>Assault</td>\n",
       "      <td>D43</td>\n",
       "      <td>West Hill (136)</td>\n",
       "      <td>-79.197578</td>\n",
       "      <td>43.758972</td>\n",
       "    </tr>\n",
       "    <tr>\n",
       "      <th>3</th>\n",
       "      <td>3</td>\n",
       "      <td>2019-01-01</td>\n",
       "      <td>2019-04-27</td>\n",
       "      <td>Apartment</td>\n",
       "      <td>Assault</td>\n",
       "      <td>Assault</td>\n",
       "      <td>D23</td>\n",
       "      <td>Mount Olive-Silverstone-Jamestown (2)</td>\n",
       "      <td>-79.592819</td>\n",
       "      <td>43.739082</td>\n",
       "    </tr>\n",
       "    <tr>\n",
       "      <th>4</th>\n",
       "      <td>4</td>\n",
       "      <td>2019-01-01</td>\n",
       "      <td>2019-04-26</td>\n",
       "      <td>Outside</td>\n",
       "      <td>Assault</td>\n",
       "      <td>Assault</td>\n",
       "      <td>D11</td>\n",
       "      <td>High Park-Swansea (87)</td>\n",
       "      <td>-79.451309</td>\n",
       "      <td>43.639343</td>\n",
       "    </tr>\n",
       "  </tbody>\n",
       "</table>\n",
       "</div>"
      ],
      "text/plain": [
       "   ID occurrencedate reporteddate premisetype              offence      MCI  \\\n",
       "0   0     2019-01-01   2019-01-01  Commercial  Assault With Weapon  Assault   \n",
       "1   1     2019-01-01   2019-05-06   Apartment              Assault  Assault   \n",
       "2   2     2019-01-01   2019-02-01  Commercial              Assault  Assault   \n",
       "3   3     2019-01-01   2019-04-27   Apartment              Assault  Assault   \n",
       "4   4     2019-01-01   2019-04-26     Outside              Assault  Assault   \n",
       "\n",
       "  Division                          Neighbourhood       Long        Lat  \n",
       "0      D55                 Greenwood-Coxwell (65) -79.320106  43.665787  \n",
       "1      D43                           Woburn (137) -79.204781  43.763969  \n",
       "2      D43                        West Hill (136) -79.197578  43.758972  \n",
       "3      D23  Mount Olive-Silverstone-Jamestown (2) -79.592819  43.739082  \n",
       "4      D11                 High Park-Swansea (87) -79.451309  43.639343  "
      ]
     },
     "execution_count": 789,
     "metadata": {},
     "output_type": "execute_result"
    }
   ],
   "source": [
    "crime_data.head()"
   ]
  },
  {
   "cell_type": "markdown",
   "metadata": {},
   "source": [
    "### Connect tables Housing and MCI meaningfully!"
   ]
  },
  {
   "cell_type": "code",
   "execution_count": 871,
   "metadata": {},
   "outputs": [],
   "source": [
    "def be_the_bridge(DF, crime_data, radius=3):\n",
    "    \n",
    "    bridge = pd.DataFrame()\n",
    "    for row in tqdm(DF.iterrows()):\n",
    "        try:\n",
    "            \n",
    "            loc = row[1]['geotag']\n",
    "            result=crime_data[['Lat', 'Long']].apply(lambda x: (harvesine_distance(loc, (x['Lat'], x['Long'])) if harvesine_distance(loc, (x['Lat'], x['Long'])) <=radius else None), axis=1)\n",
    "            result=pd.DataFrame(result[result.notnull()], columns=['distance'])\n",
    "            closest_crimes=pd.concat([crime_data.loc[result.index, 'ID'], result], axis=1)\n",
    "            closest_crimes['rental_id'] = row[1]['ad_id']\n",
    "            closest_crimes.rename({'ID':'crime_id'})\n",
    "\n",
    "            bridge=pd.concat([bridge, closest_crimes])\n",
    "        \n",
    "        except Exception as e:\n",
    "            print(e)\n",
    "            \n",
    "    return bridge"
   ]
  },
  {
   "cell_type": "code",
   "execution_count": 873,
   "metadata": {},
   "outputs": [],
   "source": [
    "#bridge = be_the_bridge(DF, crime_data, radius=3)"
   ]
  },
  {
   "cell_type": "code",
   "execution_count": 792,
   "metadata": {},
   "outputs": [
    {
     "data": {
      "text/html": [
       "<div>\n",
       "<style scoped>\n",
       "    .dataframe tbody tr th:only-of-type {\n",
       "        vertical-align: middle;\n",
       "    }\n",
       "\n",
       "    .dataframe tbody tr th {\n",
       "        vertical-align: top;\n",
       "    }\n",
       "\n",
       "    .dataframe thead th {\n",
       "        text-align: right;\n",
       "    }\n",
       "</style>\n",
       "<table border=\"1\" class=\"dataframe\">\n",
       "  <thead>\n",
       "    <tr style=\"text-align: right;\">\n",
       "      <th></th>\n",
       "      <th>ID</th>\n",
       "      <th>distance</th>\n",
       "      <th>rental_id</th>\n",
       "    </tr>\n",
       "  </thead>\n",
       "  <tbody>\n",
       "    <tr>\n",
       "      <th>53</th>\n",
       "      <td>53</td>\n",
       "      <td>1.849212</td>\n",
       "      <td>1515948914</td>\n",
       "    </tr>\n",
       "    <tr>\n",
       "      <th>62</th>\n",
       "      <td>62</td>\n",
       "      <td>2.996900</td>\n",
       "      <td>1515948914</td>\n",
       "    </tr>\n",
       "    <tr>\n",
       "      <th>80</th>\n",
       "      <td>80</td>\n",
       "      <td>1.183781</td>\n",
       "      <td>1515948914</td>\n",
       "    </tr>\n",
       "    <tr>\n",
       "      <th>81</th>\n",
       "      <td>81</td>\n",
       "      <td>0.989350</td>\n",
       "      <td>1515948914</td>\n",
       "    </tr>\n",
       "    <tr>\n",
       "      <th>94</th>\n",
       "      <td>94</td>\n",
       "      <td>1.264391</td>\n",
       "      <td>1515948914</td>\n",
       "    </tr>\n",
       "  </tbody>\n",
       "</table>\n",
       "</div>"
      ],
      "text/plain": [
       "    ID  distance   rental_id\n",
       "53  53  1.849212  1515948914\n",
       "62  62  2.996900  1515948914\n",
       "80  80  1.183781  1515948914\n",
       "81  81  0.989350  1515948914\n",
       "94  94  1.264391  1515948914"
      ]
     },
     "execution_count": 792,
     "metadata": {},
     "output_type": "execute_result"
    }
   ],
   "source": [
    "bridge.head()"
   ]
  },
  {
   "cell_type": "code",
   "execution_count": 22,
   "metadata": {},
   "outputs": [],
   "source": [
    "#with open('bridge_table_kijiji.pkl', 'wb') as f:\n",
    "#     pickle.dump(bridge, f)\n",
    "with open('bridge_table_kijiji.pkl', 'rb') as f:\n",
    "     bridge_table = pickle.load(f)"
   ]
  },
  {
   "cell_type": "code",
   "execution_count": 23,
   "metadata": {},
   "outputs": [],
   "source": [
    "bridge_table_df= pd.DataFrame(bridge_table)"
   ]
  },
  {
   "cell_type": "code",
   "execution_count": 24,
   "metadata": {},
   "outputs": [
    {
     "data": {
      "text/html": [
       "<div>\n",
       "<style scoped>\n",
       "    .dataframe tbody tr th:only-of-type {\n",
       "        vertical-align: middle;\n",
       "    }\n",
       "\n",
       "    .dataframe tbody tr th {\n",
       "        vertical-align: top;\n",
       "    }\n",
       "\n",
       "    .dataframe thead th {\n",
       "        text-align: right;\n",
       "    }\n",
       "</style>\n",
       "<table border=\"1\" class=\"dataframe\">\n",
       "  <thead>\n",
       "    <tr style=\"text-align: right;\">\n",
       "      <th></th>\n",
       "      <th>ID</th>\n",
       "      <th>distance</th>\n",
       "      <th>rental_id</th>\n",
       "    </tr>\n",
       "  </thead>\n",
       "  <tbody>\n",
       "    <tr>\n",
       "      <th>53</th>\n",
       "      <td>53</td>\n",
       "      <td>1.849212</td>\n",
       "      <td>1515948914</td>\n",
       "    </tr>\n",
       "    <tr>\n",
       "      <th>62</th>\n",
       "      <td>62</td>\n",
       "      <td>2.996900</td>\n",
       "      <td>1515948914</td>\n",
       "    </tr>\n",
       "    <tr>\n",
       "      <th>80</th>\n",
       "      <td>80</td>\n",
       "      <td>1.183781</td>\n",
       "      <td>1515948914</td>\n",
       "    </tr>\n",
       "    <tr>\n",
       "      <th>81</th>\n",
       "      <td>81</td>\n",
       "      <td>0.989350</td>\n",
       "      <td>1515948914</td>\n",
       "    </tr>\n",
       "    <tr>\n",
       "      <th>94</th>\n",
       "      <td>94</td>\n",
       "      <td>1.264391</td>\n",
       "      <td>1515948914</td>\n",
       "    </tr>\n",
       "  </tbody>\n",
       "</table>\n",
       "</div>"
      ],
      "text/plain": [
       "    ID  distance   rental_id\n",
       "53  53  1.849212  1515948914\n",
       "62  62  2.996900  1515948914\n",
       "80  80  1.183781  1515948914\n",
       "81  81  0.989350  1515948914\n",
       "94  94  1.264391  1515948914"
      ]
     },
     "execution_count": 24,
     "metadata": {},
     "output_type": "execute_result"
    }
   ],
   "source": [
    "bridge_table_df.head()"
   ]
  },
  {
   "cell_type": "code",
   "execution_count": 25,
   "metadata": {},
   "outputs": [
    {
     "data": {
      "text/plain": [
       "(2888965, 3)"
      ]
     },
     "execution_count": 25,
     "metadata": {},
     "output_type": "execute_result"
    }
   ],
   "source": [
    "bridge_table_df.shape"
   ]
  },
  {
   "cell_type": "markdown",
   "metadata": {},
   "source": [
    "### Cleaning crime df to get it ready for merge"
   ]
  },
  {
   "cell_type": "code",
   "execution_count": 21,
   "metadata": {},
   "outputs": [
    {
     "ename": "NameError",
     "evalue": "name 'bridge_table_df' is not defined",
     "output_type": "error",
     "traceback": [
      "\u001b[0;31m---------------------------------------------------------------------------\u001b[0m",
      "\u001b[0;31mNameError\u001b[0m                                 Traceback (most recent call last)",
      "\u001b[0;32m<ipython-input-21-314178802d9c>\u001b[0m in \u001b[0;36m<module>\u001b[0;34m\u001b[0m\n\u001b[0;32m----> 1\u001b[0;31m \u001b[0mbridge_table_df_clean\u001b[0m\u001b[0;34m=\u001b[0m\u001b[0mbridge_table_df\u001b[0m\u001b[0;34m.\u001b[0m\u001b[0mcopy\u001b[0m\u001b[0;34m(\u001b[0m\u001b[0;34m)\u001b[0m\u001b[0;34m\u001b[0m\u001b[0;34m\u001b[0m\u001b[0m\n\u001b[0m",
      "\u001b[0;31mNameError\u001b[0m: name 'bridge_table_df' is not defined"
     ]
    }
   ],
   "source": [
    "bridge_table_df_clean=bridge_table_df.copy()"
   ]
  },
  {
   "cell_type": "code",
   "execution_count": 924,
   "metadata": {},
   "outputs": [],
   "source": [
    "bridge_table_df_clean[\"rental_id\"]=bridge_table_df_clean[\"rental_id\"].map(lambda x: \"k_\"+x)"
   ]
  },
  {
   "cell_type": "code",
   "execution_count": 925,
   "metadata": {},
   "outputs": [],
   "source": [
    "bridge_table_df_clean.rename(columns={\"ID\":\"crime_id\",\n",
    "                                \"distance\":\"distance_rental_crime\"\n",
    "                               }, inplace=True)"
   ]
  },
  {
   "cell_type": "code",
   "execution_count": 926,
   "metadata": {},
   "outputs": [],
   "source": [
    "bridge_table_df_clean.reset_index(inplace=True, drop=True)\n",
    "bridge_table_df_clean.reset_index(inplace=True)"
   ]
  },
  {
   "cell_type": "code",
   "execution_count": 927,
   "metadata": {},
   "outputs": [],
   "source": [
    "bridge_table_df_clean.rename(columns={\"index\":\"id\"\n",
    "                               }, inplace=True)"
   ]
  },
  {
   "cell_type": "code",
   "execution_count": 928,
   "metadata": {},
   "outputs": [],
   "source": [
    "bridge_table_df_clean=bridge_table_df_clean[[\"id\", \"crime_id\",\"rental_id\",\"distance_rental_crime\"]]"
   ]
  },
  {
   "cell_type": "code",
   "execution_count": 929,
   "metadata": {},
   "outputs": [
    {
     "name": "stdout",
     "output_type": "stream",
     "text": [
      "id                         int64\n",
      "crime_id                   int64\n",
      "rental_id                 object\n",
      "distance_rental_crime    float64\n",
      "dtype: object\n"
     ]
    }
   ],
   "source": [
    "print(bridge_table_df_clean.dtypes)"
   ]
  },
  {
   "cell_type": "code",
   "execution_count": 930,
   "metadata": {},
   "outputs": [
    {
     "data": {
      "text/html": [
       "<div>\n",
       "<style scoped>\n",
       "    .dataframe tbody tr th:only-of-type {\n",
       "        vertical-align: middle;\n",
       "    }\n",
       "\n",
       "    .dataframe tbody tr th {\n",
       "        vertical-align: top;\n",
       "    }\n",
       "\n",
       "    .dataframe thead th {\n",
       "        text-align: right;\n",
       "    }\n",
       "</style>\n",
       "<table border=\"1\" class=\"dataframe\">\n",
       "  <thead>\n",
       "    <tr style=\"text-align: right;\">\n",
       "      <th></th>\n",
       "      <th>id</th>\n",
       "      <th>crime_id</th>\n",
       "      <th>rental_id</th>\n",
       "      <th>distance_rental_crime</th>\n",
       "    </tr>\n",
       "  </thead>\n",
       "  <tbody>\n",
       "    <tr>\n",
       "      <th>0</th>\n",
       "      <td>0</td>\n",
       "      <td>53</td>\n",
       "      <td>k_1515948914</td>\n",
       "      <td>1.849212</td>\n",
       "    </tr>\n",
       "    <tr>\n",
       "      <th>1</th>\n",
       "      <td>1</td>\n",
       "      <td>62</td>\n",
       "      <td>k_1515948914</td>\n",
       "      <td>2.996900</td>\n",
       "    </tr>\n",
       "    <tr>\n",
       "      <th>2</th>\n",
       "      <td>2</td>\n",
       "      <td>80</td>\n",
       "      <td>k_1515948914</td>\n",
       "      <td>1.183781</td>\n",
       "    </tr>\n",
       "    <tr>\n",
       "      <th>3</th>\n",
       "      <td>3</td>\n",
       "      <td>81</td>\n",
       "      <td>k_1515948914</td>\n",
       "      <td>0.989350</td>\n",
       "    </tr>\n",
       "    <tr>\n",
       "      <th>4</th>\n",
       "      <td>4</td>\n",
       "      <td>94</td>\n",
       "      <td>k_1515948914</td>\n",
       "      <td>1.264391</td>\n",
       "    </tr>\n",
       "  </tbody>\n",
       "</table>\n",
       "</div>"
      ],
      "text/plain": [
       "   id  crime_id     rental_id  distance_rental_crime\n",
       "0   0        53  k_1515948914               1.849212\n",
       "1   1        62  k_1515948914               2.996900\n",
       "2   2        80  k_1515948914               1.183781\n",
       "3   3        81  k_1515948914               0.989350\n",
       "4   4        94  k_1515948914               1.264391"
      ]
     },
     "execution_count": 930,
     "metadata": {},
     "output_type": "execute_result"
    }
   ],
   "source": [
    "bridge_table_df_clean.head()"
   ]
  },
  {
   "cell_type": "code",
   "execution_count": 931,
   "metadata": {},
   "outputs": [],
   "source": [
    "with open('bridge_table_kijiji_final.pkl', 'wb') as f:\n",
    "     pickle.dump(bridge_table_df_clean, f)\n",
    "with open('bridge_table_kijiji_final.pkl', 'rd') as f:\n",
    "     pickle.dump(bridge_table_df_clean, f)"
   ]
  },
  {
   "cell_type": "markdown",
   "metadata": {},
   "source": [
    "Preparing Kijiji Data to merege with crageslist data"
   ]
  },
  {
   "cell_type": "code",
   "execution_count": 16,
   "metadata": {},
   "outputs": [],
   "source": [
    "DF_clean = DF.copy()"
   ]
  },
  {
   "cell_type": "code",
   "execution_count": 17,
   "metadata": {},
   "outputs": [
    {
     "data": {
      "text/html": [
       "<div>\n",
       "<style scoped>\n",
       "    .dataframe tbody tr th:only-of-type {\n",
       "        vertical-align: middle;\n",
       "    }\n",
       "\n",
       "    .dataframe tbody tr th {\n",
       "        vertical-align: top;\n",
       "    }\n",
       "\n",
       "    .dataframe thead th {\n",
       "        text-align: right;\n",
       "    }\n",
       "</style>\n",
       "<table border=\"1\" class=\"dataframe\">\n",
       "  <thead>\n",
       "    <tr style=\"text-align: right;\">\n",
       "      <th></th>\n",
       "      <th>ad_id</th>\n",
       "      <th>images</th>\n",
       "      <th>title</th>\n",
       "      <th>address</th>\n",
       "      <th>price</th>\n",
       "      <th>post_published_date</th>\n",
       "      <th>rental_type</th>\n",
       "      <th>bedroom_no</th>\n",
       "      <th>bathroom_no</th>\n",
       "      <th>utilities_list</th>\n",
       "      <th>...</th>\n",
       "      <th>Pet Friendly</th>\n",
       "      <th>Size (sqft)</th>\n",
       "      <th>Furnished</th>\n",
       "      <th>Air Conditioning</th>\n",
       "      <th>Smoking Permitted</th>\n",
       "      <th>Barrier-free Entrances and Ramps</th>\n",
       "      <th>Visual Aids</th>\n",
       "      <th>Accessible Washrooms in Suite</th>\n",
       "      <th>geotag</th>\n",
       "      <th>postal_code</th>\n",
       "    </tr>\n",
       "  </thead>\n",
       "  <tbody>\n",
       "    <tr>\n",
       "      <th>0</th>\n",
       "      <td>1515948914</td>\n",
       "      <td>[https://i.ebayimg.com/00/s/NzY4WDEzNjU=/z/K40...</td>\n",
       "      <td>Parkway Forest Towers - 2 Bedroom, 1 Bathroom ...</td>\n",
       "      <td>100 Parkway Forest Drive, Toronto, ON, M2J 1L6</td>\n",
       "      <td>$2,209.00</td>\n",
       "      <td>2020-08-13T22:34:37.000Z</td>\n",
       "      <td>Apartment</td>\n",
       "      <td>Bedrooms: 2</td>\n",
       "      <td>Bathrooms: 1</td>\n",
       "      <td>[No: Hydro, Yes: Heat, Yes: Water]</td>\n",
       "      <td>...</td>\n",
       "      <td>Yes</td>\n",
       "      <td>940</td>\n",
       "      <td>No</td>\n",
       "      <td>No</td>\n",
       "      <td>Yes</td>\n",
       "      <td>NaN</td>\n",
       "      <td>NaN</td>\n",
       "      <td>NaN</td>\n",
       "      <td>(43.7733049, -79.3418471)</td>\n",
       "      <td>M2J 1L6</td>\n",
       "    </tr>\n",
       "  </tbody>\n",
       "</table>\n",
       "<p>1 rows × 29 columns</p>\n",
       "</div>"
      ],
      "text/plain": [
       "        ad_id                                             images  \\\n",
       "0  1515948914  [https://i.ebayimg.com/00/s/NzY4WDEzNjU=/z/K40...   \n",
       "\n",
       "                                               title  \\\n",
       "0  Parkway Forest Towers - 2 Bedroom, 1 Bathroom ...   \n",
       "\n",
       "                                          address      price  \\\n",
       "0  100 Parkway Forest Drive, Toronto, ON, M2J 1L6  $2,209.00   \n",
       "\n",
       "        post_published_date rental_type   bedroom_no   bathroom_no  \\\n",
       "0  2020-08-13T22:34:37.000Z   Apartment  Bedrooms: 2  Bathrooms: 1   \n",
       "\n",
       "                       utilities_list  ... Pet Friendly Size (sqft) Furnished  \\\n",
       "0  [No: Hydro, Yes: Heat, Yes: Water]  ...          Yes         940        No   \n",
       "\n",
       "  Air Conditioning Smoking Permitted Barrier-free Entrances and Ramps  \\\n",
       "0               No               Yes                              NaN   \n",
       "\n",
       "  Visual Aids Accessible Washrooms in Suite                     geotag  \\\n",
       "0         NaN                           NaN  (43.7733049, -79.3418471)   \n",
       "\n",
       "  postal_code  \n",
       "0     M2J 1L6  \n",
       "\n",
       "[1 rows x 29 columns]"
      ]
     },
     "execution_count": 17,
     "metadata": {},
     "output_type": "execute_result"
    }
   ],
   "source": [
    "DF_clean.head(1)"
   ]
  },
  {
   "cell_type": "code",
   "execution_count": 18,
   "metadata": {},
   "outputs": [
    {
     "data": {
      "text/html": [
       "<div>\n",
       "<style scoped>\n",
       "    .dataframe tbody tr th:only-of-type {\n",
       "        vertical-align: middle;\n",
       "    }\n",
       "\n",
       "    .dataframe tbody tr th {\n",
       "        vertical-align: top;\n",
       "    }\n",
       "\n",
       "    .dataframe thead th {\n",
       "        text-align: right;\n",
       "    }\n",
       "</style>\n",
       "<table border=\"1\" class=\"dataframe\">\n",
       "  <thead>\n",
       "    <tr style=\"text-align: right;\">\n",
       "      <th></th>\n",
       "      <th>ad_id</th>\n",
       "      <th>images</th>\n",
       "      <th>title</th>\n",
       "      <th>address</th>\n",
       "      <th>price</th>\n",
       "      <th>post_published_date</th>\n",
       "      <th>rental_type</th>\n",
       "      <th>bedroom_no</th>\n",
       "      <th>bathroom_no</th>\n",
       "      <th>utilities_list</th>\n",
       "      <th>...</th>\n",
       "      <th>Pet Friendly</th>\n",
       "      <th>Size (sqft)</th>\n",
       "      <th>Furnished</th>\n",
       "      <th>Air Conditioning</th>\n",
       "      <th>Smoking Permitted</th>\n",
       "      <th>Barrier-free Entrances and Ramps</th>\n",
       "      <th>Visual Aids</th>\n",
       "      <th>Accessible Washrooms in Suite</th>\n",
       "      <th>geotag</th>\n",
       "      <th>postal_code</th>\n",
       "    </tr>\n",
       "  </thead>\n",
       "  <tbody>\n",
       "    <tr>\n",
       "      <th>0</th>\n",
       "      <td>1515948914</td>\n",
       "      <td>[https://i.ebayimg.com/00/s/NzY4WDEzNjU=/z/K40...</td>\n",
       "      <td>Parkway Forest Towers - 2 Bedroom, 1 Bathroom ...</td>\n",
       "      <td>100 Parkway Forest Drive, Toronto, ON, M2J 1L6</td>\n",
       "      <td>$2,209.00</td>\n",
       "      <td>2020-08-13T22:34:37.000Z</td>\n",
       "      <td>Apartment</td>\n",
       "      <td>Bedrooms: 2</td>\n",
       "      <td>Bathrooms: 1</td>\n",
       "      <td>[No: Hydro, Yes: Heat, Yes: Water]</td>\n",
       "      <td>...</td>\n",
       "      <td>Yes</td>\n",
       "      <td>940</td>\n",
       "      <td>No</td>\n",
       "      <td>No</td>\n",
       "      <td>Yes</td>\n",
       "      <td>NaN</td>\n",
       "      <td>NaN</td>\n",
       "      <td>NaN</td>\n",
       "      <td>(43.7733049, -79.3418471)</td>\n",
       "      <td>M2J 1L6</td>\n",
       "    </tr>\n",
       "  </tbody>\n",
       "</table>\n",
       "<p>1 rows × 29 columns</p>\n",
       "</div>"
      ],
      "text/plain": [
       "        ad_id                                             images  \\\n",
       "0  1515948914  [https://i.ebayimg.com/00/s/NzY4WDEzNjU=/z/K40...   \n",
       "\n",
       "                                               title  \\\n",
       "0  Parkway Forest Towers - 2 Bedroom, 1 Bathroom ...   \n",
       "\n",
       "                                          address      price  \\\n",
       "0  100 Parkway Forest Drive, Toronto, ON, M2J 1L6  $2,209.00   \n",
       "\n",
       "        post_published_date rental_type   bedroom_no   bathroom_no  \\\n",
       "0  2020-08-13T22:34:37.000Z   Apartment  Bedrooms: 2  Bathrooms: 1   \n",
       "\n",
       "                       utilities_list  ... Pet Friendly Size (sqft) Furnished  \\\n",
       "0  [No: Hydro, Yes: Heat, Yes: Water]  ...          Yes         940        No   \n",
       "\n",
       "  Air Conditioning Smoking Permitted Barrier-free Entrances and Ramps  \\\n",
       "0               No               Yes                              NaN   \n",
       "\n",
       "  Visual Aids Accessible Washrooms in Suite                     geotag  \\\n",
       "0         NaN                           NaN  (43.7733049, -79.3418471)   \n",
       "\n",
       "  postal_code  \n",
       "0     M2J 1L6  \n",
       "\n",
       "[1 rows x 29 columns]"
      ]
     },
     "execution_count": 18,
     "metadata": {},
     "output_type": "execute_result"
    }
   ],
   "source": [
    "DF_clean[DF_clean[\"ad_id\"]==\"1515948914\"]"
   ]
  },
  {
   "cell_type": "code",
   "execution_count": 19,
   "metadata": {},
   "outputs": [
    {
     "data": {
      "text/plain": [
       "Index(['ad_id', 'images', 'title', 'address', 'price', 'post_published_date',\n",
       "       'rental_type', 'bedroom_no', 'bathroom_no', 'utilities_list',\n",
       "       'wifi_and_more', 'appliances', 'personal_outdoor_space', 'amenities',\n",
       "       'description', 'url', 'Parking Included', 'Agreement Type',\n",
       "       'Move-In Date', 'Pet Friendly', 'Size (sqft)', 'Furnished',\n",
       "       'Air Conditioning', 'Smoking Permitted',\n",
       "       'Barrier-free Entrances and Ramps', 'Visual Aids',\n",
       "       'Accessible Washrooms in Suite', 'geotag', 'postal_code'],\n",
       "      dtype='object')"
      ]
     },
     "execution_count": 19,
     "metadata": {},
     "output_type": "execute_result"
    }
   ],
   "source": [
    "#take columns common to Kijiji and Craigslis\n",
    "DF_clean.columns"
   ]
  },
  {
   "cell_type": "code",
   "execution_count": 20,
   "metadata": {},
   "outputs": [],
   "source": [
    "#Rename columns\n",
    "DF_clean=DF_clean[[\"ad_id\", \"title\", \"price\", \"Size (sqft)\",\"images\",\"url\",\"address\",\n",
    "                  \"post_published_date\", \"geotag\", \"postal_code\", \"rental_type\",\n",
    "                  \"bedroom_no\", \"bathroom_no\", \"Furnished\", \"Pet Friendly\",\n",
    "                  \"description\"]]"
   ]
  },
  {
   "cell_type": "code",
   "execution_count": 21,
   "metadata": {},
   "outputs": [],
   "source": [
    "DF_clean.rename(columns={\"ad_id\":\"id\",\n",
    "                         \"Size (sqft)\": \"sqft\",\n",
    "                         \"images\": \"image\",\n",
    "                         \"bedroom_no\": \"bedrooms\",\n",
    "                         \"bathroom_no\": \"bathrooms\",\n",
    "                         \"Furnished\": \"furnished\",\n",
    "                         \"Pet Friendly\": \"pet_friendly\",\n",
    "                        }, inplace=True)"
   ]
  },
  {
   "cell_type": "code",
   "execution_count": 22,
   "metadata": {},
   "outputs": [
    {
     "data": {
      "text/html": [
       "<div>\n",
       "<style scoped>\n",
       "    .dataframe tbody tr th:only-of-type {\n",
       "        vertical-align: middle;\n",
       "    }\n",
       "\n",
       "    .dataframe tbody tr th {\n",
       "        vertical-align: top;\n",
       "    }\n",
       "\n",
       "    .dataframe thead th {\n",
       "        text-align: right;\n",
       "    }\n",
       "</style>\n",
       "<table border=\"1\" class=\"dataframe\">\n",
       "  <thead>\n",
       "    <tr style=\"text-align: right;\">\n",
       "      <th></th>\n",
       "      <th>id</th>\n",
       "      <th>title</th>\n",
       "      <th>price</th>\n",
       "      <th>sqft</th>\n",
       "      <th>image</th>\n",
       "      <th>url</th>\n",
       "      <th>address</th>\n",
       "      <th>post_published_date</th>\n",
       "      <th>geotag</th>\n",
       "      <th>postal_code</th>\n",
       "      <th>rental_type</th>\n",
       "      <th>bedrooms</th>\n",
       "      <th>bathrooms</th>\n",
       "      <th>furnished</th>\n",
       "      <th>pet_friendly</th>\n",
       "      <th>description</th>\n",
       "    </tr>\n",
       "  </thead>\n",
       "  <tbody>\n",
       "    <tr>\n",
       "      <th>0</th>\n",
       "      <td>1515948914</td>\n",
       "      <td>Parkway Forest Towers - 2 Bedroom, 1 Bathroom ...</td>\n",
       "      <td>$2,209.00</td>\n",
       "      <td>940</td>\n",
       "      <td>[https://i.ebayimg.com/00/s/NzY4WDEzNjU=/z/K40...</td>\n",
       "      <td>https://www.kijiji.ca/v-apartments-condos/city...</td>\n",
       "      <td>100 Parkway Forest Drive, Toronto, ON, M2J 1L6</td>\n",
       "      <td>2020-08-13T22:34:37.000Z</td>\n",
       "      <td>(43.7733049, -79.3418471)</td>\n",
       "      <td>M2J 1L6</td>\n",
       "      <td>Apartment</td>\n",
       "      <td>Bedrooms: 2</td>\n",
       "      <td>Bathrooms: 1</td>\n",
       "      <td>No</td>\n",
       "      <td>Yes</td>\n",
       "      <td>Contact Timbercreek Communities today! Parkway...</td>\n",
       "    </tr>\n",
       "    <tr>\n",
       "      <th>1</th>\n",
       "      <td>1505801433</td>\n",
       "      <td>Open House August 12th from 7:00pm to 9:00pm w...</td>\n",
       "      <td>$1,587.00</td>\n",
       "      <td>Not Available</td>\n",
       "      <td>[https://i.ebayimg.com/00/s/NzY4WDExNTI=/z/jms...</td>\n",
       "      <td>https://www.kijiji.ca/v-apartments-condos/city...</td>\n",
       "      <td>70 Spadina  Road, Toronto, ON, M5R 2T6</td>\n",
       "      <td>2020-08-13T14:02:28.000Z</td>\n",
       "      <td>(43.6704926, -79.4056939)</td>\n",
       "      <td>M5R 2T6</td>\n",
       "      <td>Apartment</td>\n",
       "      <td>Bedrooms: Bachelor/Studio</td>\n",
       "      <td>Bathrooms: 1</td>\n",
       "      <td>No</td>\n",
       "      <td>Yes</td>\n",
       "      <td>Ask About Our RentalIncentives!</td>\n",
       "    </tr>\n",
       "  </tbody>\n",
       "</table>\n",
       "</div>"
      ],
      "text/plain": [
       "           id                                              title      price  \\\n",
       "0  1515948914  Parkway Forest Towers - 2 Bedroom, 1 Bathroom ...  $2,209.00   \n",
       "1  1505801433  Open House August 12th from 7:00pm to 9:00pm w...  $1,587.00   \n",
       "\n",
       "            sqft                                              image  \\\n",
       "0            940  [https://i.ebayimg.com/00/s/NzY4WDEzNjU=/z/K40...   \n",
       "1  Not Available  [https://i.ebayimg.com/00/s/NzY4WDExNTI=/z/jms...   \n",
       "\n",
       "                                                 url  \\\n",
       "0  https://www.kijiji.ca/v-apartments-condos/city...   \n",
       "1  https://www.kijiji.ca/v-apartments-condos/city...   \n",
       "\n",
       "                                          address       post_published_date  \\\n",
       "0  100 Parkway Forest Drive, Toronto, ON, M2J 1L6  2020-08-13T22:34:37.000Z   \n",
       "1          70 Spadina  Road, Toronto, ON, M5R 2T6  2020-08-13T14:02:28.000Z   \n",
       "\n",
       "                      geotag postal_code rental_type  \\\n",
       "0  (43.7733049, -79.3418471)     M2J 1L6   Apartment   \n",
       "1  (43.6704926, -79.4056939)     M5R 2T6   Apartment   \n",
       "\n",
       "                    bedrooms     bathrooms furnished pet_friendly  \\\n",
       "0                Bedrooms: 2  Bathrooms: 1        No          Yes   \n",
       "1  Bedrooms: Bachelor/Studio  Bathrooms: 1        No          Yes   \n",
       "\n",
       "                                         description  \n",
       "0  Contact Timbercreek Communities today! Parkway...  \n",
       "1                    Ask About Our RentalIncentives!  "
      ]
     },
     "execution_count": 22,
     "metadata": {},
     "output_type": "execute_result"
    }
   ],
   "source": [
    "DF_clean.head(2)"
   ]
  },
  {
   "cell_type": "code",
   "execution_count": 23,
   "metadata": {},
   "outputs": [],
   "source": [
    "#change price from string to int\n",
    "DF_clean[\"price\"]= DF_clean[\"price\"].map(lambda x: x.replace('$','').replace(',','').split('.')[0])\n",
    "#DF_clean[\"price\"][0]=DF_clean[\"price\"].map(lambda x: int(x))"
   ]
  },
  {
   "cell_type": "code",
   "execution_count": 24,
   "metadata": {},
   "outputs": [],
   "source": [
    "#Drop rows with null geocode\n",
    "DF_clean.drop(DF_clean[DF_clean[\"geotag\"].isnull()].index, inplace=True)"
   ]
  },
  {
   "cell_type": "code",
   "execution_count": 25,
   "metadata": {},
   "outputs": [],
   "source": [
    "#Split geotag into lat and long\n",
    "DF_clean[\"lat\"]= DF_clean[\"geotag\"].map(lambda x: x[0])"
   ]
  },
  {
   "cell_type": "code",
   "execution_count": 26,
   "metadata": {},
   "outputs": [],
   "source": [
    "DF_clean[\"long\"]= DF_clean[\"geotag\"].map(lambda x: x[0])"
   ]
  },
  {
   "cell_type": "code",
   "execution_count": 27,
   "metadata": {},
   "outputs": [],
   "source": [
    "#Drop geotag column\n",
    "DF_clean.drop(columns=[\"geotag\"], inplace=True)"
   ]
  },
  {
   "cell_type": "code",
   "execution_count": 28,
   "metadata": {},
   "outputs": [],
   "source": [
    "#take first img in images\n",
    "DF_clean[\"image\"]= DF_clean[\"image\"].map(lambda x: x[0:1])\n",
    "#convert list to str\n",
    "DF_clean[\"image\"]=DF_clean[\"image\"].map(lambda x: str(x)[2:-2])"
   ]
  },
  {
   "cell_type": "code",
   "execution_count": 29,
   "metadata": {},
   "outputs": [],
   "source": [
    "# Change rental_type to lowercase\n",
    "DF_clean[\"rental_type\"]= DF_clean[\"rental_type\"].map(lambda x: x.lower())"
   ]
  },
  {
   "cell_type": "code",
   "execution_count": 30,
   "metadata": {},
   "outputs": [],
   "source": [
    "#Change bedrooms and bathrooms to int\n",
    "DF_clean[\"bedrooms\"]= DF_clean[\"bedrooms\"].map(lambda x: x.split(':')[1])\n",
    "DF_clean[\"bathrooms\"]= DF_clean[\"bathrooms\"].map(lambda x: x.split(':')[1])\n",
    "#Bedrooms changinging + Den to .5\n",
    "DF_clean[\"bedrooms\"]= DF_clean[\"bedrooms\"].map(lambda x: x.strip().replace(\"Bachelor/Studio\", \"0\"))\n",
    "DF_clean[\"bedrooms\"]= DF_clean[\"bedrooms\"].map(lambda x: x.strip().replace(\" + Den\", \".5\"))\n",
    "DF_clean[\"bedrooms\"]= DF_clean[\"bedrooms\"].map(lambda x: x.strip().replace(\"+\", \"\"))"
   ]
  },
  {
   "cell_type": "code",
   "execution_count": 31,
   "metadata": {},
   "outputs": [],
   "source": [
    "#Bathrooms\n",
    "DF_clean[\"bathrooms\"]= DF_clean[\"bathrooms\"].map(lambda x: x.strip().replace(\"1.5\", \"1\"))"
   ]
  },
  {
   "cell_type": "code",
   "execution_count": 32,
   "metadata": {},
   "outputs": [],
   "source": [
    "#Adding FSA column\n",
    "#DF_clean[\"FSA\"]= DF_clean[\"postal_code\"].map(lambda x: x.strip().split(' ')[0])\n",
    "FSA_regex = re.compile(r'[M]\\d[A-Z]')\n",
    "DF_clean[\"FSA\"]= DF_clean[\"address\"].map(lambda x : FSA_regex.search(x).group() if str(type(FSA_regex.search(x)))!=\"<class 'NoneType'>\" else None)"
   ]
  },
  {
   "cell_type": "code",
   "execution_count": 33,
   "metadata": {},
   "outputs": [],
   "source": [
    "#Adding a source column to show its form kijiji\n",
    "DF_clean[\"source\"]= \"Kijiji\""
   ]
  },
  {
   "cell_type": "code",
   "execution_count": 34,
   "metadata": {},
   "outputs": [],
   "source": [
    "#Adding k_ before each id\n",
    "DF_clean[\"id\"]= DF_clean[\"id\"].map(lambda x: \"k_\"+x.strip())"
   ]
  },
  {
   "cell_type": "code",
   "execution_count": 35,
   "metadata": {},
   "outputs": [],
   "source": [
    "DF_clean[DF_clean[\"price\"]==\"Please Contact\"]=\"0\""
   ]
  },
  {
   "cell_type": "code",
   "execution_count": 36,
   "metadata": {},
   "outputs": [
    {
     "data": {
      "text/plain": [
       "Index(['id', 'title', 'price', 'sqft', 'image', 'url', 'address',\n",
       "       'post_published_date', 'postal_code', 'rental_type', 'bedrooms',\n",
       "       'bathrooms', 'furnished', 'pet_friendly', 'description', 'lat', 'long',\n",
       "       'FSA', 'source'],\n",
       "      dtype='object')"
      ]
     },
     "execution_count": 36,
     "metadata": {},
     "output_type": "execute_result"
    }
   ],
   "source": [
    "DF_clean.columns"
   ]
  },
  {
   "cell_type": "code",
   "execution_count": 37,
   "metadata": {},
   "outputs": [],
   "source": [
    "#Replace sqft = Not Available to 0\n",
    "DF_clean[DF_clean[\"sqft\"]==\"Not Available\"]=\"0\"\n",
    "#Remove ,\n",
    "DF_clean[\"sqft\"]= DF_clean[\"sqft\"].map(lambda x: x.strip().replace(',', '')) "
   ]
  },
  {
   "cell_type": "code",
   "execution_count": 38,
   "metadata": {},
   "outputs": [],
   "source": [
    "#Changing furnished and pet_friendly to bool\n",
    "DF_clean[\"pet_friendly\"]=DF_clean[\"pet_friendly\"].map(lambda x: True if (x==\"Yes\") else False)\n",
    "DF_clean[\"furnished\"]=DF_clean[\"furnished\"].map(lambda x: True if (x==\"Yes\") else False)"
   ]
  },
  {
   "cell_type": "code",
   "execution_count": 39,
   "metadata": {},
   "outputs": [],
   "source": [
    "#droping rows with no date\n",
    "DF_clean.drop(DF_clean[DF_clean[\"post_published_date\"]==\"0\"].index, inplace=True)\n",
    "#Changing post_publised_date to datetime\n",
    "DF_clean[\"post_published_date\"]=DF_clean[\"post_published_date\"].map(lambda x: datetime.strptime(x.split(\"T\")[0], \"%Y-%m-%d\"))\n",
    "#datetime.strptime(my_string, \"%Y-%m-%d\")\n"
   ]
  },
  {
   "cell_type": "code",
   "execution_count": 46,
   "metadata": {},
   "outputs": [],
   "source": [
    "#Changing datatypes\n",
    "convert_dict = {\n",
    "                #'post_published_date': datetime,\n",
    "                'lat': float, \n",
    "                'long': float,\n",
    "                'price':int,\n",
    "                'sqft':int,\n",
    "                'bedrooms':int,\n",
    "                'bathrooms':int\n",
    "               } "
   ]
  },
  {
   "cell_type": "code",
   "execution_count": 47,
   "metadata": {},
   "outputs": [],
   "source": [
    "DF_clean = DF_clean.astype(convert_dict)"
   ]
  },
  {
   "cell_type": "code",
   "execution_count": 48,
   "metadata": {},
   "outputs": [
    {
     "name": "stdout",
     "output_type": "stream",
     "text": [
      "id                             object\n",
      "title                          object\n",
      "price                           int64\n",
      "sqft                            int64\n",
      "image                          object\n",
      "url                            object\n",
      "post_published_date    datetime64[ns]\n",
      "lat                           float64\n",
      "long                          float64\n",
      "postal_code                    object\n",
      "FSA                            object\n",
      "rental_type                    object\n",
      "bedrooms                        int64\n",
      "bathrooms                       int64\n",
      "furnished                        bool\n",
      "pet_friendly                     bool\n",
      "description                    object\n",
      "source                         object\n",
      "dtype: object\n"
     ]
    }
   ],
   "source": [
    "print(DF_clean.dtypes)"
   ]
  },
  {
   "cell_type": "code",
   "execution_count": 43,
   "metadata": {},
   "outputs": [],
   "source": [
    "DF_clean= DF_clean[[\"id\",\"title\",\"price\",\"sqft\",\"image\",\"url\"\n",
    "                    ,\"post_published_date\",\"address\",\"lat\",\"long\"\n",
    "                   ,\"postal_code\", \"FSA\", \"rental_type\", \"bedrooms\",\n",
    "                   \"bathrooms\", \"furnished\", \"pet_friendly\", \"description\"\n",
    "                   ,\"source\"]]"
   ]
  },
  {
   "cell_type": "code",
   "execution_count": 49,
   "metadata": {},
   "outputs": [
    {
     "data": {
      "text/html": [
       "<div>\n",
       "<style scoped>\n",
       "    .dataframe tbody tr th:only-of-type {\n",
       "        vertical-align: middle;\n",
       "    }\n",
       "\n",
       "    .dataframe tbody tr th {\n",
       "        vertical-align: top;\n",
       "    }\n",
       "\n",
       "    .dataframe thead th {\n",
       "        text-align: right;\n",
       "    }\n",
       "</style>\n",
       "<table border=\"1\" class=\"dataframe\">\n",
       "  <thead>\n",
       "    <tr style=\"text-align: right;\">\n",
       "      <th></th>\n",
       "      <th>id</th>\n",
       "      <th>title</th>\n",
       "      <th>price</th>\n",
       "      <th>sqft</th>\n",
       "      <th>image</th>\n",
       "      <th>url</th>\n",
       "      <th>post_published_date</th>\n",
       "      <th>lat</th>\n",
       "      <th>long</th>\n",
       "      <th>postal_code</th>\n",
       "      <th>FSA</th>\n",
       "      <th>rental_type</th>\n",
       "      <th>bedrooms</th>\n",
       "      <th>bathrooms</th>\n",
       "      <th>furnished</th>\n",
       "      <th>pet_friendly</th>\n",
       "      <th>description</th>\n",
       "      <th>source</th>\n",
       "    </tr>\n",
       "  </thead>\n",
       "  <tbody>\n",
       "    <tr>\n",
       "      <th>0</th>\n",
       "      <td>k_1515948914</td>\n",
       "      <td>Parkway Forest Towers - 2 Bedroom, 1 Bathroom ...</td>\n",
       "      <td>2209</td>\n",
       "      <td>940</td>\n",
       "      <td>https://i.ebayimg.com/00/s/NzY4WDEzNjU=/z/K40A...</td>\n",
       "      <td>https://www.kijiji.ca/v-apartments-condos/city...</td>\n",
       "      <td>2020-08-13</td>\n",
       "      <td>43.773305</td>\n",
       "      <td>43.773305</td>\n",
       "      <td>M2J 1L6</td>\n",
       "      <td>M2J</td>\n",
       "      <td>apartment</td>\n",
       "      <td>2</td>\n",
       "      <td>1</td>\n",
       "      <td>False</td>\n",
       "      <td>True</td>\n",
       "      <td>Contact Timbercreek Communities today! Parkway...</td>\n",
       "      <td>Kijiji</td>\n",
       "    </tr>\n",
       "    <tr>\n",
       "      <th>2</th>\n",
       "      <td>k_1502301137</td>\n",
       "      <td>One, two bedroom large unit from $1650 , Hydro...</td>\n",
       "      <td>1650</td>\n",
       "      <td>750</td>\n",
       "      <td>https://i.ebayimg.com/00/s/NjAwWDgwMA==/z/cIkA...</td>\n",
       "      <td>https://www.kijiji.ca/v-apartments-condos/city...</td>\n",
       "      <td>2020-07-17</td>\n",
       "      <td>43.781369</td>\n",
       "      <td>43.781369</td>\n",
       "      <td>M1G 3S7</td>\n",
       "      <td>M1G</td>\n",
       "      <td>apartment</td>\n",
       "      <td>1</td>\n",
       "      <td>1</td>\n",
       "      <td>False</td>\n",
       "      <td>False</td>\n",
       "      <td>Fully renovated high rise building with one an...</td>\n",
       "      <td>Kijiji</td>\n",
       "    </tr>\n",
       "    <tr>\n",
       "      <th>3</th>\n",
       "      <td>k_1505788420</td>\n",
       "      <td>1 Bedroom Renovated Apartment for Rent - 135 T...</td>\n",
       "      <td>1949</td>\n",
       "      <td>626</td>\n",
       "      <td>https://i.ebayimg.com/00/s/NzY4WDExNTI=/z/NmUA...</td>\n",
       "      <td>https://www.kijiji.ca/v-apartments-condos/city...</td>\n",
       "      <td>2020-08-13</td>\n",
       "      <td>43.637712</td>\n",
       "      <td>43.637712</td>\n",
       "      <td>M6K 2G4</td>\n",
       "      <td>M6K</td>\n",
       "      <td>apartment</td>\n",
       "      <td>1</td>\n",
       "      <td>1</td>\n",
       "      <td>False</td>\n",
       "      <td>True</td>\n",
       "      <td>Please view our available units by clicking on...</td>\n",
       "      <td>Kijiji</td>\n",
       "    </tr>\n",
       "    <tr>\n",
       "      <th>4</th>\n",
       "      <td>k_1516085720</td>\n",
       "      <td>Yonge and Finch, 1+1 unit , spacious and brigh...</td>\n",
       "      <td>2100</td>\n",
       "      <td>675</td>\n",
       "      <td>https://i.ebayimg.com/00/s/MTIwMFgxNjAw/z/fcYA...</td>\n",
       "      <td>https://www.kijiji.ca/v-apartments-condos/city...</td>\n",
       "      <td>2020-08-06</td>\n",
       "      <td>43.775840</td>\n",
       "      <td>43.775840</td>\n",
       "      <td>M2N 5R6</td>\n",
       "      <td>M2N</td>\n",
       "      <td>condo</td>\n",
       "      <td>1</td>\n",
       "      <td>1</td>\n",
       "      <td>False</td>\n",
       "      <td>False</td>\n",
       "      <td>Amazing Tridel building. Yonge and Finch. Abou...</td>\n",
       "      <td>Kijiji</td>\n",
       "    </tr>\n",
       "    <tr>\n",
       "      <th>5</th>\n",
       "      <td>k_1517893288</td>\n",
       "      <td>Dwtn Toronto King W/John St Lux 788SF 1B/R+Den...</td>\n",
       "      <td>2550</td>\n",
       "      <td>788</td>\n",
       "      <td></td>\n",
       "      <td>https://www.kijiji.ca/v-apartments-condos/city...</td>\n",
       "      <td>2020-08-14</td>\n",
       "      <td>43.646006</td>\n",
       "      <td>43.646006</td>\n",
       "      <td>M5V 0C4</td>\n",
       "      <td>M5V</td>\n",
       "      <td>condo</td>\n",
       "      <td>1</td>\n",
       "      <td>2</td>\n",
       "      <td>False</td>\n",
       "      <td>False</td>\n",
       "      <td>Excellent downtown location King St West/John ...</td>\n",
       "      <td>Kijiji</td>\n",
       "    </tr>\n",
       "  </tbody>\n",
       "</table>\n",
       "</div>"
      ],
      "text/plain": [
       "             id                                              title  price  \\\n",
       "0  k_1515948914  Parkway Forest Towers - 2 Bedroom, 1 Bathroom ...   2209   \n",
       "2  k_1502301137  One, two bedroom large unit from $1650 , Hydro...   1650   \n",
       "3  k_1505788420  1 Bedroom Renovated Apartment for Rent - 135 T...   1949   \n",
       "4  k_1516085720  Yonge and Finch, 1+1 unit , spacious and brigh...   2100   \n",
       "5  k_1517893288  Dwtn Toronto King W/John St Lux 788SF 1B/R+Den...   2550   \n",
       "\n",
       "   sqft                                              image  \\\n",
       "0   940  https://i.ebayimg.com/00/s/NzY4WDEzNjU=/z/K40A...   \n",
       "2   750  https://i.ebayimg.com/00/s/NjAwWDgwMA==/z/cIkA...   \n",
       "3   626  https://i.ebayimg.com/00/s/NzY4WDExNTI=/z/NmUA...   \n",
       "4   675  https://i.ebayimg.com/00/s/MTIwMFgxNjAw/z/fcYA...   \n",
       "5   788                                                      \n",
       "\n",
       "                                                 url post_published_date  \\\n",
       "0  https://www.kijiji.ca/v-apartments-condos/city...          2020-08-13   \n",
       "2  https://www.kijiji.ca/v-apartments-condos/city...          2020-07-17   \n",
       "3  https://www.kijiji.ca/v-apartments-condos/city...          2020-08-13   \n",
       "4  https://www.kijiji.ca/v-apartments-condos/city...          2020-08-06   \n",
       "5  https://www.kijiji.ca/v-apartments-condos/city...          2020-08-14   \n",
       "\n",
       "         lat       long postal_code  FSA rental_type  bedrooms  bathrooms  \\\n",
       "0  43.773305  43.773305     M2J 1L6  M2J   apartment         2          1   \n",
       "2  43.781369  43.781369     M1G 3S7  M1G   apartment         1          1   \n",
       "3  43.637712  43.637712     M6K 2G4  M6K   apartment         1          1   \n",
       "4  43.775840  43.775840     M2N 5R6  M2N       condo         1          1   \n",
       "5  43.646006  43.646006     M5V 0C4  M5V       condo         1          2   \n",
       "\n",
       "   furnished  pet_friendly                                        description  \\\n",
       "0      False          True  Contact Timbercreek Communities today! Parkway...   \n",
       "2      False         False  Fully renovated high rise building with one an...   \n",
       "3      False          True  Please view our available units by clicking on...   \n",
       "4      False         False  Amazing Tridel building. Yonge and Finch. Abou...   \n",
       "5      False         False  Excellent downtown location King St West/John ...   \n",
       "\n",
       "   source  \n",
       "0  Kijiji  \n",
       "2  Kijiji  \n",
       "3  Kijiji  \n",
       "4  Kijiji  \n",
       "5  Kijiji  "
      ]
     },
     "execution_count": 49,
     "metadata": {},
     "output_type": "execute_result"
    }
   ],
   "source": [
    "DF_clean.head()"
   ]
  },
  {
   "cell_type": "code",
   "execution_count": 45,
   "metadata": {},
   "outputs": [],
   "source": [
    "DF_clean.drop(columns=[\"address\"], inplace=True)"
   ]
  },
  {
   "cell_type": "code",
   "execution_count": 50,
   "metadata": {},
   "outputs": [],
   "source": [
    "DF_clean.to_csv(\"kijiji_rental_final.csv\", index=False)"
   ]
  },
  {
   "cell_type": "code",
   "execution_count": 28,
   "metadata": {},
   "outputs": [
    {
     "ename": "UnsupportedOperation",
     "evalue": "read",
     "output_type": "error",
     "traceback": [
      "\u001b[0;31m---------------------------------------------------------------------------\u001b[0m",
      "\u001b[0;31mUnsupportedOperation\u001b[0m                      Traceback (most recent call last)",
      "\u001b[0;32m<ipython-input-28-a3b6060018aa>\u001b[0m in \u001b[0;36m<module>\u001b[0;34m\u001b[0m\n\u001b[1;32m      3\u001b[0m \u001b[0;32mwith\u001b[0m \u001b[0mopen\u001b[0m\u001b[0;34m(\u001b[0m\u001b[0;34m'kijijilist_final.pkl'\u001b[0m\u001b[0;34m,\u001b[0m \u001b[0;34m'wb'\u001b[0m\u001b[0;34m)\u001b[0m \u001b[0;32mas\u001b[0m \u001b[0mf\u001b[0m\u001b[0;34m:\u001b[0m\u001b[0;34m\u001b[0m\u001b[0;34m\u001b[0m\u001b[0m\n\u001b[1;32m      4\u001b[0m     \u001b[0;31m#pickle.dump(DF_clean, f)\u001b[0m\u001b[0;34m\u001b[0m\u001b[0;34m\u001b[0m\u001b[0;34m\u001b[0m\u001b[0m\n\u001b[0;32m----> 5\u001b[0;31m     \u001b[0mkijiji_renting_data\u001b[0m \u001b[0;34m=\u001b[0m \u001b[0mpickle\u001b[0m\u001b[0;34m.\u001b[0m\u001b[0mload\u001b[0m\u001b[0;34m(\u001b[0m\u001b[0mf\u001b[0m\u001b[0;34m)\u001b[0m\u001b[0;34m\u001b[0m\u001b[0;34m\u001b[0m\u001b[0m\n\u001b[0m",
      "\u001b[0;31mUnsupportedOperation\u001b[0m: read"
     ]
    }
   ],
   "source": [
    "#with open('kijijilist_final.pkl', 'wb') as f:\n",
    "    #pickle.dump(DF_clean, f)\n",
    "with open('kijijilist_final.pkl', 'wb') as f:\n",
    "    #pickle.dump(DF_clean, f)\n",
    "    kijiji_renting_data = pickle.load(f)"
   ]
  },
  {
   "cell_type": "markdown",
   "metadata": {},
   "source": [
    "## Merging Kijiji and Cregslist"
   ]
  },
  {
   "cell_type": "markdown",
   "metadata": {},
   "source": [
    "Merging Bridge tables"
   ]
  },
  {
   "cell_type": "code",
   "execution_count": 6,
   "metadata": {},
   "outputs": [],
   "source": [
    "#import bridge table\n",
    "bridge_table_cregslist_df=pd.read_csv(\"Bridge_Rental_Crime_Craigslist.csv\")"
   ]
  },
  {
   "cell_type": "code",
   "execution_count": 7,
   "metadata": {},
   "outputs": [],
   "source": [
    "bridge_table_cregslist_df = bridge_table_cregslist_df.loc[:, ~bridge_table_cregslist_df.columns.str.contains('^Unnamed')]"
   ]
  },
  {
   "cell_type": "code",
   "execution_count": 8,
   "metadata": {},
   "outputs": [
    {
     "data": {
      "text/html": [
       "<div>\n",
       "<style scoped>\n",
       "    .dataframe tbody tr th:only-of-type {\n",
       "        vertical-align: middle;\n",
       "    }\n",
       "\n",
       "    .dataframe tbody tr th {\n",
       "        vertical-align: top;\n",
       "    }\n",
       "\n",
       "    .dataframe thead th {\n",
       "        text-align: right;\n",
       "    }\n",
       "</style>\n",
       "<table border=\"1\" class=\"dataframe\">\n",
       "  <thead>\n",
       "    <tr style=\"text-align: right;\">\n",
       "      <th></th>\n",
       "      <th>id</th>\n",
       "      <th>crime_id</th>\n",
       "      <th>rental_id</th>\n",
       "      <th>distance_rental_crime</th>\n",
       "    </tr>\n",
       "  </thead>\n",
       "  <tbody>\n",
       "    <tr>\n",
       "      <th>0</th>\n",
       "      <td>0</td>\n",
       "      <td>1</td>\n",
       "      <td>c_7175656775</td>\n",
       "      <td>2.949897</td>\n",
       "    </tr>\n",
       "    <tr>\n",
       "      <th>1</th>\n",
       "      <td>1</td>\n",
       "      <td>27</td>\n",
       "      <td>c_7175656775</td>\n",
       "      <td>2.671067</td>\n",
       "    </tr>\n",
       "    <tr>\n",
       "      <th>2</th>\n",
       "      <td>2</td>\n",
       "      <td>36</td>\n",
       "      <td>c_7175656775</td>\n",
       "      <td>2.810086</td>\n",
       "    </tr>\n",
       "    <tr>\n",
       "      <th>3</th>\n",
       "      <td>3</td>\n",
       "      <td>38</td>\n",
       "      <td>c_7175656775</td>\n",
       "      <td>2.961821</td>\n",
       "    </tr>\n",
       "    <tr>\n",
       "      <th>4</th>\n",
       "      <td>4</td>\n",
       "      <td>39</td>\n",
       "      <td>c_7175656775</td>\n",
       "      <td>2.961821</td>\n",
       "    </tr>\n",
       "  </tbody>\n",
       "</table>\n",
       "</div>"
      ],
      "text/plain": [
       "   id  crime_id     rental_id  distance_rental_crime\n",
       "0   0         1  c_7175656775               2.949897\n",
       "1   1        27  c_7175656775               2.671067\n",
       "2   2        36  c_7175656775               2.810086\n",
       "3   3        38  c_7175656775               2.961821\n",
       "4   4        39  c_7175656775               2.961821"
      ]
     },
     "execution_count": 8,
     "metadata": {},
     "output_type": "execute_result"
    }
   ],
   "source": [
    "bridge_table_cregslist_df.head()"
   ]
  },
  {
   "cell_type": "code",
   "execution_count": 15,
   "metadata": {},
   "outputs": [],
   "source": [
    "start=bridge_table_cregslist_df.shape[0]"
   ]
  },
  {
   "cell_type": "code",
   "execution_count": 13,
   "metadata": {},
   "outputs": [],
   "source": [
    "with open('bridge_table_kijiji_final.pkl', 'rb') as f:\n",
    "     bridge_table = pickle.load(f)\n",
    "bridge_table_kijiji_df= pd.DataFrame(bridge_table)"
   ]
  },
  {
   "cell_type": "code",
   "execution_count": 16,
   "metadata": {},
   "outputs": [],
   "source": [
    "end=bridge_table_kijiji_df.shape[0]+start"
   ]
  },
  {
   "cell_type": "code",
   "execution_count": 18,
   "metadata": {},
   "outputs": [
    {
     "data": {
      "text/plain": [
       "14061919"
      ]
     },
     "execution_count": 18,
     "metadata": {},
     "output_type": "execute_result"
    }
   ],
   "source": [
    "list(range(start,end))[-1]"
   ]
  },
  {
   "cell_type": "code",
   "execution_count": 19,
   "metadata": {},
   "outputs": [],
   "source": [
    "bridge_table_kijiji_df[\"id\"]=list(range(start,end))"
   ]
  },
  {
   "cell_type": "code",
   "execution_count": 20,
   "metadata": {},
   "outputs": [],
   "source": [
    "bridge_table_kijiji_df.to_csv('bridge_table_kijiji_final.csv', index=False)"
   ]
  },
  {
   "cell_type": "code",
   "execution_count": 954,
   "metadata": {},
   "outputs": [],
   "source": [
    "bridge_table_merge=bridge_table_cregslist_df.append(bridge_table_kijiji_df, ignore_index=True)"
   ]
  },
  {
   "cell_type": "code",
   "execution_count": 956,
   "metadata": {},
   "outputs": [
    {
     "data": {
      "text/plain": [
       "(14061920, 4)"
      ]
     },
     "execution_count": 956,
     "metadata": {},
     "output_type": "execute_result"
    }
   ],
   "source": [
    "bridge_table_merge.shape"
   ]
  },
  {
   "cell_type": "code",
   "execution_count": 958,
   "metadata": {},
   "outputs": [],
   "source": [
    "bridge_table_merge.to_csv('bridge_table_rental_merged.csv', index=False)"
   ]
  }
 ],
 "metadata": {
  "kernelspec": {
   "display_name": "Python 3",
   "language": "python",
   "name": "python3"
  },
  "language_info": {
   "codemirror_mode": {
    "name": "ipython",
    "version": 3
   },
   "file_extension": ".py",
   "mimetype": "text/x-python",
   "name": "python",
   "nbconvert_exporter": "python",
   "pygments_lexer": "ipython3",
   "version": "3.8.2"
  }
 },
 "nbformat": 4,
 "nbformat_minor": 4
}

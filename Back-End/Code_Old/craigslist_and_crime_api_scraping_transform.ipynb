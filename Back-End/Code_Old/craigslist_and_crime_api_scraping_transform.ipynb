{
 "cells": [
  {
   "cell_type": "code",
   "execution_count": 1,
   "metadata": {},
   "outputs": [],
   "source": [
    "#pip install python-craigslist\n",
    "\n",
    "from IPython.core.interactiveshell import InteractiveShell\n",
    "InteractiveShell.ast_node_interactivity = 'all'\n",
    "\n",
    "#Dependencies\n",
    "from craigslist import CraigslistHousing\n",
    "import timeit, os\n",
    "from tqdm import tqdm\n",
    "import pickle\n",
    "import requests\n",
    "from bs4 import BeautifulSoup as bs\n",
    "from selenium import webdriver\n",
    "import time\n",
    "import pandas as pd\n",
    "import missingno\n",
    "import re\n",
    "import json\n",
    "from pprint import pprint\n",
    "from datetime import datetime, timedelta, timezone\n",
    "\n",
    "from urls_list import * #where all urls and paths are saved\n",
    "from config import *\n",
    "from harvesine_distance import harvesine_distance"
   ]
  },
  {
   "cell_type": "markdown",
   "metadata": {},
   "source": [
    "# Extract"
   ]
  },
  {
   "cell_type": "markdown",
   "metadata": {},
   "source": [
    "###  Craigslist api call to extract the listing url and basic information"
   ]
  },
  {
   "cell_type": "code",
   "execution_count": 2,
   "metadata": {},
   "outputs": [],
   "source": [
    "##Initially we scrape all 3000 in entire toronto. Then, we scrape on a daily posting basis from craiglist while building app\n",
    "#https://toronto.craigslist.org/search/apa?bundleDuplicates=1&availabilityMode=0&sale_date=all+dates"
   ]
  },
  {
   "cell_type": "code",
   "execution_count": 3,
   "metadata": {},
   "outputs": [],
   "source": [
    "def craigs_list_api_call():\n",
    "    \n",
    "    cl_tor_housing = CraigslistHousing(site='toronto',\n",
    "                             filters={'bundle_duplicates': 1})\n",
    "\n",
    "    #If geotagged=True, the results will include the (lat, lng) in the 'geotag' attrib (this will make the process a little bit longer).\n",
    "    craiglist_housing = []\n",
    "\n",
    "    start = timeit.timeit()\n",
    "    for result in tqdm(cl_tor_housing.get_results(sort_by='newest', geotagged=True)):\n",
    "        craiglist_housing.append(result)\n",
    "    end = timeit.timeit()\n",
    "    print(f\"Time elapsed is {end - start}\")\n",
    "    return craiglist_housing\n",
    "\n",
    "#craiglist_housing = craigs_list_api_call()"
   ]
  },
  {
   "cell_type": "code",
   "execution_count": 4,
   "metadata": {},
   "outputs": [],
   "source": [
    "#with open(os.path.join('..','Stage','craiglist_housing.pkl'), 'wb') as f:\n",
    "    #pickle.dump(craiglist_housing, f)\n",
    "\n",
    "with open(os.path.join('..','Stage','craiglist_housing.pkl'), 'rb') as f:\n",
    "    craiglist_housing = pickle.load(f)"
   ]
  },
  {
   "cell_type": "markdown",
   "metadata": {},
   "source": [
    "###  Scraping the craigslist posting data using the urls obtained through API call"
   ]
  },
  {
   "cell_type": "code",
   "execution_count": 5,
   "metadata": {},
   "outputs": [],
   "source": [
    "def instatiate_driver():\n",
    "    #########################################################################################\n",
    "    #Instatiate Selenium driver\n",
    "    #Returns the handle object\n",
    "    #########################################################################################\n",
    "    chrome_options = webdriver.ChromeOptions()\n",
    "    CHROMEDRIVER_PATH = executable_path\n",
    "    chrome_options.add_argument('--disable-gpu')\n",
    "    chrome_options.add_argument('--no-sandbox')\n",
    "    chrome_options.add_argument('--headless')\n",
    "    driver = webdriver.Chrome(executable_path=CHROMEDRIVER_PATH, options=chrome_options)\n",
    "    return driver"
   ]
  },
  {
   "cell_type": "code",
   "execution_count": 6,
   "metadata": {},
   "outputs": [],
   "source": [
    "def craigs_list_scrape(craigs_list_post_docs):\n",
    "    #Instatiate the selenium driver\n",
    "    driver = instatiate_driver()\n",
    "    error_list = []\n",
    "    \n",
    "\n",
    "    craigs_list_post_docs_cp = craigs_list_post_docs.copy()\n",
    "    for post in tqdm(craigs_list_post_docs_cp):\n",
    "\n",
    "        #Visit the url\n",
    "        driver.get(post['url'])\n",
    "\n",
    "        #Separate Try Except to handle each cases separately\n",
    "        #Apartment feature(Some extra feature beside the title)\n",
    "        try:\n",
    "            apartment_feature = driver.find_element_by_css_selector('span[class=\"postingtitletext\"] span[class=\"housing\"]').text\n",
    "        except:\n",
    "            #print(post['id'])\n",
    "            error_list.append({post['id']:'apartment_feature'})\n",
    "            apartment_feature = None\n",
    "        finally:\n",
    "            post['apartment_feature'] = apartment_feature\n",
    "\n",
    "        #First image if present   \n",
    "        try:\n",
    "            image = None\n",
    "            if post['has_image']:\n",
    "                image = driver.find_element_by_css_selector('div[class=\"gallery\"]').find_element_by_css_selector('img').get_attribute('src')\n",
    "        except:\n",
    "            print(post['id'])\n",
    "            error_list.append({post['id']:'image'})\n",
    "        finally:\n",
    "            post['has_image'] = image\n",
    "\n",
    "        #Body of the post  \n",
    "        try:\n",
    "            posting = driver.find_element_by_id(\"postingbody\").text\n",
    "        except:\n",
    "            print(post['id'])\n",
    "            error_list.append({post['id']:'postingbody'})\n",
    "            posting = None\n",
    "        finally:\n",
    "            post['posting'] = posting\n",
    "\n",
    "        #Attributes      \n",
    "        try:\n",
    "            attributes = [elem.text for elem in driver.find_elements_by_css_selector('p[class=\"attrgroup\"]  span')]\n",
    "        except:\n",
    "            print(post['id'])\n",
    "            error_list.append({post['id']:'attributes'})\n",
    "            attributes = []\n",
    "        finally:\n",
    "            post['attributes'] = attributes\n",
    "            \n",
    "        time.sleep(1)\n",
    "            \n",
    "    driver.quit()       \n",
    "    return craigs_list_post_docs_cp\n",
    "    "
   ]
  },
  {
   "cell_type": "code",
   "execution_count": 7,
   "metadata": {},
   "outputs": [],
   "source": [
    "#craiglist_housing_enriched = craigs_list_scrape(craiglist_housing)"
   ]
  },
  {
   "cell_type": "code",
   "execution_count": 8,
   "metadata": {},
   "outputs": [],
   "source": [
    "#with open(os.path.join('..','Stage','craiglist_housing_enriched.pkl'), 'wb') as f:\n",
    "    #pickle.dump(craiglist_housing_enriched, f)\n",
    "\n",
    "with open(os.path.join('..','Stage','craiglist_housing_enriched.pkl'), 'rb') as f:\n",
    "    craiglist_renting_data = pickle.load(f)\n",
    "    \n"
   ]
  },
  {
   "cell_type": "markdown",
   "metadata": {},
   "source": [
    "---\n",
    "---\n",
    "---"
   ]
  },
  {
   "cell_type": "markdown",
   "metadata": {},
   "source": [
    "### Check https://data.torontopolice.on.ca/datasets/mci-metadata/geoservice to see what input we need to give"
   ]
  },
  {
   "cell_type": "code",
   "execution_count": 9,
   "metadata": {},
   "outputs": [],
   "source": [
    "id_value_dict = {row[1][0]:row[1][1] for row in pd.read_csv(os.path.join('..','Data','MCI_Metadata.csv'))[['ObjectId', 'Fields']].iterrows()}\n",
    "value_id_dict = {id_value_dict[key]:key for key in id_value_dict}"
   ]
  },
  {
   "cell_type": "markdown",
   "metadata": {},
   "source": [
    "`MCI Data` consists of assault, auto theft, break and enter, robbery and theft over\n",
    "- We use `https://data.torontopolice.on.ca/datasets/mci-metadata/geoservice` to store all the data available (2014-2019) only"
   ]
  },
  {
   "cell_type": "code",
   "execution_count": 10,
   "metadata": {},
   "outputs": [],
   "source": [
    "def batch_retrieve(arcgis_mci):\n",
    "    #Takes url\n",
    "    #API call\n",
    "    #Gets response\n",
    "    #Extract relevant info\n",
    "    #Returns the no of records\n",
    "    \n",
    "    try:\n",
    "        response = requests.get(arcgis_mci).json()\n",
    "        records = [entry['attributes'] for entry in response['features']]\n",
    "\n",
    "    except Exception as e:\n",
    "        print(\"Arcgis mci url changed!\")\n",
    "    \n",
    "    return records\n",
    "\n",
    "def retrieve():\n",
    "    #This function calls batch retrieve function with different URLs made with non-overlapping start - end date intervals\n",
    "    #We have to do this because of the MCI data api behavious of providing only 2000 records at a time\n",
    "    #The response is appended to a json file\n",
    "    \n",
    "    Data_DF = pd.DataFrame()\n",
    "    \n",
    "    \n",
    "    start = datetime.fromisoformat('2014-01-01')\n",
    "    while start < datetime.fromisoformat('2019-12-31') :\n",
    "        end = start+timedelta(days=10) if start+timedelta(days=10) <= datetime.fromisoformat('2019-12-31') else datetime.fromisoformat('2019-12-31')\n",
    "        start_date = start.strftime(\"%Y-%m-%d\")\n",
    "        end_date = end.strftime(\"%Y-%m-%d\")\n",
    "        arcgis_mci=f\"https://services.arcgis.com/S9th0jAJ7bqgIRjw/arcgis/rest/services/MCI_2014_to_2019/FeatureServer/0/query?where=reporteddate%20%3E%3D%20TIMESTAMP%20'{start_date}%2000%3A00%3A00'%20AND%20reporteddate%20%3C%3D%20TIMESTAMP%20'{end_date}%2000%3A00%3A00'&outFields=Index_,occurrencedate,reporteddate,premisetype,offence,MCI,Division,Neighbourhood,Long,Lat,reportedyear&returnGeometry=false&orderByFields=reporteddate ASC&outSR=&f=json\"\n",
    "        records = batch_retrieve(arcgis_mci)\n",
    "        Data_DF=pd.concat([Data_DF, pd.DataFrame(records)])\n",
    "        start = end+timedelta(days=1)\n",
    "        \n",
    "    return Data_DF\n"
   ]
  },
  {
   "cell_type": "code",
   "execution_count": 11,
   "metadata": {},
   "outputs": [],
   "source": [
    "def retrieve_clean_MCI_data():\n",
    "    #This function does the following\n",
    "    #Call retrieve function to retrieve the MCI data to a DF\n",
    "    #Date conversion and filter data(occurrencedate) from 2014 onwards only\n",
    "    #Drop unnecessary col\n",
    "    #Dump the clean data in a file\n",
    "    #Returns clean data\n",
    "    \n",
    "    MCI_DF = retrieve()\n",
    "    #Convert occurrencedate and reporteddate to the standard time format\n",
    "    #Both are in UTC timestamp format which is the total millisec from 1970-01-01\n",
    "    MCI_DF[['occurrencedate','reporteddate']] = MCI_DF[['occurrencedate','reporteddate']].apply(lambda x: [datetime.utcfromtimestamp(item//1000).strftime(\"%Y-%m-%d\") for item in x])\n",
    "    \n",
    "    #Drop reportedyear as reporteddate is there\n",
    "    MCI_DF.drop('reportedyear', axis=1, inplace=True)\n",
    "    \n",
    "    #filter data(occurrencedate) from 2014 onwards only\n",
    "    MCI_DF = MCI_DF[MCI_DF['occurrencedate'].map(lambda x: datetime.strptime(x, \"%Y-%m-%d\")>=datetime.strptime('2014-01-01', \"%Y-%m-%d\"))]\n",
    "\n",
    "    \n",
    "    with open(os.path.join('..','Stage','MCI_toronto_data.pkl'), 'wb') as f:\n",
    "        pickle.dump(MCI_DF,f)\n",
    "    \n",
    "    return MCI_DF"
   ]
  },
  {
   "cell_type": "markdown",
   "metadata": {},
   "source": [
    "``MCI_DF = retrieve_clean_MCI_data()``"
   ]
  },
  {
   "cell_type": "code",
   "execution_count": 12,
   "metadata": {},
   "outputs": [],
   "source": [
    "with open(os.path.join('..','Stage','MCI_toronto_data.pkl'), 'rb') as f:\n",
    "    MCI_DF = pickle.load(f)"
   ]
  },
  {
   "cell_type": "markdown",
   "metadata": {},
   "source": [
    "### This data doesn't include homicide. Hence, we need to include that separately"
   ]
  },
  {
   "cell_type": "markdown",
   "metadata": {},
   "source": [
    "### Cleaning homicide data"
   ]
  },
  {
   "cell_type": "code",
   "execution_count": 13,
   "metadata": {},
   "outputs": [],
   "source": [
    "def load_clean_homicide_data(csvpath):\n",
    "    #This function does the following\n",
    "    #retrive the file from the path to pandas DF\n",
    "    #Rename the columns\n",
    "    #Add columnns to match the MCI table\n",
    "    #Date conversion and filter data from 2014 onwards only\n",
    "    #Returns clean data\n",
    "    \n",
    "    homicide = pd.read_csv(csvpath)\n",
    "    \n",
    "    homicide.rename(columns={'Occurrence_Date':'occurrencedate',\n",
    "       'Homicide_Type':'offence'}, inplace=True)\n",
    "\n",
    "    #Choose only common and relevant columns\n",
    "    homicide.drop(['Event_Unique_ID', 'Hood_ID', 'ObjectId', 'Occurrence_year'], inplace=True, axis=1)\n",
    "\n",
    "    #Add new columns to homicide to be able to concatenate to MCI_DF\n",
    "    homicide['premisetype'] = None\n",
    "    homicide['reporteddate'] = None\n",
    "    homicide['offence'] = 'Homicide'\n",
    "    homicide['MCI'] = 'Homicide'\n",
    "\n",
    "    #Date conversion from utc timestamp to the normal time\n",
    "    homicide['occurrencedate'] = homicide['occurrencedate'].map(lambda x: datetime.utcfromtimestamp(x//1000).strftime(\"%Y-%m-%d\"))  \n",
    "\n",
    "    #As other crime data is from 2014 onwards, taking the same time period for homicide too\n",
    "    homicide = homicide[homicide['occurrencedate'].map(lambda x: datetime.strptime(x, \"%Y-%m-%d\")>=datetime.strptime('2014-01-01', \"%Y-%m-%d\"))]   \n",
    "    \n",
    "    return homicide\n",
    "\n",
    "\n",
    "homicide = load_clean_homicide_data(os.path.join('..','Data','Homicide.csv'))"
   ]
  },
  {
   "cell_type": "markdown",
   "metadata": {},
   "source": [
    "### Combine both MIC-DF and homicide data and consider only from 2019  onwards\n",
    "\n"
   ]
  },
  {
   "cell_type": "code",
   "execution_count": 14,
   "metadata": {},
   "outputs": [],
   "source": [
    "def make_crime_data(MCI_DF, homicide):\n",
    "    #Concatenates both MCI data and homicide data\n",
    "    #Take only from 2019  onwards\n",
    "    #Sort the DF based on occurrencedate\n",
    "    #Make a unique index for the crime data\n",
    "    \n",
    "    \n",
    "    crime_data = pd.concat([MCI_DF, homicide])\n",
    "    \n",
    "    #Take only from 2018 onwards\n",
    "    crime_data = crime_data[crime_data['occurrencedate'].map(lambda x: datetime.strptime(x, \"%Y-%m-%d\")>=datetime.strptime('2019-01-01', \"%Y-%m-%d\"))] \n",
    "    \n",
    "    \n",
    "    crime_data.sort_values('occurrencedate', inplace=True) \n",
    "    \n",
    "    crime_data.drop('Index_', axis=1, inplace=True)\n",
    "    crime_data.reset_index(drop=True, inplace=True)\n",
    "    crime_data.reset_index(inplace=True)\n",
    "    crime_data.rename(columns={'index':'ID'}, inplace=True)\n",
    "    \n",
    "    \n",
    "    with open(os.path.join('..','Stage','crime_data.pkl'), 'wb') as f:\n",
    "        pickle.dump(crime_data,f)\n",
    "    \n",
    "    return crime_data"
   ]
  },
  {
   "cell_type": "markdown",
   "metadata": {},
   "source": [
    "``crime_data = make_crime_data(MCI_DF, homicide)``"
   ]
  },
  {
   "cell_type": "code",
   "execution_count": 15,
   "metadata": {},
   "outputs": [],
   "source": [
    "with open(os.path.join('..','Stage','crime_data.pkl'), 'rb') as f:\n",
    "    crime_data = pickle.load(f)"
   ]
  },
  {
   "cell_type": "code",
   "execution_count": 16,
   "metadata": {},
   "outputs": [
    {
     "data": {
      "image/png": "[encoded data removed]",
      "text/plain": [
       "<Figure size 1800x720 with 2 Axes>"
      ]
     },
     "metadata": {
      "needs_background": "light"
     },
     "output_type": "display_data"
    }
   ],
   "source": [
    "#Check for nan\n",
    "missingdata_cols = crime_data.columns[crime_data.isnull().any()].to_list()\n",
    "#visualize nan\n",
    "_=missingno.matrix(crime_data[missingdata_cols], color=(0.7,0.3,0.3))"
   ]
  },
  {
   "cell_type": "markdown",
   "metadata": {},
   "source": [
    "---\n",
    "---\n",
    "---"
   ]
  },
  {
   "cell_type": "markdown",
   "metadata": {},
   "source": [
    "# Transform"
   ]
  },
  {
   "cell_type": "markdown",
   "metadata": {},
   "source": [
    "### Initial form of data after scraping"
   ]
  },
  {
   "cell_type": "code",
   "execution_count": 17,
   "metadata": {},
   "outputs": [
    {
     "data": {
      "text/html": [
       "<div>\n",
       "<style scoped>\n",
       "    .dataframe tbody tr th:only-of-type {\n",
       "        vertical-align: middle;\n",
       "    }\n",
       "\n",
       "    .dataframe tbody tr th {\n",
       "        vertical-align: top;\n",
       "    }\n",
       "\n",
       "    .dataframe thead th {\n",
       "        text-align: right;\n",
       "    }\n",
       "</style>\n",
       "<table border=\"1\" class=\"dataframe\">\n",
       "  <thead>\n",
       "    <tr style=\"text-align: right;\">\n",
       "      <th></th>\n",
       "      <th>id</th>\n",
       "      <th>repost_of</th>\n",
       "      <th>name</th>\n",
       "      <th>url</th>\n",
       "      <th>datetime</th>\n",
       "      <th>last_updated</th>\n",
       "      <th>price</th>\n",
       "      <th>where</th>\n",
       "      <th>has_image</th>\n",
       "      <th>geotag</th>\n",
       "      <th>deleted</th>\n",
       "      <th>apartment_feature</th>\n",
       "      <th>posting</th>\n",
       "      <th>attributes</th>\n",
       "    </tr>\n",
       "  </thead>\n",
       "  <tbody>\n",
       "    <tr>\n",
       "      <th>0</th>\n",
       "      <td>7175656775</td>\n",
       "      <td>None</td>\n",
       "      <td>2 Bedrooms Apartment for Rent - 1350 Danforth ...</td>\n",
       "      <td>https://toronto.craigslist.org/tor/apa/d/scarb...</td>\n",
       "      <td>2020-08-11 17:00</td>\n",
       "      <td>2020-08-11 17:00</td>\n",
       "      <td>$1,350</td>\n",
       "      <td>1350 Danforth Road</td>\n",
       "      <td>https://images.craigslist.org/00F0F_l6VTmsBVGh...</td>\n",
       "      <td>(43.7464, -79.2323)</td>\n",
       "      <td>False</td>\n",
       "      <td>/ 2br -</td>\n",
       "      <td>Please view our available units by clicking on...</td>\n",
       "      <td>[2BR / 1Ba, cats are OK - purrr, dogs are OK -...</td>\n",
       "    </tr>\n",
       "    <tr>\n",
       "      <th>1</th>\n",
       "      <td>7175641724</td>\n",
       "      <td>4905301368</td>\n",
       "      <td>☎2 Room+Separate Reception @Etobicoke/Miss☎</td>\n",
       "      <td>https://toronto.craigslist.org/tor/off/d/2-roo...</td>\n",
       "      <td>2020-08-11 16:59</td>\n",
       "      <td>2020-08-11 16:59</td>\n",
       "      <td>$1,599</td>\n",
       "      <td>Skymark Ave</td>\n",
       "      <td>https://images.craigslist.org/00q0q_hhCvFpP61t...</td>\n",
       "      <td>(43.663625, -79.593099)</td>\n",
       "      <td>False</td>\n",
       "      <td>None</td>\n",
       "      <td>*SPECIAL OFFER - $200 off the monthly rent for...</td>\n",
       "      <td>[]</td>\n",
       "    </tr>\n",
       "    <tr>\n",
       "      <th>2</th>\n",
       "      <td>7175652366</td>\n",
       "      <td>7156890373</td>\n",
       "      <td>87 Peter - Slate - 1bed Sept 1</td>\n",
       "      <td>https://toronto.craigslist.org/tor/apa/d/toron...</td>\n",
       "      <td>2020-08-11 16:53</td>\n",
       "      <td>2020-08-11 16:53</td>\n",
       "      <td>$2,000</td>\n",
       "      <td>downtown</td>\n",
       "      <td>https://images.craigslist.org/01212_1tx3p0rlYW...</td>\n",
       "      <td>(43.646603, -79.392271)</td>\n",
       "      <td>False</td>\n",
       "      <td>/ 1br - 538ft2 -</td>\n",
       "      <td>87 Peter St –#3311 Slate – 1bed/1bath - 538 Sq...</td>\n",
       "      <td>[1BR / 1Ba, 538ft2, available sep 1, cats are ...</td>\n",
       "    </tr>\n",
       "    <tr>\n",
       "      <th>3</th>\n",
       "      <td>7175652126</td>\n",
       "      <td>7156846968</td>\n",
       "      <td>Harbour Plaza! 1Bed/1Bath +media area - September</td>\n",
       "      <td>https://toronto.craigslist.org/tor/apa/d/toron...</td>\n",
       "      <td>2020-08-11 16:52</td>\n",
       "      <td>2020-08-11 16:52</td>\n",
       "      <td>$2,250</td>\n",
       "      <td>Waterfront</td>\n",
       "      <td>https://images.craigslist.org/00Q0Q_huAI9VgN8a...</td>\n",
       "      <td>(43.641093, -79.380324)</td>\n",
       "      <td>False</td>\n",
       "      <td>/ 1br - 595ft2 -</td>\n",
       "      <td>$2250 - 88 Harbour #2405 – 1Bed/1Bath (media a...</td>\n",
       "      <td>[1BR / 1Ba, 595ft2, available sep 1, condo, w/...</td>\n",
       "    </tr>\n",
       "    <tr>\n",
       "      <th>4</th>\n",
       "      <td>7175651860</td>\n",
       "      <td>6808310702</td>\n",
       "      <td>The Eglinton / Redpath -studio</td>\n",
       "      <td>https://toronto.craigslist.org/tor/apa/d/toron...</td>\n",
       "      <td>2020-08-11 16:52</td>\n",
       "      <td>2020-08-11 16:52</td>\n",
       "      <td>$1,750</td>\n",
       "      <td>125 Redpath Ave</td>\n",
       "      <td>https://images.craigslist.org/00J0J_3SYJ5EqHxl...</td>\n",
       "      <td>(43.707766, -79.392611)</td>\n",
       "      <td>False</td>\n",
       "      <td>/ 1br - 359ft2 -</td>\n",
       "      <td>The Eglinton- Maxwell #2711 -359 SqFt Studio $...</td>\n",
       "      <td>[1BR / 2Ba, 359ft2, available aug 14, condo, w...</td>\n",
       "    </tr>\n",
       "  </tbody>\n",
       "</table>\n",
       "</div>"
      ],
      "text/plain": [
       "           id   repost_of                                               name  \\\n",
       "0  7175656775        None  2 Bedrooms Apartment for Rent - 1350 Danforth ...   \n",
       "1  7175641724  4905301368        ☎2 Room+Separate Reception @Etobicoke/Miss☎   \n",
       "2  7175652366  7156890373                     87 Peter - Slate - 1bed Sept 1   \n",
       "3  7175652126  7156846968  Harbour Plaza! 1Bed/1Bath +media area - September   \n",
       "4  7175651860  6808310702                     The Eglinton / Redpath -studio   \n",
       "\n",
       "                                                 url          datetime  \\\n",
       "0  https://toronto.craigslist.org/tor/apa/d/scarb...  2020-08-11 17:00   \n",
       "1  https://toronto.craigslist.org/tor/off/d/2-roo...  2020-08-11 16:59   \n",
       "2  https://toronto.craigslist.org/tor/apa/d/toron...  2020-08-11 16:53   \n",
       "3  https://toronto.craigslist.org/tor/apa/d/toron...  2020-08-11 16:52   \n",
       "4  https://toronto.craigslist.org/tor/apa/d/toron...  2020-08-11 16:52   \n",
       "\n",
       "       last_updated   price               where  \\\n",
       "0  2020-08-11 17:00  $1,350  1350 Danforth Road   \n",
       "1  2020-08-11 16:59  $1,599         Skymark Ave   \n",
       "2  2020-08-11 16:53  $2,000            downtown   \n",
       "3  2020-08-11 16:52  $2,250          Waterfront   \n",
       "4  2020-08-11 16:52  $1,750     125 Redpath Ave   \n",
       "\n",
       "                                           has_image                   geotag  \\\n",
       "0  https://images.craigslist.org/00F0F_l6VTmsBVGh...      (43.7464, -79.2323)   \n",
       "1  https://images.craigslist.org/00q0q_hhCvFpP61t...  (43.663625, -79.593099)   \n",
       "2  https://images.craigslist.org/01212_1tx3p0rlYW...  (43.646603, -79.392271)   \n",
       "3  https://images.craigslist.org/00Q0Q_huAI9VgN8a...  (43.641093, -79.380324)   \n",
       "4  https://images.craigslist.org/00J0J_3SYJ5EqHxl...  (43.707766, -79.392611)   \n",
       "\n",
       "   deleted apartment_feature  \\\n",
       "0    False           / 2br -   \n",
       "1    False              None   \n",
       "2    False  / 1br - 538ft2 -   \n",
       "3    False  / 1br - 595ft2 -   \n",
       "4    False  / 1br - 359ft2 -   \n",
       "\n",
       "                                             posting  \\\n",
       "0  Please view our available units by clicking on...   \n",
       "1  *SPECIAL OFFER - $200 off the monthly rent for...   \n",
       "2  87 Peter St –#3311 Slate – 1bed/1bath - 538 Sq...   \n",
       "3  $2250 - 88 Harbour #2405 – 1Bed/1Bath (media a...   \n",
       "4  The Eglinton- Maxwell #2711 -359 SqFt Studio $...   \n",
       "\n",
       "                                          attributes  \n",
       "0  [2BR / 1Ba, cats are OK - purrr, dogs are OK -...  \n",
       "1                                                 []  \n",
       "2  [1BR / 1Ba, 538ft2, available sep 1, cats are ...  \n",
       "3  [1BR / 1Ba, 595ft2, available sep 1, condo, w/...  \n",
       "4  [1BR / 2Ba, 359ft2, available aug 14, condo, w...  "
      ]
     },
     "execution_count": 17,
     "metadata": {},
     "output_type": "execute_result"
    }
   ],
   "source": [
    "DF = pd.DataFrame(craiglist_renting_data)\n",
    "DF.head()"
   ]
  },
  {
   "cell_type": "markdown",
   "metadata": {},
   "source": [
    "### Remove Duplicates and unreliable data\n",
    "- All duplicated data are removed\n",
    "- Dont consider empty postings\n",
    "- Drop all those rows which don't have both 'geotag' and 'where'"
   ]
  },
  {
   "cell_type": "code",
   "execution_count": 18,
   "metadata": {},
   "outputs": [],
   "source": [
    "## Check for duplicates in the dataset"
   ]
  },
  {
   "cell_type": "code",
   "execution_count": 19,
   "metadata": {},
   "outputs": [
    {
     "data": {
      "text/html": [
       "<div>\n",
       "<style scoped>\n",
       "    .dataframe tbody tr th:only-of-type {\n",
       "        vertical-align: middle;\n",
       "    }\n",
       "\n",
       "    .dataframe tbody tr th {\n",
       "        vertical-align: top;\n",
       "    }\n",
       "\n",
       "    .dataframe thead th {\n",
       "        text-align: right;\n",
       "    }\n",
       "</style>\n",
       "<table border=\"1\" class=\"dataframe\">\n",
       "  <thead>\n",
       "    <tr style=\"text-align: right;\">\n",
       "      <th></th>\n",
       "      <th>id</th>\n",
       "      <th>repost_of</th>\n",
       "      <th>name</th>\n",
       "      <th>url</th>\n",
       "      <th>datetime</th>\n",
       "      <th>last_updated</th>\n",
       "      <th>price</th>\n",
       "      <th>where</th>\n",
       "      <th>has_image</th>\n",
       "      <th>geotag</th>\n",
       "      <th>deleted</th>\n",
       "      <th>apartment_feature</th>\n",
       "      <th>posting</th>\n",
       "      <th>attributes</th>\n",
       "    </tr>\n",
       "  </thead>\n",
       "  <tbody>\n",
       "  </tbody>\n",
       "</table>\n",
       "</div>"
      ],
      "text/plain": [
       "Empty DataFrame\n",
       "Columns: [id, repost_of, name, url, datetime, last_updated, price, where, has_image, geotag, deleted, apartment_feature, posting, attributes]\n",
       "Index: []"
      ]
     },
     "execution_count": 19,
     "metadata": {},
     "output_type": "execute_result"
    }
   ],
   "source": [
    "duplicates = DF[DF.duplicated(DF.columns[:-1], keep=False)] #Duplicates cannot hash list\n",
    "DF.drop_duplicates(subset=DF.columns[:-1], keep=\"first\", inplace=True)\n",
    "#Now id is unique\n",
    "DF[DF.duplicated(DF.columns[0], keep=False)]\n"
   ]
  },
  {
   "cell_type": "code",
   "execution_count": 20,
   "metadata": {},
   "outputs": [
    {
     "data": {
      "text/plain": [
       "(21, 14)"
      ]
     },
     "execution_count": 20,
     "metadata": {},
     "output_type": "execute_result"
    },
    {
     "data": {
      "image/png": "[encoded data removed]",
      "text/plain": [
       "<Figure size 1800x720 with 2 Axes>"
      ]
     },
     "metadata": {
      "needs_background": "light"
     },
     "output_type": "display_data"
    }
   ],
   "source": [
    "#Check for nan\n",
    "missingdata_cols = DF.columns[DF.isnull().any()].to_list()\n",
    "#visualize nan\n",
    "_=missingno.matrix(DF[missingdata_cols], color=(0.65,0.84,0.84))\n",
    "#Dont consider empty postings\n",
    "DF.dropna(subset=['posting'], inplace=True)\n",
    "\n",
    "#Location:- Coming to whereabouts, in most of the cases, we have geotag. Some of the cases which doesn't have geotag,\n",
    "#we have \"where\". Check below.\n",
    "DF[DF[['geotag', 'where']].apply(lambda x: (x['where'] is not None) and  (x['geotag'] is None) , axis=1)].shape\n",
    "#We need to drop all those rows which don't have both\n",
    "DF.dropna(subset=['where', 'geotag'], how='all', inplace=True)"
   ]
  },
  {
   "cell_type": "markdown",
   "metadata": {},
   "source": [
    "## Deive new Features\n",
    "- Combine the \"attributes\", \"apartment_feature\", \"posting\" together as \"text\" column for string search using regex to derive new features\n",
    "- New features derived are\n",
    "    - sf - Square Feet : (int or None) Based on ft2|SqFt in the text data\n",
    "    - br - Bed Room: (float or None) Number of bedrooms, based on what is preceding BR \n",
    "    - ba - Bath: (float or None) Number of bath, based on what is preceding Ba\n",
    "    - cats_allowed - True or False, based on the presence of 'cats are OK - purrr'\n",
    "    - dogs are OK - wooof - True or False, based on the presence of 'dogs are OK - wooof'\n",
    "    - Type - Type of the housing 1 out of ``['condo', 'house', 'apartment', 'suite', 'townhouse', 'loft', 'duplex',\n",
    "       'flat', 'cottage', 'land']`` or ``None``\n",
    "    - furnished - True/Flase/None - based on the presense of (un|non)(-) furnished strings or nothing\n",
    "    "
   ]
  },
  {
   "cell_type": "markdown",
   "metadata": {},
   "source": [
    "```unique_attributes = set()\n",
    "for entry in DF['attributes']:\n",
    "    unique_attributes = unique_attributes.union(set(entry))\n",
    "unique_attributes```  "
   ]
  },
  {
   "cell_type": "code",
   "execution_count": 21,
   "metadata": {},
   "outputs": [],
   "source": [
    "#Convert list to string\n",
    "DF['attributes'] = DF['attributes'].map(lambda x: ' '.join(x))\n",
    "#Convert the apartment feature none to ''(string)\n",
    "DF['apartment_feature'].fillna(value=' ', inplace=True)#A string val\n",
    "#Combine the \"attributes\", \"apartment_feature\", \"posting\" together as \"text\" column\n",
    "DF[\"text\"] = DF.apply(lambda x: x[\"attributes\"]+x[\"apartment_feature\"]+x[\"posting\"], axis=1)\n",
    "#Use DF[\"text\"] for all further extractions "
   ]
  },
  {
   "cell_type": "code",
   "execution_count": 22,
   "metadata": {},
   "outputs": [],
   "source": [
    "def extract(s):\n",
    "    #DF['Text'] comes here as the input\n",
    "    #Square Feet\n",
    "    sf_found = re.findall('(\\d+) *(ft2|SqFt)', s)\n",
    "    sf =  (None if not sf_found else int(sf_found[0][0]))\n",
    "\n",
    "    #Bed Room\n",
    "    br_found = re.findall('(\\d){0,1}(.5){0,1} *BR', s)\n",
    "    br = float(''.join(br_found[0])) if  br_found and ''.join(br_found[0]) else None #To handle ('','','') situation\n",
    "            \n",
    "    \n",
    "    #Bath\n",
    "    ba_found = re.findall('(\\d){0,1}(.5){0,1}(\\+){0,1} *B[aA]',s)\n",
    "    ba = float(re.sub('[^\\d]', '', ''.join(ba_found[0]))) if  ba_found and re.sub('[^\\d]', '', ''.join(ba_found[0])) else None\n",
    "    \n",
    "    \n",
    "    #'cats are OK - purrr'\n",
    "    cats_allowed = (True if re.findall('cats are OK - purrr', s) else False)\n",
    "    \n",
    "    #'dogs are OK - wooof'\n",
    "    dogs_allowed = (True if re.findall('dogs are OK - wooof', s) else False)\n",
    "    \n",
    "    #Check the type of the commodity\n",
    "    re.sub(r'[\\n\\.,!/?()]', ' ', DF['text'].iloc[0].lower()) #Remove unnecessary chars. We need to capture apartment\\ also as word apartment\n",
    "    cleaned_s = re.sub('[\\n\\\\.,!\\/?]', ' ', s)\n",
    "    found_type = re.findall(r\"\\b(townhouse|loft|land|house|flat|duplex|condo|cottage|suite)\\b\", cleaned_s, flags=re.IGNORECASE) \n",
    "    Type = (None if not found_type else found_type[0].lower())\n",
    "    #Though apartment is a generic term, some people mention the type as apartment, we are going to take that as the last priority\n",
    "    #if nothing else is mentioned\n",
    "    if not Type:\n",
    "        found_type = re.findall(r\"\\bapartment\\b\", cleaned_s, flags=re.IGNORECASE)\n",
    "        Type = (None if not found_type else found_type[0].lower())\n",
    "        \n",
    "    #Furnished or Unfurnished checks\n",
    "    found_un = re.findall('(non|un)-*(?=furnished)', s , flags=re.IGNORECASE)\n",
    "    furnished = False\n",
    "    if not found_un:\n",
    "        #furnished = None #Nothing found\n",
    "        found_furnished = re.findall('furnished', s , flags=re.IGNORECASE)\n",
    "        furnished = (None if not found_furnished else True)\n",
    "    \n",
    "    return [sf,br,ba, cats_allowed, dogs_allowed, Type, furnished]"
   ]
  },
  {
   "cell_type": "code",
   "execution_count": 23,
   "metadata": {},
   "outputs": [],
   "source": [
    "DF[['sf', 'BR', 'Ba','cats_allowed', 'dogs_allowed', 'Type', 'furnished']] = pd.DataFrame(DF['text'].map(lambda x : extract(x)).to_list(), index=DF.index)"
   ]
  },
  {
   "cell_type": "code",
   "execution_count": 24,
   "metadata": {
    "scrolled": true
   },
   "outputs": [
    {
     "data": {
      "image/png": "[encoded data removed]",
      "text/plain": [
       "<Figure size 1800x720 with 2 Axes>"
      ]
     },
     "metadata": {
      "needs_background": "light"
     },
     "output_type": "display_data"
    }
   ],
   "source": [
    "#Check for nan\n",
    "missingdata_cols = DF.columns[DF.isnull().any()].to_list()\n",
    "#visualize nan\n",
    "_=missingno.matrix(DF[missingdata_cols], color=(0.7,0.3,0.3))\n"
   ]
  },
  {
   "cell_type": "markdown",
   "metadata": {},
   "source": [
    "### Geocode the address to lat long"
   ]
  },
  {
   "cell_type": "code",
   "execution_count": null,
   "metadata": {},
   "outputs": [],
   "source": [
    "#Dictionary with index and address\n",
    "def geocode(addresses):\n",
    "    #Input: a dictionary with key as index and value as address\n",
    "    #Output: a dictionary with key as index and value as (lat, long) tuple\n",
    "    lat_long = {}\n",
    "    for index in addresses:\n",
    "        try:\n",
    "            url = geocode_api+f'?address={addresses[index]}'+f'&key={google_api}'\n",
    "            url = re.sub(' +', '%20', url)\n",
    "            response = requests.get(url)\n",
    "            if response.ok:\n",
    "                content = response.json()\n",
    "                lat_long[index]=tuple(content['results'][0]['geometry']['location'].values())\n",
    "            else:\n",
    "                lat_long[index]=None\n",
    "        except Exception as e:\n",
    "            print(e)\n",
    "            lat_long[index]=None\n",
    "    return lat_long"
   ]
  },
  {
   "cell_type": "code",
   "execution_count": null,
   "metadata": {},
   "outputs": [],
   "source": [
    "addresses = DF[DF['geotag'].isnull()]['where'].to_dict()"
   ]
  },
  {
   "cell_type": "markdown",
   "metadata": {},
   "source": [
    "```lat_long = geocode(addresses)```"
   ]
  },
  {
   "cell_type": "code",
   "execution_count": null,
   "metadata": {},
   "outputs": [],
   "source": [
    "#lat_long = geocode(addresses)"
   ]
  },
  {
   "cell_type": "code",
   "execution_count": null,
   "metadata": {},
   "outputs": [],
   "source": [
    "## Replace the Null geocodes with the geocodes retrieved from the address\n",
    "DF.loc[lat_long.keys(), 'geotag'] = DF.loc[lat_long.keys()].index.map(lat_long)"
   ]
  },
  {
   "cell_type": "code",
   "execution_count": null,
   "metadata": {},
   "outputs": [],
   "source": [
    "#Now no missing values in geocode\n",
    "#Check for nan\n",
    "missingdata_cols = DF.columns[DF.isnull().any()].to_list()\n",
    "missingdata_cols"
   ]
  },
  {
   "cell_type": "markdown",
   "metadata": {},
   "source": [
    "### Postal codes based on lat long"
   ]
  },
  {
   "cell_type": "code",
   "execution_count": null,
   "metadata": {},
   "outputs": [],
   "source": [
    "#https://maps.googleapis.com/maps/api/geocode/json?latlng=40.714224,-73.961452&key=YOUR_API_KEY\n",
    "#reverse_geocode_api = 'https://maps.googleapis.com/maps/api/geocode/json'\n",
    "\n",
    "#Dictionary with index and address\n",
    "def reverse_geocode(loc):\n",
    "    #Input: tuple - (lat, long)\n",
    "    #Output: string - Postal Code\n",
    "    lat, long = loc\n",
    "    postal_code = None\n",
    "    try:\n",
    "        url = reverse_geocode_api+f'?latlng={lat},{long}&result_type=postal_code'+f'&key={google_api}'\n",
    "        url = re.sub(' +', '%20', url)\n",
    "        #print(url)\n",
    "        response = requests.get(url)\n",
    "        if response.ok:\n",
    "            content = response.json()\n",
    "            postal_code = content['results'][0][\"address_components\"][0]['long_name'] if 'postal_code' in content['results'][0]\\\n",
    "[\"address_components\"][0]['types'] else None\n",
    "    except Exception as e:\n",
    "        print(e)\n",
    "    return postal_code   "
   ]
  },
  {
   "cell_type": "code",
   "execution_count": null,
   "metadata": {},
   "outputs": [],
   "source": [
    "#DF['postal_code'] = DF['geotag'].map(lambda x: reverse_geocode(x))\n",
    "#DF[DF['postal_code'].notnull()].shape\n",
    "#DF.shape\n",
    "#Discarding those 6 items which doesn't have postal code\n",
    "#DF.drop(index=DF[DF['postal_code'].isnull()].index, inplace=True)"
   ]
  },
  {
   "cell_type": "markdown",
   "metadata": {},
   "source": [
    "``DF['postal_code'] = DF['geotag'].map(lambda x: reverse_geocode(x))``\n",
    "\n",
    "``DF[DF['postal_code'].notnull()].shape``\n",
    "\n",
    "``DF.shape``\n",
    "\n",
    "``#Discarding those 7 items which doesn't have postal code``\n",
    "\n",
    "``DF.drop(index=DF[DF['postal_code'].isnull()].index, inplace=True)``"
   ]
  },
  {
   "cell_type": "code",
   "execution_count": null,
   "metadata": {},
   "outputs": [],
   "source": [
    "## Some Florida postal codes in the dataset. Remove them\n",
    "#DF['postal_code'][DF['postal_code'].map(lambda x : re.findall('^[\\d].*', x)[0] if re.findall('^[\\d].*', x) else None).notnull()]  \n"
   ]
  },
  {
   "cell_type": "code",
   "execution_count": null,
   "metadata": {},
   "outputs": [],
   "source": [
    "Florida_Zipcodes = DF['postal_code'][DF['postal_code'].map(lambda x : re.findall('^[\\d].*', x)[0] if re.findall('^[\\d].*', x) else None).notnull()].index    \n",
    "#DF.drop(index=Florida_Zipcodes, inplace=True)"
   ]
  },
  {
   "cell_type": "markdown",
   "metadata": {},
   "source": [
    "### Save standalone craigslist dataset"
   ]
  },
  {
   "cell_type": "code",
   "execution_count": null,
   "metadata": {},
   "outputs": [],
   "source": [
    "#with open(os.path.join('..','Stage','craiglist_standalone.pkl'), 'wb') as f:\n",
    "    #pickle.dump(DF, f)"
   ]
  },
  {
   "cell_type": "code",
   "execution_count": 25,
   "metadata": {},
   "outputs": [],
   "source": [
    "with open(os.path.join('..','Stage','craiglist_standalone.pkl'), 'rb') as f:\n",
    "    DF = pickle.load(f)"
   ]
  },
  {
   "cell_type": "markdown",
   "metadata": {},
   "source": [
    "### Toronto postal codes"
   ]
  },
  {
   "cell_type": "code",
   "execution_count": 26,
   "metadata": {},
   "outputs": [],
   "source": [
    "postal_code_data = pd.read_html('https://en.wikipedia.org/wiki/List_of_postal_codes_of_Canada:_M')[0]"
   ]
  },
  {
   "cell_type": "code",
   "execution_count": 27,
   "metadata": {},
   "outputs": [],
   "source": [
    "postal_code_data = postal_code_data[postal_code_data['Borough'].map(lambda x: None if not re.findall('toronto', x, flags=re.IGNORECASE) else re.findall('toronto', x, flags=re.IGNORECASE)[0]).notnull()]\n",
    "tor_postal_codes=postal_code_data['Postal Code'].to_list()"
   ]
  },
  {
   "cell_type": "markdown",
   "metadata": {},
   "source": [
    "### Filter rental data based on postal code to extract just Toronto area (Initial data set has greater toronto area)"
   ]
  },
  {
   "cell_type": "code",
   "execution_count": 28,
   "metadata": {},
   "outputs": [],
   "source": [
    "DF['Toronto'] = DF['postal_code'].map(lambda x: 'Toronto' if x.split()[0] in tor_postal_codes else None)"
   ]
  },
  {
   "cell_type": "code",
   "execution_count": 29,
   "metadata": {},
   "outputs": [],
   "source": [
    "craiglist_toronto = DF[DF['Toronto'].notnull()].copy()\n",
    "craiglist_toronto.drop('Toronto', axis=1, inplace=True)"
   ]
  },
  {
   "cell_type": "markdown",
   "metadata": {},
   "source": [
    "# Connect tables Housing and crime data meaningfully!"
   ]
  },
  {
   "cell_type": "markdown",
   "metadata": {},
   "source": [
    "- **``We need to have a bridge table``**\n",
    "- **``Bridge table connects the rental data to the crime data based the crime locations within 3 kms of the rental location``**\n",
    "- **``This logic is built using harvesine distance, which is the over the earth distance between two points``**\n",
    "- **``The distance function is written separately and imported``**"
   ]
  },
  {
   "cell_type": "code",
   "execution_count": 30,
   "metadata": {},
   "outputs": [],
   "source": [
    "def be_the_bridge(DF, crime_data, radius=3):\n",
    "    \n",
    "    bridge = pd.DataFrame()\n",
    "    for row in tqdm(DF.iterrows()):\n",
    "        try:\n",
    "            \n",
    "            loc = row[1]['geotag']\n",
    "            result=crime_data[['Lat', 'Long']].apply(lambda x: (harvesine_distance(loc, (x['Lat'], x['Long'])) if harvesine_distance(loc, (x['Lat'], x['Long'])) <=radius else None), axis=1)\n",
    "            result=pd.DataFrame(result[result.notnull()], columns=['distance'])\n",
    "            closest_crimes=pd.concat([crime_data.loc[result.index, 'ID'], result], axis=1)\n",
    "            closest_crimes['rental_id'] = row[1]['id']\n",
    "            closest_crimes.rename({'ID':'crime_id'})\n",
    "\n",
    "            bridge=pd.concat([bridge, closest_crimes])\n",
    "        \n",
    "        except:\n",
    "            print(row[0])\n",
    "            \n",
    "    return bridge"
   ]
  },
  {
   "cell_type": "code",
   "execution_count": 31,
   "metadata": {},
   "outputs": [],
   "source": [
    "#bridge = be_the_bridge(DF, crime_data, radius=3)"
   ]
  },
  {
   "cell_type": "markdown",
   "metadata": {},
   "source": [
    "``with open(os.path.join('..','Stage','bridge_table_craigslist.pkl'), 'wb') as f:\n",
    "     pickle.dump(bridge, f)``"
   ]
  },
  {
   "cell_type": "code",
   "execution_count": 32,
   "metadata": {},
   "outputs": [],
   "source": [
    "with open(os.path.join('..','Stage','bridge_table_craigslist.pkl'), 'rb') as f:\n",
    "     bridge_table = pickle.load(f)\n",
    "        "
   ]
  },
  {
   "cell_type": "markdown",
   "metadata": {},
   "source": [
    "### Tranformation required to append the craigslist table with kijii table"
   ]
  },
  {
   "cell_type": "markdown",
   "metadata": {},
   "source": [
    "- **``We need to concatenate craigslist table with kijiji table``**\n",
    "- **``All the column names have to be unique``**"
   ]
  },
  {
   "cell_type": "code",
   "execution_count": 33,
   "metadata": {},
   "outputs": [],
   "source": [
    "def clean_rental_for_merge(df):\n",
    "    DF= df.copy()\n",
    "    #To rename\n",
    "    DF.rename(columns={\"has_image\":\"image\", \"name\":\"title\", \"datetime\":\"post_published_date\", \"where\":\"address\", \"Type\":\"rental_type\", \"BR\":\"bedrooms\", \"Ba\":\"bathrooms\", \"sf\":\"sqft\", \"text\":\"description\"}, inplace=True)              \n",
    "    #To extract\n",
    "    DF['pet_friendly'] = DF.apply(lambda x: x['cats_allowed'] | x['dogs_allowed'], axis=1)\n",
    "    DF['lat'] = DF.geotag.map(lambda x: float(x[0]))\n",
    "    DF['long'] = DF.geotag.map(lambda x: float(x[1]))\n",
    "    #To clean\n",
    "    DF['price'] = DF['price'].map(lambda x: re.sub('[^\\d]', '',x))\n",
    "    #To drop\n",
    "    DF.drop([\"repost_of\", \"deleted\", \"apartment_feature\", \"cats_allowed\", \"dogs_allowed\", \"geotag\", \"posting\", \"attributes\", \"last_updated\"], axis=1, inplace=True)\n",
    "    #Add one source column\n",
    "    DF['source'] = 'craigslist'\n",
    "    #FSA\n",
    "    DF['FSA']=DF['postal_code'].map(lambda x:x.split(' ')[0])\n",
    "    #Reorder\n",
    "    DF = DF[['id', 'title', 'price', 'sqft','image','url','post_published_date', 'lat', 'long', 'postal_code', 'FSA', 'rental_type','bedrooms', 'bathrooms', 'furnished', 'pet_friendly', 'description', 'source']]\n",
    "    #Append c_ to the index\n",
    "    DF['id'] = DF['id'].map(lambda x: 'c_'+str(x))\n",
    "    #Change date\n",
    "    DF.post_published_date = DF.post_published_date.map(lambda x: datetime.strptime(x, \"%Y-%m-%d %H:%M\").strftime(\"%Y-%m-%d\"))\n",
    "    \n",
    "    return DF\n",
    "    "
   ]
  },
  {
   "cell_type": "code",
   "execution_count": 34,
   "metadata": {},
   "outputs": [],
   "source": [
    "DF = clean_rental_for_merge(DF)"
   ]
  },
  {
   "cell_type": "code",
   "execution_count": 35,
   "metadata": {},
   "outputs": [],
   "source": [
    "def clean_bridge_for_merge(df):\n",
    "    DF = df.copy()\n",
    "    DF.reset_index(drop=True, inplace=True)\n",
    "    DF.reset_index(inplace=True)\n",
    "    DF.columns= ['id', 'crime_id', 'distance_rental_crime', 'rental_id']\n",
    "    DF = DF[['id', 'crime_id', 'rental_id', 'distance_rental_crime']]\n",
    "    DF['rental_id'] = DF['rental_id'].map(lambda x: 'c_'+str(x))\n",
    "    return DF"
   ]
  },
  {
   "cell_type": "code",
   "execution_count": 36,
   "metadata": {},
   "outputs": [],
   "source": [
    "bridge_table = clean_bridge_for_merge(bridge_table)"
   ]
  },
  {
   "cell_type": "markdown",
   "metadata": {},
   "source": [
    "### Tranformation required to add crime table"
   ]
  },
  {
   "cell_type": "code",
   "execution_count": 37,
   "metadata": {},
   "outputs": [],
   "source": [
    "def clean_crime_data_for_load(df):\n",
    "    DF = df.copy()\n",
    "    #To rename\n",
    "    DF.rename(columns={\"ID\":\"id\", \"Lat\":\"lat\", \"Long\":\"long\", \"Division\":\"division\", \"Neighbourhood\":\"neighbourhood\"}, inplace=True)\n",
    "    DF=DF[['id', 'lat', 'long', 'occurrencedate', 'reporteddate', 'premisetype', 'offence', 'MCI',\n",
    "       'division', 'neighbourhood']]\n",
    "    return DF"
   ]
  },
  {
   "cell_type": "code",
   "execution_count": 38,
   "metadata": {},
   "outputs": [],
   "source": [
    "crime_data = clean_crime_data_for_load(crime_data)"
   ]
  },
  {
   "cell_type": "code",
   "execution_count": 39,
   "metadata": {},
   "outputs": [
    {
     "data": {
      "text/html": [
       "<div>\n",
       "<style scoped>\n",
       "    .dataframe tbody tr th:only-of-type {\n",
       "        vertical-align: middle;\n",
       "    }\n",
       "\n",
       "    .dataframe tbody tr th {\n",
       "        vertical-align: top;\n",
       "    }\n",
       "\n",
       "    .dataframe thead th {\n",
       "        text-align: right;\n",
       "    }\n",
       "</style>\n",
       "<table border=\"1\" class=\"dataframe\">\n",
       "  <thead>\n",
       "    <tr style=\"text-align: right;\">\n",
       "      <th></th>\n",
       "      <th>id</th>\n",
       "      <th>crime_id</th>\n",
       "      <th>rental_id</th>\n",
       "      <th>distance_rental_crime</th>\n",
       "    </tr>\n",
       "  </thead>\n",
       "  <tbody>\n",
       "    <tr>\n",
       "      <th>0</th>\n",
       "      <td>0</td>\n",
       "      <td>1</td>\n",
       "      <td>c_7175656775</td>\n",
       "      <td>2.949897</td>\n",
       "    </tr>\n",
       "    <tr>\n",
       "      <th>1</th>\n",
       "      <td>1</td>\n",
       "      <td>27</td>\n",
       "      <td>c_7175656775</td>\n",
       "      <td>2.671067</td>\n",
       "    </tr>\n",
       "    <tr>\n",
       "      <th>2</th>\n",
       "      <td>2</td>\n",
       "      <td>36</td>\n",
       "      <td>c_7175656775</td>\n",
       "      <td>2.810086</td>\n",
       "    </tr>\n",
       "    <tr>\n",
       "      <th>3</th>\n",
       "      <td>3</td>\n",
       "      <td>38</td>\n",
       "      <td>c_7175656775</td>\n",
       "      <td>2.961821</td>\n",
       "    </tr>\n",
       "    <tr>\n",
       "      <th>4</th>\n",
       "      <td>4</td>\n",
       "      <td>39</td>\n",
       "      <td>c_7175656775</td>\n",
       "      <td>2.961821</td>\n",
       "    </tr>\n",
       "  </tbody>\n",
       "</table>\n",
       "</div>"
      ],
      "text/plain": [
       "   id  crime_id     rental_id  distance_rental_crime\n",
       "0   0         1  c_7175656775               2.949897\n",
       "1   1        27  c_7175656775               2.671067\n",
       "2   2        36  c_7175656775               2.810086\n",
       "3   3        38  c_7175656775               2.961821\n",
       "4   4        39  c_7175656775               2.961821"
      ]
     },
     "execution_count": 39,
     "metadata": {},
     "output_type": "execute_result"
    }
   ],
   "source": [
    "bridge_table.head()"
   ]
  },
  {
   "cell_type": "code",
   "execution_count": 40,
   "metadata": {},
   "outputs": [
    {
     "data": {
      "text/html": [
       "<div>\n",
       "<style scoped>\n",
       "    .dataframe tbody tr th:only-of-type {\n",
       "        vertical-align: middle;\n",
       "    }\n",
       "\n",
       "    .dataframe tbody tr th {\n",
       "        vertical-align: top;\n",
       "    }\n",
       "\n",
       "    .dataframe thead th {\n",
       "        text-align: right;\n",
       "    }\n",
       "</style>\n",
       "<table border=\"1\" class=\"dataframe\">\n",
       "  <thead>\n",
       "    <tr style=\"text-align: right;\">\n",
       "      <th></th>\n",
       "      <th>id</th>\n",
       "      <th>lat</th>\n",
       "      <th>long</th>\n",
       "      <th>occurrencedate</th>\n",
       "      <th>reporteddate</th>\n",
       "      <th>premisetype</th>\n",
       "      <th>offence</th>\n",
       "      <th>MCI</th>\n",
       "      <th>division</th>\n",
       "      <th>neighbourhood</th>\n",
       "    </tr>\n",
       "  </thead>\n",
       "  <tbody>\n",
       "    <tr>\n",
       "      <th>0</th>\n",
       "      <td>0</td>\n",
       "      <td>43.665787</td>\n",
       "      <td>-79.320106</td>\n",
       "      <td>2019-01-01</td>\n",
       "      <td>2019-01-01</td>\n",
       "      <td>Commercial</td>\n",
       "      <td>Assault With Weapon</td>\n",
       "      <td>Assault</td>\n",
       "      <td>D55</td>\n",
       "      <td>Greenwood-Coxwell (65)</td>\n",
       "    </tr>\n",
       "    <tr>\n",
       "      <th>1</th>\n",
       "      <td>1</td>\n",
       "      <td>43.763969</td>\n",
       "      <td>-79.204781</td>\n",
       "      <td>2019-01-01</td>\n",
       "      <td>2019-05-06</td>\n",
       "      <td>Apartment</td>\n",
       "      <td>Assault</td>\n",
       "      <td>Assault</td>\n",
       "      <td>D43</td>\n",
       "      <td>Woburn (137)</td>\n",
       "    </tr>\n",
       "    <tr>\n",
       "      <th>2</th>\n",
       "      <td>2</td>\n",
       "      <td>43.758972</td>\n",
       "      <td>-79.197578</td>\n",
       "      <td>2019-01-01</td>\n",
       "      <td>2019-02-01</td>\n",
       "      <td>Commercial</td>\n",
       "      <td>Assault</td>\n",
       "      <td>Assault</td>\n",
       "      <td>D43</td>\n",
       "      <td>West Hill (136)</td>\n",
       "    </tr>\n",
       "    <tr>\n",
       "      <th>3</th>\n",
       "      <td>3</td>\n",
       "      <td>43.739082</td>\n",
       "      <td>-79.592819</td>\n",
       "      <td>2019-01-01</td>\n",
       "      <td>2019-04-27</td>\n",
       "      <td>Apartment</td>\n",
       "      <td>Assault</td>\n",
       "      <td>Assault</td>\n",
       "      <td>D23</td>\n",
       "      <td>Mount Olive-Silverstone-Jamestown (2)</td>\n",
       "    </tr>\n",
       "    <tr>\n",
       "      <th>4</th>\n",
       "      <td>4</td>\n",
       "      <td>43.639343</td>\n",
       "      <td>-79.451309</td>\n",
       "      <td>2019-01-01</td>\n",
       "      <td>2019-04-26</td>\n",
       "      <td>Outside</td>\n",
       "      <td>Assault</td>\n",
       "      <td>Assault</td>\n",
       "      <td>D11</td>\n",
       "      <td>High Park-Swansea (87)</td>\n",
       "    </tr>\n",
       "  </tbody>\n",
       "</table>\n",
       "</div>"
      ],
      "text/plain": [
       "   id        lat       long occurrencedate reporteddate premisetype  \\\n",
       "0   0  43.665787 -79.320106     2019-01-01   2019-01-01  Commercial   \n",
       "1   1  43.763969 -79.204781     2019-01-01   2019-05-06   Apartment   \n",
       "2   2  43.758972 -79.197578     2019-01-01   2019-02-01  Commercial   \n",
       "3   3  43.739082 -79.592819     2019-01-01   2019-04-27   Apartment   \n",
       "4   4  43.639343 -79.451309     2019-01-01   2019-04-26     Outside   \n",
       "\n",
       "               offence      MCI division  \\\n",
       "0  Assault With Weapon  Assault      D55   \n",
       "1              Assault  Assault      D43   \n",
       "2              Assault  Assault      D43   \n",
       "3              Assault  Assault      D23   \n",
       "4              Assault  Assault      D11   \n",
       "\n",
       "                           neighbourhood  \n",
       "0                 Greenwood-Coxwell (65)  \n",
       "1                           Woburn (137)  \n",
       "2                        West Hill (136)  \n",
       "3  Mount Olive-Silverstone-Jamestown (2)  \n",
       "4                 High Park-Swansea (87)  "
      ]
     },
     "execution_count": 40,
     "metadata": {},
     "output_type": "execute_result"
    }
   ],
   "source": [
    "crime_data.head()"
   ]
  },
  {
   "cell_type": "code",
   "execution_count": 41,
   "metadata": {
    "scrolled": true
   },
   "outputs": [
    {
     "data": {
      "text/html": [
       "<div>\n",
       "<style scoped>\n",
       "    .dataframe tbody tr th:only-of-type {\n",
       "        vertical-align: middle;\n",
       "    }\n",
       "\n",
       "    .dataframe tbody tr th {\n",
       "        vertical-align: top;\n",
       "    }\n",
       "\n",
       "    .dataframe thead th {\n",
       "        text-align: right;\n",
       "    }\n",
       "</style>\n",
       "<table border=\"1\" class=\"dataframe\">\n",
       "  <thead>\n",
       "    <tr style=\"text-align: right;\">\n",
       "      <th></th>\n",
       "      <th>id</th>\n",
       "      <th>title</th>\n",
       "      <th>price</th>\n",
       "      <th>sqft</th>\n",
       "      <th>image</th>\n",
       "      <th>url</th>\n",
       "      <th>post_published_date</th>\n",
       "      <th>lat</th>\n",
       "      <th>long</th>\n",
       "      <th>postal_code</th>\n",
       "      <th>FSA</th>\n",
       "      <th>rental_type</th>\n",
       "      <th>bedrooms</th>\n",
       "      <th>bathrooms</th>\n",
       "      <th>furnished</th>\n",
       "      <th>pet_friendly</th>\n",
       "      <th>description</th>\n",
       "      <th>source</th>\n",
       "    </tr>\n",
       "  </thead>\n",
       "  <tbody>\n",
       "    <tr>\n",
       "      <th>0</th>\n",
       "      <td>c_7175656775</td>\n",
       "      <td>2 Bedrooms Apartment for Rent - 1350 Danforth ...</td>\n",
       "      <td>1350</td>\n",
       "      <td>NaN</td>\n",
       "      <td>https://images.craigslist.org/00F0F_l6VTmsBVGh...</td>\n",
       "      <td>https://toronto.craigslist.org/tor/apa/d/scarb...</td>\n",
       "      <td>2020-08-11</td>\n",
       "      <td>43.746400</td>\n",
       "      <td>-79.232300</td>\n",
       "      <td>M1J 2V3</td>\n",
       "      <td>M1J</td>\n",
       "      <td>house</td>\n",
       "      <td>2.0</td>\n",
       "      <td>1.0</td>\n",
       "      <td>True</td>\n",
       "      <td>True</td>\n",
       "      <td>2BR / 1Ba cats are OK - purrr dogs are OK - wo...</td>\n",
       "      <td>craigslist</td>\n",
       "    </tr>\n",
       "    <tr>\n",
       "      <th>1</th>\n",
       "      <td>c_7175641724</td>\n",
       "      <td>☎2 Room+Separate Reception @Etobicoke/Miss☎</td>\n",
       "      <td>1599</td>\n",
       "      <td>NaN</td>\n",
       "      <td>https://images.craigslist.org/00q0q_hhCvFpP61t...</td>\n",
       "      <td>https://toronto.craigslist.org/tor/off/d/2-roo...</td>\n",
       "      <td>2020-08-11</td>\n",
       "      <td>43.663625</td>\n",
       "      <td>-79.593099</td>\n",
       "      <td>L4W 4P2</td>\n",
       "      <td>L4W</td>\n",
       "      <td>suite</td>\n",
       "      <td>NaN</td>\n",
       "      <td>NaN</td>\n",
       "      <td>True</td>\n",
       "      <td>False</td>\n",
       "      <td>*SPECIAL OFFER - $200 off the monthly rent fo...</td>\n",
       "      <td>craigslist</td>\n",
       "    </tr>\n",
       "    <tr>\n",
       "      <th>2</th>\n",
       "      <td>c_7175652366</td>\n",
       "      <td>87 Peter - Slate - 1bed Sept 1</td>\n",
       "      <td>2000</td>\n",
       "      <td>538.0</td>\n",
       "      <td>https://images.craigslist.org/01212_1tx3p0rlYW...</td>\n",
       "      <td>https://toronto.craigslist.org/tor/apa/d/toron...</td>\n",
       "      <td>2020-08-11</td>\n",
       "      <td>43.646603</td>\n",
       "      <td>-79.392271</td>\n",
       "      <td>M5V 2G4</td>\n",
       "      <td>M5V</td>\n",
       "      <td>condo</td>\n",
       "      <td>1.0</td>\n",
       "      <td>1.0</td>\n",
       "      <td>None</td>\n",
       "      <td>True</td>\n",
       "      <td>1BR / 1Ba 538ft2 available sep 1 cats are OK -...</td>\n",
       "      <td>craigslist</td>\n",
       "    </tr>\n",
       "    <tr>\n",
       "      <th>3</th>\n",
       "      <td>c_7175652126</td>\n",
       "      <td>Harbour Plaza! 1Bed/1Bath +media area - September</td>\n",
       "      <td>2250</td>\n",
       "      <td>595.0</td>\n",
       "      <td>https://images.craigslist.org/00Q0Q_huAI9VgN8a...</td>\n",
       "      <td>https://toronto.craigslist.org/tor/apa/d/toron...</td>\n",
       "      <td>2020-08-11</td>\n",
       "      <td>43.641093</td>\n",
       "      <td>-79.380324</td>\n",
       "      <td>M5J</td>\n",
       "      <td>M5J</td>\n",
       "      <td>condo</td>\n",
       "      <td>1.0</td>\n",
       "      <td>1.0</td>\n",
       "      <td>None</td>\n",
       "      <td>False</td>\n",
       "      <td>1BR / 1Ba 595ft2 available sep 1 condo w/d in ...</td>\n",
       "      <td>craigslist</td>\n",
       "    </tr>\n",
       "    <tr>\n",
       "      <th>4</th>\n",
       "      <td>c_7175651860</td>\n",
       "      <td>The Eglinton / Redpath -studio</td>\n",
       "      <td>1750</td>\n",
       "      <td>359.0</td>\n",
       "      <td>https://images.craigslist.org/00J0J_3SYJ5EqHxl...</td>\n",
       "      <td>https://toronto.craigslist.org/tor/apa/d/toron...</td>\n",
       "      <td>2020-08-11</td>\n",
       "      <td>43.707766</td>\n",
       "      <td>-79.392611</td>\n",
       "      <td>M4P 1J5</td>\n",
       "      <td>M4P</td>\n",
       "      <td>condo</td>\n",
       "      <td>1.0</td>\n",
       "      <td>2.0</td>\n",
       "      <td>None</td>\n",
       "      <td>False</td>\n",
       "      <td>1BR / 2Ba 359ft2 available aug 14 condo w/d in...</td>\n",
       "      <td>craigslist</td>\n",
       "    </tr>\n",
       "  </tbody>\n",
       "</table>\n",
       "</div>"
      ],
      "text/plain": [
       "             id                                              title price  \\\n",
       "0  c_7175656775  2 Bedrooms Apartment for Rent - 1350 Danforth ...  1350   \n",
       "1  c_7175641724        ☎2 Room+Separate Reception @Etobicoke/Miss☎  1599   \n",
       "2  c_7175652366                     87 Peter - Slate - 1bed Sept 1  2000   \n",
       "3  c_7175652126  Harbour Plaza! 1Bed/1Bath +media area - September  2250   \n",
       "4  c_7175651860                     The Eglinton / Redpath -studio  1750   \n",
       "\n",
       "    sqft                                              image  \\\n",
       "0    NaN  https://images.craigslist.org/00F0F_l6VTmsBVGh...   \n",
       "1    NaN  https://images.craigslist.org/00q0q_hhCvFpP61t...   \n",
       "2  538.0  https://images.craigslist.org/01212_1tx3p0rlYW...   \n",
       "3  595.0  https://images.craigslist.org/00Q0Q_huAI9VgN8a...   \n",
       "4  359.0  https://images.craigslist.org/00J0J_3SYJ5EqHxl...   \n",
       "\n",
       "                                                 url post_published_date  \\\n",
       "0  https://toronto.craigslist.org/tor/apa/d/scarb...          2020-08-11   \n",
       "1  https://toronto.craigslist.org/tor/off/d/2-roo...          2020-08-11   \n",
       "2  https://toronto.craigslist.org/tor/apa/d/toron...          2020-08-11   \n",
       "3  https://toronto.craigslist.org/tor/apa/d/toron...          2020-08-11   \n",
       "4  https://toronto.craigslist.org/tor/apa/d/toron...          2020-08-11   \n",
       "\n",
       "         lat       long postal_code  FSA rental_type  bedrooms  bathrooms  \\\n",
       "0  43.746400 -79.232300     M1J 2V3  M1J       house       2.0        1.0   \n",
       "1  43.663625 -79.593099     L4W 4P2  L4W       suite       NaN        NaN   \n",
       "2  43.646603 -79.392271     M5V 2G4  M5V       condo       1.0        1.0   \n",
       "3  43.641093 -79.380324         M5J  M5J       condo       1.0        1.0   \n",
       "4  43.707766 -79.392611     M4P 1J5  M4P       condo       1.0        2.0   \n",
       "\n",
       "  furnished  pet_friendly                                        description  \\\n",
       "0      True          True  2BR / 1Ba cats are OK - purrr dogs are OK - wo...   \n",
       "1      True         False   *SPECIAL OFFER - $200 off the monthly rent fo...   \n",
       "2      None          True  1BR / 1Ba 538ft2 available sep 1 cats are OK -...   \n",
       "3      None         False  1BR / 1Ba 595ft2 available sep 1 condo w/d in ...   \n",
       "4      None         False  1BR / 2Ba 359ft2 available aug 14 condo w/d in...   \n",
       "\n",
       "       source  \n",
       "0  craigslist  \n",
       "1  craigslist  \n",
       "2  craigslist  \n",
       "3  craigslist  \n",
       "4  craigslist  "
      ]
     },
     "execution_count": 41,
     "metadata": {},
     "output_type": "execute_result"
    }
   ],
   "source": [
    "DF.head()"
   ]
  },
  {
   "cell_type": "code",
   "execution_count": 54,
   "metadata": {},
   "outputs": [
    {
     "data": {
      "text/html": [
       "<div>\n",
       "<style scoped>\n",
       "    .dataframe tbody tr th:only-of-type {\n",
       "        vertical-align: middle;\n",
       "    }\n",
       "\n",
       "    .dataframe tbody tr th {\n",
       "        vertical-align: top;\n",
       "    }\n",
       "\n",
       "    .dataframe thead th {\n",
       "        text-align: right;\n",
       "    }\n",
       "</style>\n",
       "<table border=\"1\" class=\"dataframe\">\n",
       "  <thead>\n",
       "    <tr style=\"text-align: right;\">\n",
       "      <th></th>\n",
       "      <th>id</th>\n",
       "      <th>lat</th>\n",
       "      <th>long</th>\n",
       "      <th>occurrencedate</th>\n",
       "      <th>reporteddate</th>\n",
       "      <th>premisetype</th>\n",
       "      <th>offence</th>\n",
       "      <th>MCI</th>\n",
       "      <th>division</th>\n",
       "      <th>neighbourhood</th>\n",
       "    </tr>\n",
       "  </thead>\n",
       "  <tbody>\n",
       "    <tr>\n",
       "      <th>0</th>\n",
       "      <td>0</td>\n",
       "      <td>43.665787</td>\n",
       "      <td>-79.320106</td>\n",
       "      <td>2019-01-01</td>\n",
       "      <td>2019-01-01</td>\n",
       "      <td>Commercial</td>\n",
       "      <td>Assault With Weapon</td>\n",
       "      <td>Assault</td>\n",
       "      <td>D55</td>\n",
       "      <td>Greenwood-Coxwell (65)</td>\n",
       "    </tr>\n",
       "    <tr>\n",
       "      <th>1</th>\n",
       "      <td>1</td>\n",
       "      <td>43.763969</td>\n",
       "      <td>-79.204781</td>\n",
       "      <td>2019-01-01</td>\n",
       "      <td>2019-05-06</td>\n",
       "      <td>Apartment</td>\n",
       "      <td>Assault</td>\n",
       "      <td>Assault</td>\n",
       "      <td>D43</td>\n",
       "      <td>Woburn (137)</td>\n",
       "    </tr>\n",
       "    <tr>\n",
       "      <th>2</th>\n",
       "      <td>2</td>\n",
       "      <td>43.758972</td>\n",
       "      <td>-79.197578</td>\n",
       "      <td>2019-01-01</td>\n",
       "      <td>2019-02-01</td>\n",
       "      <td>Commercial</td>\n",
       "      <td>Assault</td>\n",
       "      <td>Assault</td>\n",
       "      <td>D43</td>\n",
       "      <td>West Hill (136)</td>\n",
       "    </tr>\n",
       "    <tr>\n",
       "      <th>3</th>\n",
       "      <td>3</td>\n",
       "      <td>43.739082</td>\n",
       "      <td>-79.592819</td>\n",
       "      <td>2019-01-01</td>\n",
       "      <td>2019-04-27</td>\n",
       "      <td>Apartment</td>\n",
       "      <td>Assault</td>\n",
       "      <td>Assault</td>\n",
       "      <td>D23</td>\n",
       "      <td>Mount Olive-Silverstone-Jamestown (2)</td>\n",
       "    </tr>\n",
       "    <tr>\n",
       "      <th>4</th>\n",
       "      <td>4</td>\n",
       "      <td>43.639343</td>\n",
       "      <td>-79.451309</td>\n",
       "      <td>2019-01-01</td>\n",
       "      <td>2019-04-26</td>\n",
       "      <td>Outside</td>\n",
       "      <td>Assault</td>\n",
       "      <td>Assault</td>\n",
       "      <td>D11</td>\n",
       "      <td>High Park-Swansea (87)</td>\n",
       "    </tr>\n",
       "    <tr>\n",
       "      <th>...</th>\n",
       "      <td>...</td>\n",
       "      <td>...</td>\n",
       "      <td>...</td>\n",
       "      <td>...</td>\n",
       "      <td>...</td>\n",
       "      <td>...</td>\n",
       "      <td>...</td>\n",
       "      <td>...</td>\n",
       "      <td>...</td>\n",
       "      <td>...</td>\n",
       "    </tr>\n",
       "    <tr>\n",
       "      <th>37747</th>\n",
       "      <td>37747</td>\n",
       "      <td>43.768410</td>\n",
       "      <td>-79.186226</td>\n",
       "      <td>2019-12-31</td>\n",
       "      <td>2019-12-31</td>\n",
       "      <td>Outside</td>\n",
       "      <td>Assault Bodily Harm</td>\n",
       "      <td>Assault</td>\n",
       "      <td>D43</td>\n",
       "      <td>West Hill (136)</td>\n",
       "    </tr>\n",
       "    <tr>\n",
       "      <th>37748</th>\n",
       "      <td>37748</td>\n",
       "      <td>43.768410</td>\n",
       "      <td>-79.186226</td>\n",
       "      <td>2019-12-31</td>\n",
       "      <td>2019-12-31</td>\n",
       "      <td>Outside</td>\n",
       "      <td>Robbery - Other</td>\n",
       "      <td>Robbery</td>\n",
       "      <td>D43</td>\n",
       "      <td>West Hill (136)</td>\n",
       "    </tr>\n",
       "    <tr>\n",
       "      <th>37749</th>\n",
       "      <td>37749</td>\n",
       "      <td>43.654526</td>\n",
       "      <td>-79.369461</td>\n",
       "      <td>2019-12-31</td>\n",
       "      <td>2019-12-31</td>\n",
       "      <td>Apartment</td>\n",
       "      <td>B&amp;E</td>\n",
       "      <td>Break and Enter</td>\n",
       "      <td>D51</td>\n",
       "      <td>Moss Park (73)</td>\n",
       "    </tr>\n",
       "    <tr>\n",
       "      <th>37750</th>\n",
       "      <td>37750</td>\n",
       "      <td>43.730927</td>\n",
       "      <td>-79.458641</td>\n",
       "      <td>2019-12-31</td>\n",
       "      <td>2019-12-31</td>\n",
       "      <td>Commercial</td>\n",
       "      <td>B&amp;E</td>\n",
       "      <td>Break and Enter</td>\n",
       "      <td>D32</td>\n",
       "      <td>Downsview-Roding-CFB (26)</td>\n",
       "    </tr>\n",
       "    <tr>\n",
       "      <th>37751</th>\n",
       "      <td>37751</td>\n",
       "      <td>43.757614</td>\n",
       "      <td>-79.515366</td>\n",
       "      <td>2019-12-31</td>\n",
       "      <td>2019-12-31</td>\n",
       "      <td>Outside</td>\n",
       "      <td>Assault With Weapon</td>\n",
       "      <td>Assault</td>\n",
       "      <td>D31</td>\n",
       "      <td>Glenfield-Jane Heights (25)</td>\n",
       "    </tr>\n",
       "  </tbody>\n",
       "</table>\n",
       "<p>37752 rows × 10 columns</p>\n",
       "</div>"
      ],
      "text/plain": [
       "          id        lat       long occurrencedate reporteddate premisetype  \\\n",
       "0          0  43.665787 -79.320106     2019-01-01   2019-01-01  Commercial   \n",
       "1          1  43.763969 -79.204781     2019-01-01   2019-05-06   Apartment   \n",
       "2          2  43.758972 -79.197578     2019-01-01   2019-02-01  Commercial   \n",
       "3          3  43.739082 -79.592819     2019-01-01   2019-04-27   Apartment   \n",
       "4          4  43.639343 -79.451309     2019-01-01   2019-04-26     Outside   \n",
       "...      ...        ...        ...            ...          ...         ...   \n",
       "37747  37747  43.768410 -79.186226     2019-12-31   2019-12-31     Outside   \n",
       "37748  37748  43.768410 -79.186226     2019-12-31   2019-12-31     Outside   \n",
       "37749  37749  43.654526 -79.369461     2019-12-31   2019-12-31   Apartment   \n",
       "37750  37750  43.730927 -79.458641     2019-12-31   2019-12-31  Commercial   \n",
       "37751  37751  43.757614 -79.515366     2019-12-31   2019-12-31     Outside   \n",
       "\n",
       "                   offence              MCI division  \\\n",
       "0      Assault With Weapon          Assault      D55   \n",
       "1                  Assault          Assault      D43   \n",
       "2                  Assault          Assault      D43   \n",
       "3                  Assault          Assault      D23   \n",
       "4                  Assault          Assault      D11   \n",
       "...                    ...              ...      ...   \n",
       "37747  Assault Bodily Harm          Assault      D43   \n",
       "37748      Robbery - Other          Robbery      D43   \n",
       "37749                  B&E  Break and Enter      D51   \n",
       "37750                  B&E  Break and Enter      D32   \n",
       "37751  Assault With Weapon          Assault      D31   \n",
       "\n",
       "                               neighbourhood  \n",
       "0                     Greenwood-Coxwell (65)  \n",
       "1                               Woburn (137)  \n",
       "2                            West Hill (136)  \n",
       "3      Mount Olive-Silverstone-Jamestown (2)  \n",
       "4                     High Park-Swansea (87)  \n",
       "...                                      ...  \n",
       "37747                        West Hill (136)  \n",
       "37748                        West Hill (136)  \n",
       "37749                         Moss Park (73)  \n",
       "37750              Downsview-Roding-CFB (26)  \n",
       "37751            Glenfield-Jane Heights (25)  \n",
       "\n",
       "[37752 rows x 10 columns]"
      ]
     },
     "execution_count": 54,
     "metadata": {},
     "output_type": "execute_result"
    }
   ],
   "source": [
    "crime_data"
   ]
  },
  {
   "cell_type": "code",
   "execution_count": 49,
   "metadata": {},
   "outputs": [],
   "source": [
    "DF=DF[DF['FSA'].isin(set(postal_code_data['Postal Code']))]"
   ]
  },
  {
   "cell_type": "markdown",
   "metadata": {},
   "source": [
    "## Save all dataframes as csv"
   ]
  },
  {
   "cell_type": "code",
   "execution_count": 51,
   "metadata": {},
   "outputs": [],
   "source": [
    "DF.to_csv(os.path.join('..','Output','Rental_Craigslist.csv'), index=False)\n",
    "#crime_data.to_csv(os.path.join('..','Output','Crime.csv'), index=False)\n",
    "#bridge_table.to_csv(os.path.join('..','Output','Bridge_Rental_Crime_Craigslist.csv'), index=False)"
   ]
  },
  {
   "cell_type": "code",
   "execution_count": null,
   "metadata": {},
   "outputs": [],
   "source": []
  }
 ],
 "metadata": {
  "kernelspec": {
   "display_name": "Python 3",
   "language": "python",
   "name": "python3"
  },
  "language_info": {
   "codemirror_mode": {
    "name": "ipython",
    "version": 3
   },
   "file_extension": ".py",
   "mimetype": "text/x-python",
   "name": "python",
   "nbconvert_exporter": "python",
   "pygments_lexer": "ipython3",
   "version": "3.8.1"
  }
 },
 "nbformat": 4,
 "nbformat_minor": 4
}

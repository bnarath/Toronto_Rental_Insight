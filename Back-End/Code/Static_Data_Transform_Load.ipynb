{
 "cells": [
  {
   "cell_type": "code",
   "execution_count": 1,
   "metadata": {},
   "outputs": [],
   "source": [
    "from IPython.core.interactiveshell import InteractiveShell\n",
    "InteractiveShell.ast_node_interactivity = 'all'"
   ]
  },
  {
   "cell_type": "code",
   "execution_count": 2,
   "metadata": {},
   "outputs": [],
   "source": [
    "# Dependencies\n",
    "from pymongo import MongoClient\n",
    "import os\n",
    "import pandas as pd\n",
    "import numpy as np\n",
    "import missingno\n",
    "from datetime import datetime\n",
    "\n",
    "from urls_list import * #where all urls and paths are saved\n",
    "from config import *"
   ]
  },
  {
   "cell_type": "markdown",
   "metadata": {},
   "source": [
    "### Check DB for any duplicate rental IDs"
   ]
  },
  {
   "cell_type": "code",
   "execution_count": 28,
   "metadata": {},
   "outputs": [],
   "source": [
    "def checkSanity(collection, pk):\n",
    "    client = MongoClient(db_connection_string)\n",
    "    \n",
    "    records = list(client.ETLInsights[collection].find({}, {pk:1, '_id':0}))\n",
    "    total_unique_records = len(set(post[pk] for post in records))\n",
    "    total_records = client.ETLInsights[collection].count_documents({})\n",
    "    print(f\"Total records: {total_records}\")\n",
    "    print(f\"Total uniique records: {total_unique_records}\")\n",
    "    if(total_unique_records == total_records):\n",
    "        print(f\"{collection} is sane\")\n",
    "    else:\n",
    "        print(f\"Sanity check failed for {collection}\")\n",
    "    client.close()"
   ]
  },
  {
   "cell_type": "code",
   "execution_count": 29,
   "metadata": {},
   "outputs": [
    {
     "name": "stdout",
     "output_type": "stream",
     "text": [
      "Total records: 3315\n",
      "Total uniique records: 3315\n",
      "HistoricRental is sane\n"
     ]
    }
   ],
   "source": [
    "checkSanity(\"HistoricRental\", \"id\")"
   ]
  },
  {
   "cell_type": "code",
   "execution_count": 30,
   "metadata": {},
   "outputs": [
    {
     "name": "stdout",
     "output_type": "stream",
     "text": [
      "Total records: 2938\n",
      "Total uniique records: 2938\n",
      "CurrentRental is sane\n"
     ]
    }
   ],
   "source": [
    "checkSanity(\"CurrentRental\", \"id\")"
   ]
  },
  {
   "cell_type": "markdown",
   "metadata": {},
   "source": [
    "### Insert Kijiji Data to the HistoricRental DB"
   ]
  },
  {
   "cell_type": "code",
   "execution_count": 34,
   "metadata": {},
   "outputs": [],
   "source": [
    "Kijiji = pd.read_csv(os.path.join('..', 'Data', 'kijiji_rental_final.csv'))"
   ]
  },
  {
   "cell_type": "code",
   "execution_count": 80,
   "metadata": {},
   "outputs": [],
   "source": [
    "# client = MongoClient(db_connection_string)\n",
    "# client.ETLInsights.HistoricRental.insert_many(Kijiji.T.to_dict().values())\n",
    "# client.close()"
   ]
  },
  {
   "cell_type": "code",
   "execution_count": 38,
   "metadata": {},
   "outputs": [
    {
     "name": "stdout",
     "output_type": "stream",
     "text": [
      "Total records: 3837\n",
      "Total uniique records: 3837\n",
      "HistoricRental is sane\n"
     ]
    }
   ],
   "source": [
    "checkSanity(\"HistoricRental\", \"id\")"
   ]
  },
  {
   "cell_type": "markdown",
   "metadata": {},
   "source": [
    "### Insert Community assets Data in DB"
   ]
  },
  {
   "cell_type": "code",
   "execution_count": 76,
   "metadata": {},
   "outputs": [],
   "source": [
    "Community_Assets = pd.read_csv(os.path.join('..', 'Data', 'community_assets_with_cooridnates.csv'))"
   ]
  },
  {
   "cell_type": "code",
   "execution_count": 77,
   "metadata": {},
   "outputs": [
    {
     "data": {
      "text/plain": [
       "(array([], dtype=int64),)"
      ]
     },
     "execution_count": 77,
     "metadata": {},
     "output_type": "execute_result"
    },
    {
     "data": {
      "text/plain": [
       "(array([], dtype=int64),)"
      ]
     },
     "execution_count": 77,
     "metadata": {},
     "output_type": "execute_result"
    },
    {
     "data": {
      "text/html": [
       "<div>\n",
       "<style scoped>\n",
       "    .dataframe tbody tr th:only-of-type {\n",
       "        vertical-align: middle;\n",
       "    }\n",
       "\n",
       "    .dataframe tbody tr th {\n",
       "        vertical-align: top;\n",
       "    }\n",
       "\n",
       "    .dataframe thead th {\n",
       "        text-align: right;\n",
       "    }\n",
       "</style>\n",
       "<table border=\"1\" class=\"dataframe\">\n",
       "  <thead>\n",
       "    <tr style=\"text-align: right;\">\n",
       "      <th></th>\n",
       "      <th>service_name</th>\n",
       "      <th>service_name_2</th>\n",
       "    </tr>\n",
       "  </thead>\n",
       "  <tbody>\n",
       "    <tr>\n",
       "      <th>0</th>\n",
       "      <td>Child and Family Services Review Board</td>\n",
       "      <td>NaN</td>\n",
       "    </tr>\n",
       "    <tr>\n",
       "      <th>1</th>\n",
       "      <td>Custody Review Board</td>\n",
       "      <td>NaN</td>\n",
       "    </tr>\n",
       "    <tr>\n",
       "      <th>2</th>\n",
       "      <td>Social Justice Tribunals Ontario</td>\n",
       "      <td>NaN</td>\n",
       "    </tr>\n",
       "    <tr>\n",
       "      <th>3</th>\n",
       "      <td>Anita Ekstein Holocaust Resource Library</td>\n",
       "      <td>NaN</td>\n",
       "    </tr>\n",
       "    <tr>\n",
       "      <th>4</th>\n",
       "      <td>Alexandra Park Community Centre</td>\n",
       "      <td>NaN</td>\n",
       "    </tr>\n",
       "    <tr>\n",
       "      <th>...</th>\n",
       "      <td>...</td>\n",
       "      <td>...</td>\n",
       "    </tr>\n",
       "    <tr>\n",
       "      <th>2675</th>\n",
       "      <td>Prosper Canada</td>\n",
       "      <td>NaN</td>\n",
       "    </tr>\n",
       "    <tr>\n",
       "      <th>2676</th>\n",
       "      <td>Al Green Resource Centre</td>\n",
       "      <td>NaN</td>\n",
       "    </tr>\n",
       "    <tr>\n",
       "      <th>2677</th>\n",
       "      <td>CARE Centre for Internationally Educated Nurses</td>\n",
       "      <td>NaN</td>\n",
       "    </tr>\n",
       "    <tr>\n",
       "      <th>2678</th>\n",
       "      <td>Canadian Safe School Network</td>\n",
       "      <td>NaN</td>\n",
       "    </tr>\n",
       "    <tr>\n",
       "      <th>2679</th>\n",
       "      <td>Ability Learning Network</td>\n",
       "      <td>NaN</td>\n",
       "    </tr>\n",
       "  </tbody>\n",
       "</table>\n",
       "<p>2680 rows × 2 columns</p>\n",
       "</div>"
      ],
      "text/plain": [
       "                                         service_name service_name_2\n",
       "0              Child and Family Services Review Board            NaN\n",
       "1                                Custody Review Board            NaN\n",
       "2                    Social Justice Tribunals Ontario            NaN\n",
       "3            Anita Ekstein Holocaust Resource Library            NaN\n",
       "4                     Alexandra Park Community Centre            NaN\n",
       "...                                               ...            ...\n",
       "2675                                   Prosper Canada            NaN\n",
       "2676                         Al Green Resource Centre            NaN\n",
       "2677  CARE Centre for Internationally Educated Nurses            NaN\n",
       "2678                     Canadian Safe School Network            NaN\n",
       "2679                         Ability Learning Network            NaN\n",
       "\n",
       "[2680 rows x 2 columns]"
      ]
     },
     "execution_count": 77,
     "metadata": {},
     "output_type": "execute_result"
    },
    {
     "data": {
      "text/plain": [
       "(array([], dtype=int64),)"
      ]
     },
     "execution_count": 77,
     "metadata": {},
     "output_type": "execute_result"
    },
    {
     "data": {
      "image/png": "[encoded data removed]",
      "text/plain": [
       "<Figure size 1800x720 with 2 Axes>"
      ]
     },
     "metadata": {
      "needs_background": "light"
     },
     "output_type": "display_data"
    }
   ],
   "source": [
    "np.where(Community_Assets['id']!=Community_Assets['id.1'])\n",
    "np.where(Community_Assets['address']!=Community_Assets['address.1'])\n",
    "Community_Assets[['service_name','service_name_2']] \n",
    "\n",
    "#Cleaunp\n",
    "Community_Assets.drop(['id', 'id.1', 'address.1'], axis=1, inplace=True) #id is not in order; 'id.1', 'address.1' are repeated\n",
    "Community_Assets.reset_index(inplace=True)\n",
    "Community_Assets.rename(columns={\"index\":\"id\"}, inplace=True)\n",
    "\n",
    "\n",
    "#Check for nan\n",
    "missingdata_cols = Community_Assets.columns[Community_Assets.isnull().any()].to_list()\n",
    "#visualize nan\n",
    "_=missingno.matrix(Community_Assets[missingdata_cols], color=(0.7,0.3,0.3))\n",
    "np.where(Community_Assets.duplicated()) #No rows are duplicated"
   ]
  },
  {
   "cell_type": "code",
   "execution_count": 79,
   "metadata": {},
   "outputs": [],
   "source": [
    "# client = MongoClient(db_connection_string)\n",
    "# client.ETLInsights.CommunityAssets.insert_many(Community_Assets.T.to_dict().values())\n",
    "# client.close()"
   ]
  },
  {
   "cell_type": "code",
   "execution_count": 81,
   "metadata": {},
   "outputs": [
    {
     "name": "stdout",
     "output_type": "stream",
     "text": [
      "Total records: 2680\n",
      "Total uniique records: 2680\n",
      "CommunityAssets is sane\n"
     ]
    }
   ],
   "source": [
    "checkSanity(\"CommunityAssets\", \"id\")"
   ]
  },
  {
   "cell_type": "markdown",
   "metadata": {},
   "source": [
    "### Insert Crime Data in DB"
   ]
  },
  {
   "cell_type": "code",
   "execution_count": 120,
   "metadata": {},
   "outputs": [
    {
     "data": {
      "text/plain": [
       "(array([], dtype=int64),)"
      ]
     },
     "execution_count": 120,
     "metadata": {},
     "output_type": "execute_result"
    }
   ],
   "source": [
    "#Crime is from 2019 Jan 01 onwards\n",
    "Crime = pd.read_csv(os.path.join('..', 'Data', 'Crime.csv'))\n",
    "np.where(Crime.duplicated()) #No rows are duplicated\n",
    "#CrimeLastSixMonths is from 2019 June 01 onwards\n",
    "CrimeLastSixMonths = Crime[Crime['occurrencedate'].map(lambda x: datetime.strptime(x, \"%Y-%m-%d\")>=datetime.strptime('2019-06-01', \"%Y-%m-%d\"))].copy()   \n",
    "CrimeLastSixMonths.drop(['id'], axis=1, inplace=True)\n",
    "CrimeLastSixMonths.reset_index(drop=True, inplace=True)\n",
    "CrimeLastSixMonths.reset_index(inplace=True)\n",
    "CrimeLastSixMonths.rename(columns={\"index\":\"id\"}, inplace=True)"
   ]
  },
  {
   "cell_type": "code",
   "execution_count": 125,
   "metadata": {},
   "outputs": [],
   "source": [
    "# client = MongoClient(db_connection_string)\n",
    "# client.ETLInsights.Crime.insert_many(Crime.T.to_dict().values())\n",
    "# client.ETLInsights.CrimeLastSixMonths.insert_many(CrimeLastSixMonths.T.to_dict().values())\n",
    "# client.close()"
   ]
  },
  {
   "cell_type": "code",
   "execution_count": 126,
   "metadata": {},
   "outputs": [
    {
     "name": "stdout",
     "output_type": "stream",
     "text": [
      "Total records: 37752\n",
      "Total uniique records: 37752\n",
      "Crime is sane\n"
     ]
    }
   ],
   "source": [
    "checkSanity(\"Crime\", \"id\")"
   ]
  },
  {
   "cell_type": "code",
   "execution_count": 127,
   "metadata": {},
   "outputs": [
    {
     "name": "stdout",
     "output_type": "stream",
     "text": [
      "Total records: 22949\n",
      "Total uniique records: 22949\n",
      "CrimeLastSixMonths is sane\n"
     ]
    }
   ],
   "source": [
    "checkSanity(\"CrimeLastSixMonths\", \"id\")"
   ]
  },
  {
   "cell_type": "markdown",
   "metadata": {},
   "source": [
    "### Insert Income Data in DB"
   ]
  },
  {
   "cell_type": "code",
   "execution_count": 128,
   "metadata": {},
   "outputs": [],
   "source": [
    "FSA_Avg_Income = pd.read_csv(os.path.join('..', 'Data', 'FSA_Avg_Income.csv'))"
   ]
  },
  {
   "cell_type": "code",
   "execution_count": 136,
   "metadata": {},
   "outputs": [
    {
     "data": {
      "text/plain": [
       "<pymongo.results.InsertManyResult at 0x7f971aa50180>"
      ]
     },
     "execution_count": 136,
     "metadata": {},
     "output_type": "execute_result"
    }
   ],
   "source": [
    "# client = MongoClient(db_connection_string)\n",
    "# client.ETLInsights.FSAIncome.insert_many(FSA_Avg_Income.T.to_dict().values())\n",
    "# client.close()"
   ]
  },
  {
   "cell_type": "code",
   "execution_count": 137,
   "metadata": {},
   "outputs": [
    {
     "name": "stdout",
     "output_type": "stream",
     "text": [
      "Total records: 197\n",
      "Total uniique records: 197\n",
      "FSAIncome is sane\n"
     ]
    }
   ],
   "source": [
    "checkSanity(\"FSAIncome\", \"FSA\")"
   ]
  },
  {
   "cell_type": "markdown",
   "metadata": {},
   "source": [
    "### Type cast price to int"
   ]
  },
  {
   "cell_type": "code",
   "execution_count": null,
   "metadata": {},
   "outputs": [],
   "source": [
    "# client = MongoClient(db_connection_string)\n",
    "# client.ETLInsights.FSAIncome.insert_many(FSA_Avg_Income.T.to_dict().values())\n",
    "# client.close()\n",
    "\n"
   ]
  },
  {
   "cell_type": "code",
   "execution_count": 3,
   "metadata": {},
   "outputs": [
    {
     "data": {
      "text/plain": [
       "['Assault',\n",
       " 'Auto Theft',\n",
       " 'Break and Enter',\n",
       " 'Homicide',\n",
       " 'Robbery',\n",
       " 'Theft Over']"
      ]
     },
     "execution_count": 3,
     "metadata": {},
     "output_type": "execute_result"
    }
   ],
   "source": [
    "client = MongoClient(db_connection_string)\n",
    "client.ETLInsights.Crime.distinct(\"MCI\")"
   ]
  },
  {
   "cell_type": "code",
   "execution_count": null,
   "metadata": {},
   "outputs": [],
   "source": []
  }
 ],
 "metadata": {
  "kernelspec": {
   "display_name": "Python 3",
   "language": "python",
   "name": "python3"
  },
  "language_info": {
   "codemirror_mode": {
    "name": "ipython",
    "version": 3
   },
   "file_extension": ".py",
   "mimetype": "text/x-python",
   "name": "python",
   "nbconvert_exporter": "python",
   "pygments_lexer": "ipython3",
   "version": "3.8.1"
  }
 },
 "nbformat": 4,
 "nbformat_minor": 4
}

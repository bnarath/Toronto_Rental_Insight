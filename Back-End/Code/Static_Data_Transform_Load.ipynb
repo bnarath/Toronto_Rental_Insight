{
 "cells": [
  {
   "cell_type": "code",
   "execution_count": 1,
   "metadata": {},
   "outputs": [],
   "source": [
    "from IPython.core.interactiveshell import InteractiveShell\n",
    "InteractiveShell.ast_node_interactivity = 'all'"
   ]
  },
  {
   "cell_type": "code",
   "execution_count": 33,
   "metadata": {},
   "outputs": [],
   "source": [
    "# Dependencies\n",
    "from pymongo import MongoClient\n",
    "import os\n",
    "import pandas as pd\n",
    "\n",
    "from urls_list import * #where all urls and paths are saved\n",
    "from config import *"
   ]
  },
  {
   "cell_type": "markdown",
   "metadata": {},
   "source": [
    "### Check DB for any duplicate rental IDs"
   ]
  },
  {
   "cell_type": "code",
   "execution_count": 28,
   "metadata": {},
   "outputs": [],
   "source": [
    "def checkSanity(collection, pk):\n",
    "    client = MongoClient(db_connection_string)\n",
    "    \n",
    "    records = list(client.ETLInsights[collection].find({}, {pk:1, '_id':0}))\n",
    "    total_unique_records = len(set(post[pk] for post in records))\n",
    "    total_records = client.ETLInsights[collection].count_documents({})\n",
    "    print(f\"Total records: {total_records}\")\n",
    "    print(f\"Total uniique records: {total_unique_records}\")\n",
    "    if(total_unique_records == total_records):\n",
    "        print(f\"{collection} is sane\")\n",
    "    else:\n",
    "        print(f\"Sanity check failed for {collection}\")\n",
    "    client.close()"
   ]
  },
  {
   "cell_type": "code",
   "execution_count": 29,
   "metadata": {},
   "outputs": [
    {
     "name": "stdout",
     "output_type": "stream",
     "text": [
      "Total records: 3315\n",
      "Total uniique records: 3315\n",
      "HistoricRental is sane\n"
     ]
    }
   ],
   "source": [
    "checkSanity(\"HistoricRental\", \"id\")"
   ]
  },
  {
   "cell_type": "code",
   "execution_count": 30,
   "metadata": {},
   "outputs": [
    {
     "name": "stdout",
     "output_type": "stream",
     "text": [
      "Total records: 2938\n",
      "Total uniique records: 2938\n",
      "CurrentRental is sane\n"
     ]
    }
   ],
   "source": [
    "checkSanity(\"CurrentRental\", \"id\")"
   ]
  },
  {
   "cell_type": "markdown",
   "metadata": {},
   "source": [
    "### Insert Kijiji Data to the HistoricRental DB"
   ]
  },
  {
   "cell_type": "code",
   "execution_count": 34,
   "metadata": {},
   "outputs": [],
   "source": [
    "Kijiji = pd.read_csv(os.path.join('..', 'Data', 'kijiji_rental_final.csv'))"
   ]
  },
  {
   "cell_type": "code",
   "execution_count": 37,
   "metadata": {},
   "outputs": [
    {
     "data": {
      "text/plain": [
       "<pymongo.results.InsertManyResult at 0x7f973077f640>"
      ]
     },
     "execution_count": 37,
     "metadata": {},
     "output_type": "execute_result"
    }
   ],
   "source": [
    "client = MongoClient(db_connection_string)\n",
    "client.ETLInsights.HistoricRental.insert_many(Kijiji.T.to_dict().values())\n",
    "client.close()"
   ]
  },
  {
   "cell_type": "code",
   "execution_count": 38,
   "metadata": {},
   "outputs": [
    {
     "name": "stdout",
     "output_type": "stream",
     "text": [
      "Total records: 3837\n",
      "Total uniique records: 3837\n",
      "HistoricRental is sane\n"
     ]
    }
   ],
   "source": [
    "checkSanity(\"HistoricRental\", \"id\")"
   ]
  },
  {
   "cell_type": "markdown",
   "metadata": {},
   "source": [
    "### Insert Community assets Data in DB"
   ]
  },
  {
   "cell_type": "code",
   "execution_count": null,
   "metadata": {},
   "outputs": [],
   "source": []
  }
 ],
 "metadata": {
  "kernelspec": {
   "display_name": "Python 3",
   "language": "python",
   "name": "python3"
  },
  "language_info": {
   "codemirror_mode": {
    "name": "ipython",
    "version": 3
   },
   "file_extension": ".py",
   "mimetype": "text/x-python",
   "name": "python",
   "nbconvert_exporter": "python",
   "pygments_lexer": "ipython3",
   "version": "3.8.1"
  }
 },
 "nbformat": 4,
 "nbformat_minor": 4
}
